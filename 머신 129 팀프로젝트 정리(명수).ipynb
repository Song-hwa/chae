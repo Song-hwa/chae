{
 "cells": [
  {
   "cell_type": "code",
   "execution_count": 1,
   "metadata": {},
   "outputs": [],
   "source": [
    "import numpy as np\n",
    "import pandas as pd\n",
    "import matplotlib.pyplot as plt\n",
    "import random as rd\n",
    "import seaborn as sns\n",
    "from sklearn import metrics\n",
    "from sklearn.model_selection import KFold, cross_val_score, cross_val_predict\n",
    "from sklearn.model_selection import train_test_split\n",
    "from sklearn.ensemble import RandomForestClassifier # 60\n",
    "from sklearn.neighbors import KNeighborsClassifier\n",
    "from sklearn.ensemble import AdaBoostClassifier\n",
    "from sklearn.metrics import accuracy_score\n",
    "from sklearn.ensemble import GradientBoostingClassifier\n",
    "from sklearn import svm\n",
    "from sklearn.tree import DecisionTreeClassifier\n",
    "from sklearn.linear_model import LogisticRegression\n",
    "from sklearn.preprocessing import StandardScaler\n",
    "from sklearn.preprocessing import MinMaxScaler\n",
    "from lightgbm import LGBMClassifier\n",
    "from sklearn.svm import LinearSVC\n",
    "from xgboost import XGBClassifier"
   ]
  },
  {
   "cell_type": "code",
   "execution_count": 2,
   "metadata": {},
   "outputs": [
    {
     "name": "stdout",
     "output_type": "stream",
     "text": [
      "Requirement already satisfied: lightgbm in c:\\users\\sm2141\\anaconda3\\lib\\site-packages (3.2.1)"
     ]
    },
    {
     "name": "stderr",
     "output_type": "stream",
     "text": [
      "WARNING: You are using pip version 21.1.2; however, version 21.1.3 is available.\n",
      "You should consider upgrading via the 'c:\\users\\sm2141\\anaconda3\\python.exe -m pip install --upgrade pip' command.\n"
     ]
    },
    {
     "name": "stdout",
     "output_type": "stream",
     "text": [
      "\n",
      "Requirement already satisfied: scipy in c:\\users\\sm2141\\anaconda3\\lib\\site-packages (from lightgbm) (1.5.2)\n",
      "Requirement already satisfied: scikit-learn!=0.22.0 in c:\\users\\sm2141\\anaconda3\\lib\\site-packages (from lightgbm) (0.23.2)\n",
      "Requirement already satisfied: numpy in c:\\users\\sm2141\\anaconda3\\lib\\site-packages (from lightgbm) (1.19.2)\n",
      "Requirement already satisfied: wheel in c:\\users\\sm2141\\anaconda3\\lib\\site-packages (from lightgbm) (0.35.1)\n",
      "Requirement already satisfied: threadpoolctl>=2.0.0 in c:\\users\\sm2141\\anaconda3\\lib\\site-packages (from scikit-learn!=0.22.0->lightgbm) (2.1.0)\n",
      "Requirement already satisfied: joblib>=0.11 in c:\\users\\sm2141\\anaconda3\\lib\\site-packages (from scikit-learn!=0.22.0->lightgbm) (0.17.0)\n"
     ]
    }
   ],
   "source": [
    "!pip install lightgbm"
   ]
  },
  {
   "cell_type": "code",
   "execution_count": 3,
   "metadata": {},
   "outputs": [
    {
     "name": "stdout",
     "output_type": "stream",
     "text": [
      "Requirement already satisfied: xgboost in c:\\users\\sm2141\\anaconda3\\lib\\site-packages (1.4.2)\n",
      "Requirement already satisfied: scipy in c:\\users\\sm2141\\anaconda3\\lib\\site-packages (from xgboost) (1.5.2)\n",
      "Requirement already satisfied: numpy in c:\\users\\sm2141\\anaconda3\\lib\\site-packages (from xgboost) (1.19.2)\n"
     ]
    },
    {
     "name": "stderr",
     "output_type": "stream",
     "text": [
      "WARNING: You are using pip version 21.1.2; however, version 21.1.3 is available.\n",
      "You should consider upgrading via the 'c:\\users\\sm2141\\anaconda3\\python.exe -m pip install --upgrade pip' command.\n"
     ]
    }
   ],
   "source": [
    "!pip install xgboost"
   ]
  },
  {
   "cell_type": "markdown",
   "metadata": {},
   "source": [
    "# 문제 정의"
   ]
  },
  {
   "cell_type": "code",
   "execution_count": 4,
   "metadata": {},
   "outputs": [],
   "source": [
    "# 문제 정의\n",
    "# 설문조사를 통한 강아지 추천\n"
   ]
  },
  {
   "cell_type": "code",
   "execution_count": 6,
   "metadata": {},
   "outputs": [
    {
     "ename": "NameError",
     "evalue": "name 'v1' is not defined",
     "output_type": "error",
     "traceback": [
      "\u001b[1;31m---------------------------------------------------------------------------\u001b[0m",
      "\u001b[1;31mNameError\u001b[0m                                 Traceback (most recent call last)",
      "\u001b[1;32m<ipython-input-6-ef7e169b0e95>\u001b[0m in \u001b[0;36m<module>\u001b[1;34m\u001b[0m\n\u001b[1;32m----> 1\u001b[1;33m \u001b[0mpd\u001b[0m\u001b[1;33m.\u001b[0m\u001b[0mDataFrame\u001b[0m\u001b[1;33m(\u001b[0m\u001b[1;33m{\u001b[0m\u001b[1;34m'이름'\u001b[0m\u001b[1;33m:\u001b[0m\u001b[1;33m[\u001b[0m\u001b[0mv1\u001b[0m\u001b[1;33m]\u001b[0m\u001b[1;33m,\u001b[0m\u001b[1;34m'나이'\u001b[0m\u001b[1;33m:\u001b[0m\u001b[1;33m[\u001b[0m\u001b[1;34m''\u001b[0m\u001b[1;33m]\u001b[0m\u001b[1;33m}\u001b[0m\u001b[1;33m)\u001b[0m\u001b[1;33m\u001b[0m\u001b[1;33m\u001b[0m\u001b[0m\n\u001b[0m",
      "\u001b[1;31mNameError\u001b[0m: name 'v1' is not defined"
     ]
    }
   ],
   "source": []
  },
  {
   "cell_type": "markdown",
   "metadata": {},
   "source": [
    "# 데이터 수집하기"
   ]
  },
  {
   "cell_type": "code",
   "execution_count": 8,
   "metadata": {
    "scrolled": true
   },
   "outputs": [
    {
     "data": {
      "text/plain": [
       "슈나우저       100\n",
       "말티즈         63\n",
       "푸들          58\n",
       "믹스견         57\n",
       "진돗개         57\n",
       "포메라니안       56\n",
       "시츄          54\n",
       "치와와         53\n",
       "허스키         53\n",
       "미니핀         52\n",
       "코카스파니엘      52\n",
       "비숑          51\n",
       "러프콜리        51\n",
       "웰시코기        51\n",
       "요크셔테리어      51\n",
       "달마시안        51\n",
       "풍산개         50\n",
       "보더콜리        50\n",
       "그레이 하운드     50\n",
       "시바견         50\n",
       "말라뮤트        50\n",
       "미니어쳐 핀셔     50\n",
       "셰퍼트         50\n",
       "사모예드        50\n",
       "닥스훈트        50\n",
       "파피용         50\n",
       "불독          50\n",
       "삽살개         50\n",
       "골든 리트리버     50\n",
       "차우차우        50\n",
       "아키타         50\n",
       "도베르만        50\n",
       "요키           1\n",
       "포메리안         1\n",
       "말티지          1\n",
       "발바리          1\n",
       "Name: 이름, dtype: int64"
      ]
     },
     "execution_count": 8,
     "metadata": {},
     "output_type": "execute_result"
    }
   ],
   "source": [
    "\n",
    "dog = pd.read_csv('TotalDog.csv', encoding='euc-kr')\n",
    "dog['이름'].value_counts()\n",
    "\n",
    "# pd.set_option('display.max_row', 2000)\n",
    "# pd.set_option('display.max_columns', 2000)\n"
   ]
  },
  {
   "cell_type": "code",
   "execution_count": 9,
   "metadata": {
    "scrolled": true
   },
   "outputs": [
    {
     "data": {
      "text/html": [
       "<div>\n",
       "<style scoped>\n",
       "    .dataframe tbody tr th:only-of-type {\n",
       "        vertical-align: middle;\n",
       "    }\n",
       "\n",
       "    .dataframe tbody tr th {\n",
       "        vertical-align: top;\n",
       "    }\n",
       "\n",
       "    .dataframe thead th {\n",
       "        text-align: right;\n",
       "    }\n",
       "</style>\n",
       "<table border=\"1\" class=\"dataframe\">\n",
       "  <thead>\n",
       "    <tr style=\"text-align: right;\">\n",
       "      <th></th>\n",
       "      <th>이름</th>\n",
       "      <th>크기</th>\n",
       "      <th>거주환경</th>\n",
       "      <th>실내실외</th>\n",
       "      <th>외로움</th>\n",
       "      <th>운동량</th>\n",
       "      <th>털빠짐</th>\n",
       "      <th>친화성(애교)</th>\n",
       "      <th>의료비용</th>\n",
       "      <th>개짖음</th>\n",
       "      <th>집지키기</th>\n",
       "    </tr>\n",
       "  </thead>\n",
       "  <tbody>\n",
       "    <tr>\n",
       "      <th>0</th>\n",
       "      <td>그레이 하운드</td>\n",
       "      <td>L</td>\n",
       "      <td>A</td>\n",
       "      <td>I</td>\n",
       "      <td>4</td>\n",
       "      <td>4</td>\n",
       "      <td>2</td>\n",
       "      <td>5</td>\n",
       "      <td>10u</td>\n",
       "      <td>4</td>\n",
       "      <td>1</td>\n",
       "    </tr>\n",
       "    <tr>\n",
       "      <th>1</th>\n",
       "      <td>그레이 하운드</td>\n",
       "      <td>L</td>\n",
       "      <td>A</td>\n",
       "      <td>I</td>\n",
       "      <td>4</td>\n",
       "      <td>4</td>\n",
       "      <td>3</td>\n",
       "      <td>5</td>\n",
       "      <td>30o</td>\n",
       "      <td>4</td>\n",
       "      <td>4</td>\n",
       "    </tr>\n",
       "    <tr>\n",
       "      <th>2</th>\n",
       "      <td>그레이 하운드</td>\n",
       "      <td>L</td>\n",
       "      <td>A</td>\n",
       "      <td>I</td>\n",
       "      <td>3</td>\n",
       "      <td>4</td>\n",
       "      <td>3</td>\n",
       "      <td>3</td>\n",
       "      <td>30o</td>\n",
       "      <td>2</td>\n",
       "      <td>1</td>\n",
       "    </tr>\n",
       "    <tr>\n",
       "      <th>3</th>\n",
       "      <td>그레이 하운드</td>\n",
       "      <td>L</td>\n",
       "      <td>A</td>\n",
       "      <td>I</td>\n",
       "      <td>4</td>\n",
       "      <td>4</td>\n",
       "      <td>2</td>\n",
       "      <td>5</td>\n",
       "      <td>10u</td>\n",
       "      <td>1</td>\n",
       "      <td>3</td>\n",
       "    </tr>\n",
       "    <tr>\n",
       "      <th>4</th>\n",
       "      <td>그레이 하운드</td>\n",
       "      <td>L</td>\n",
       "      <td>A</td>\n",
       "      <td>I</td>\n",
       "      <td>4</td>\n",
       "      <td>4</td>\n",
       "      <td>2</td>\n",
       "      <td>4</td>\n",
       "      <td>30u</td>\n",
       "      <td>3</td>\n",
       "      <td>2</td>\n",
       "    </tr>\n",
       "    <tr>\n",
       "      <th>...</th>\n",
       "      <td>...</td>\n",
       "      <td>...</td>\n",
       "      <td>...</td>\n",
       "      <td>...</td>\n",
       "      <td>...</td>\n",
       "      <td>...</td>\n",
       "      <td>...</td>\n",
       "      <td>...</td>\n",
       "      <td>...</td>\n",
       "      <td>...</td>\n",
       "      <td>...</td>\n",
       "    </tr>\n",
       "    <tr>\n",
       "      <th>1709</th>\n",
       "      <td>골든 리트리버</td>\n",
       "      <td>L</td>\n",
       "      <td>J</td>\n",
       "      <td>IO</td>\n",
       "      <td>2</td>\n",
       "      <td>4</td>\n",
       "      <td>5</td>\n",
       "      <td>4</td>\n",
       "      <td>10u</td>\n",
       "      <td>3</td>\n",
       "      <td>2</td>\n",
       "    </tr>\n",
       "    <tr>\n",
       "      <th>1710</th>\n",
       "      <td>골든 리트리버</td>\n",
       "      <td>M</td>\n",
       "      <td>J</td>\n",
       "      <td>IO</td>\n",
       "      <td>1</td>\n",
       "      <td>3</td>\n",
       "      <td>5</td>\n",
       "      <td>5</td>\n",
       "      <td>10u</td>\n",
       "      <td>2</td>\n",
       "      <td>2</td>\n",
       "    </tr>\n",
       "    <tr>\n",
       "      <th>1711</th>\n",
       "      <td>골든 리트리버</td>\n",
       "      <td>L</td>\n",
       "      <td>J</td>\n",
       "      <td>IO</td>\n",
       "      <td>2</td>\n",
       "      <td>3</td>\n",
       "      <td>4</td>\n",
       "      <td>5</td>\n",
       "      <td>30o</td>\n",
       "      <td>3</td>\n",
       "      <td>3</td>\n",
       "    </tr>\n",
       "    <tr>\n",
       "      <th>1712</th>\n",
       "      <td>골든 리트리버</td>\n",
       "      <td>M</td>\n",
       "      <td>J</td>\n",
       "      <td>IO</td>\n",
       "      <td>1</td>\n",
       "      <td>4</td>\n",
       "      <td>5</td>\n",
       "      <td>5</td>\n",
       "      <td>10u</td>\n",
       "      <td>2</td>\n",
       "      <td>3</td>\n",
       "    </tr>\n",
       "    <tr>\n",
       "      <th>1713</th>\n",
       "      <td>골든 리트리버</td>\n",
       "      <td>L</td>\n",
       "      <td>J</td>\n",
       "      <td>IO</td>\n",
       "      <td>2</td>\n",
       "      <td>4</td>\n",
       "      <td>4</td>\n",
       "      <td>4</td>\n",
       "      <td>10u</td>\n",
       "      <td>3</td>\n",
       "      <td>2</td>\n",
       "    </tr>\n",
       "  </tbody>\n",
       "</table>\n",
       "<p>1714 rows × 11 columns</p>\n",
       "</div>"
      ],
      "text/plain": [
       "           이름 크기 거주환경 실내실외  외로움  운동량  털빠짐  친화성(애교) 의료비용  개짖음  집지키기\n",
       "0     그레이 하운드  L    A    I    4    4    2        5  10u    4     1\n",
       "1     그레이 하운드  L    A    I    4    4    3        5  30o    4     4\n",
       "2     그레이 하운드  L    A    I    3    4    3        3  30o    2     1\n",
       "3     그레이 하운드  L    A    I    4    4    2        5  10u    1     3\n",
       "4     그레이 하운드  L    A    I    4    4    2        4  30u    3     2\n",
       "...       ... ..  ...  ...  ...  ...  ...      ...  ...  ...   ...\n",
       "1709  골든 리트리버  L    J   IO    2    4    5        4  10u    3     2\n",
       "1710  골든 리트리버  M    J   IO    1    3    5        5  10u    2     2\n",
       "1711  골든 리트리버  L    J   IO    2    3    4        5  30o    3     3\n",
       "1712  골든 리트리버  M    J   IO    1    4    5        5  10u    2     3\n",
       "1713  골든 리트리버  L    J   IO    2    4    4        4  10u    3     2\n",
       "\n",
       "[1714 rows x 11 columns]"
      ]
     },
     "execution_count": 9,
     "metadata": {},
     "output_type": "execute_result"
    }
   ],
   "source": [
    "dog"
   ]
  },
  {
   "cell_type": "code",
   "execution_count": null,
   "metadata": {},
   "outputs": [],
   "source": []
  },
  {
   "cell_type": "markdown",
   "metadata": {},
   "source": [
    "# 데이터 전처리"
   ]
  },
  {
   "cell_type": "code",
   "execution_count": 10,
   "metadata": {},
   "outputs": [
    {
     "data": {
      "text/html": [
       "<div>\n",
       "<style scoped>\n",
       "    .dataframe tbody tr th:only-of-type {\n",
       "        vertical-align: middle;\n",
       "    }\n",
       "\n",
       "    .dataframe tbody tr th {\n",
       "        vertical-align: top;\n",
       "    }\n",
       "\n",
       "    .dataframe thead th {\n",
       "        text-align: right;\n",
       "    }\n",
       "</style>\n",
       "<table border=\"1\" class=\"dataframe\">\n",
       "  <thead>\n",
       "    <tr style=\"text-align: right;\">\n",
       "      <th></th>\n",
       "      <th>의료비용_10u</th>\n",
       "      <th>의료비용_30o</th>\n",
       "      <th>의료비용_30u</th>\n",
       "    </tr>\n",
       "  </thead>\n",
       "  <tbody>\n",
       "    <tr>\n",
       "      <th>50</th>\n",
       "      <td>1</td>\n",
       "      <td>0</td>\n",
       "      <td>0</td>\n",
       "    </tr>\n",
       "    <tr>\n",
       "      <th>51</th>\n",
       "      <td>1</td>\n",
       "      <td>0</td>\n",
       "      <td>0</td>\n",
       "    </tr>\n",
       "    <tr>\n",
       "      <th>52</th>\n",
       "      <td>1</td>\n",
       "      <td>0</td>\n",
       "      <td>0</td>\n",
       "    </tr>\n",
       "    <tr>\n",
       "      <th>53</th>\n",
       "      <td>0</td>\n",
       "      <td>0</td>\n",
       "      <td>1</td>\n",
       "    </tr>\n",
       "    <tr>\n",
       "      <th>54</th>\n",
       "      <td>1</td>\n",
       "      <td>0</td>\n",
       "      <td>0</td>\n",
       "    </tr>\n",
       "    <tr>\n",
       "      <th>...</th>\n",
       "      <td>...</td>\n",
       "      <td>...</td>\n",
       "      <td>...</td>\n",
       "    </tr>\n",
       "    <tr>\n",
       "      <th>1709</th>\n",
       "      <td>1</td>\n",
       "      <td>0</td>\n",
       "      <td>0</td>\n",
       "    </tr>\n",
       "    <tr>\n",
       "      <th>1710</th>\n",
       "      <td>1</td>\n",
       "      <td>0</td>\n",
       "      <td>0</td>\n",
       "    </tr>\n",
       "    <tr>\n",
       "      <th>1711</th>\n",
       "      <td>0</td>\n",
       "      <td>1</td>\n",
       "      <td>0</td>\n",
       "    </tr>\n",
       "    <tr>\n",
       "      <th>1712</th>\n",
       "      <td>1</td>\n",
       "      <td>0</td>\n",
       "      <td>0</td>\n",
       "    </tr>\n",
       "    <tr>\n",
       "      <th>1713</th>\n",
       "      <td>1</td>\n",
       "      <td>0</td>\n",
       "      <td>0</td>\n",
       "    </tr>\n",
       "  </tbody>\n",
       "</table>\n",
       "<p>1263 rows × 3 columns</p>\n",
       "</div>"
      ],
      "text/plain": [
       "      의료비용_10u  의료비용_30o  의료비용_30u\n",
       "50           1         0         0\n",
       "51           1         0         0\n",
       "52           1         0         0\n",
       "53           0         0         1\n",
       "54           1         0         0\n",
       "...        ...       ...       ...\n",
       "1709         1         0         0\n",
       "1710         1         0         0\n",
       "1711         0         1         0\n",
       "1712         1         0         0\n",
       "1713         1         0         0\n",
       "\n",
       "[1263 rows x 3 columns]"
      ]
     },
     "execution_count": 10,
     "metadata": {},
     "output_type": "execute_result"
    }
   ],
   "source": [
    "\n",
    "dog['의료비용'] = dog['의료비용'].replace('35u','30u')\n",
    "dog['의료비용'] = dog['의료비용'].replace('40u','30o')\n",
    "dog['의료비용'] = dog['의료비용'].replace('35o','30o')\n",
    "dog['이름'] = dog['이름'].replace('말티지','말티즈')\n",
    "dog['이름'] = dog['이름'].replace('발바리','믹스견')\n",
    "dog['이름'] = dog['이름'].replace('요키','믹스견')\n",
    "dog['이름'] = dog['이름'].replace('포메리안','포메라니안')\n",
    "dog['이름'].unique()\n",
    "dog['이름'].value_counts()\n",
    "\n",
    "\n",
    "dog['이름'] = dog[dog[\"이름\"] !=\"슈나우저\"]\n",
    "dog['이름'] = dog[dog[\"이름\"] !=\"비숑\"]\n",
    "dog['이름'] = dog[dog[\"이름\"] !=\"시바견\"]\n",
    "dog['이름'] = dog[dog[\"이름\"] !=\"삽살개\"]\n",
    "dog['이름'] = dog[dog[\"이름\"] !=\"사모예드\"]\n",
    "dog['이름'] = dog[dog[\"이름\"] !=\"아키타\"]\n",
    "dog['이름'] = dog[dog[\"이름\"] !=\"그레이 하운드\"]\n",
    "dog['이름'] = dog[dog[\"이름\"] !=\"도베르만\"]\n",
    "dog.dropna(inplace=True)\n",
    "\n",
    "Title_Dictionary = {\n",
    "     \"말티즈\" : 0,\n",
    "    \"믹스견\":1,\n",
    "    \"푸들\" : 2,\n",
    "    \"포메라니안\" : 3,\n",
    "    \"진돗개\": 4,\n",
    "    \"시츄\":5,\n",
    "    \"허스키\" : 6,\n",
    "    \"치와와\":7,\n",
    "    \"미니핀\": 8,\n",
    "    \"코카스파니엘\": 9,\n",
    "#    \"비숑\":10,\n",
    "    \"요크셔테리어\" : 11,\n",
    "     \"웰시코기\":12,\n",
    "    \"러프콜리\": 13,\n",
    "   \"달마시안\": 14,\n",
    "    \"골든 리트리버\" : 15,\n",
    "#     \"도베르만\" : 16,\n",
    "#     \"사모예드\" : 17\n",
    "#      \"그레이 하운드\" : 18,\n",
    "    \"미니어쳐 핀셔\" : 19,\n",
    "#    \"시바견\" : 20,\n",
    "      \"파피용\" : 21,\n",
    "#      \"삽살개\" : 22,\n",
    "     \"셰퍼트\" :  23,\n",
    "#     \"아키타\" : 24\n",
    "     \"차우차우\" : 25,\n",
    "     \"닥스훈트\" : 26,\n",
    "   \"보더콜리\" : 27,\n",
    "     \"말라뮤트\" : 28,\n",
    "    \"불독\" : 29,\n",
    "   \"풍산개\" : 30\n",
    "#      \"슈나우저\" : 31,\n",
    "    \n",
    "}\n",
    "\n",
    "dog['이름'] = dog['이름'].map(Title_Dictionary)\n",
    "\n",
    "onehot_column = ['크기','거주환경','실내실외','의료비용']\n",
    "\n",
    "\n",
    "for col in onehot_column:\n",
    "    dummy = pd.get_dummies(dog[col],prefix = col)\n",
    "    # 원핫인코딩된 결과물을 기존의 자료와 합치기\n",
    "    dog = pd.concat([dog,dummy], axis = 1)\n",
    "    # 글자형 컬럼(원핫인코딩 진행한) 삭제\n",
    "    dog.drop(col,axis = 1, inplace = True)\n",
    "\n",
    "dummy"
   ]
  },
  {
   "cell_type": "code",
   "execution_count": 11,
   "metadata": {},
   "outputs": [
    {
     "data": {
      "text/plain": [
       "0     64\n",
       "1     59\n",
       "2     58\n",
       "3     57\n",
       "4     57\n",
       "5     54\n",
       "6     53\n",
       "7     53\n",
       "8     52\n",
       "9     52\n",
       "11    51\n",
       "12    51\n",
       "13    51\n",
       "14    51\n",
       "29    50\n",
       "15    50\n",
       "19    50\n",
       "21    50\n",
       "23    50\n",
       "25    50\n",
       "26    50\n",
       "27    50\n",
       "28    50\n",
       "30    50\n",
       "Name: 이름, dtype: int64"
      ]
     },
     "execution_count": 11,
     "metadata": {},
     "output_type": "execute_result"
    }
   ],
   "source": [
    "dog['이름'].value_counts()"
   ]
  },
  {
   "cell_type": "code",
   "execution_count": 12,
   "metadata": {},
   "outputs": [
    {
     "data": {
      "text/html": [
       "<div>\n",
       "<style scoped>\n",
       "    .dataframe tbody tr th:only-of-type {\n",
       "        vertical-align: middle;\n",
       "    }\n",
       "\n",
       "    .dataframe tbody tr th {\n",
       "        vertical-align: top;\n",
       "    }\n",
       "\n",
       "    .dataframe thead th {\n",
       "        text-align: right;\n",
       "    }\n",
       "</style>\n",
       "<table border=\"1\" class=\"dataframe\">\n",
       "  <thead>\n",
       "    <tr style=\"text-align: right;\">\n",
       "      <th></th>\n",
       "      <th>이름</th>\n",
       "      <th>외로움</th>\n",
       "      <th>운동량</th>\n",
       "      <th>털빠짐</th>\n",
       "      <th>친화성(애교)</th>\n",
       "      <th>개짖음</th>\n",
       "      <th>집지키기</th>\n",
       "      <th>크기_L</th>\n",
       "      <th>크기_M</th>\n",
       "      <th>크기_S</th>\n",
       "      <th>거주환경_A</th>\n",
       "      <th>거주환경_J</th>\n",
       "      <th>실내실외_I</th>\n",
       "      <th>실내실외_IO</th>\n",
       "      <th>실내실외_O</th>\n",
       "      <th>의료비용_10u</th>\n",
       "      <th>의료비용_30o</th>\n",
       "      <th>의료비용_30u</th>\n",
       "    </tr>\n",
       "  </thead>\n",
       "  <tbody>\n",
       "    <tr>\n",
       "      <th>50</th>\n",
       "      <td>26</td>\n",
       "      <td>5</td>\n",
       "      <td>4</td>\n",
       "      <td>3</td>\n",
       "      <td>3</td>\n",
       "      <td>4</td>\n",
       "      <td>3</td>\n",
       "      <td>0</td>\n",
       "      <td>1</td>\n",
       "      <td>0</td>\n",
       "      <td>1</td>\n",
       "      <td>0</td>\n",
       "      <td>1</td>\n",
       "      <td>0</td>\n",
       "      <td>0</td>\n",
       "      <td>1</td>\n",
       "      <td>0</td>\n",
       "      <td>0</td>\n",
       "    </tr>\n",
       "    <tr>\n",
       "      <th>51</th>\n",
       "      <td>26</td>\n",
       "      <td>4</td>\n",
       "      <td>5</td>\n",
       "      <td>5</td>\n",
       "      <td>3</td>\n",
       "      <td>3</td>\n",
       "      <td>3</td>\n",
       "      <td>0</td>\n",
       "      <td>1</td>\n",
       "      <td>0</td>\n",
       "      <td>1</td>\n",
       "      <td>0</td>\n",
       "      <td>1</td>\n",
       "      <td>0</td>\n",
       "      <td>0</td>\n",
       "      <td>1</td>\n",
       "      <td>0</td>\n",
       "      <td>0</td>\n",
       "    </tr>\n",
       "    <tr>\n",
       "      <th>52</th>\n",
       "      <td>26</td>\n",
       "      <td>3</td>\n",
       "      <td>4</td>\n",
       "      <td>5</td>\n",
       "      <td>3</td>\n",
       "      <td>4</td>\n",
       "      <td>3</td>\n",
       "      <td>0</td>\n",
       "      <td>0</td>\n",
       "      <td>1</td>\n",
       "      <td>1</td>\n",
       "      <td>0</td>\n",
       "      <td>1</td>\n",
       "      <td>0</td>\n",
       "      <td>0</td>\n",
       "      <td>1</td>\n",
       "      <td>0</td>\n",
       "      <td>0</td>\n",
       "    </tr>\n",
       "    <tr>\n",
       "      <th>53</th>\n",
       "      <td>26</td>\n",
       "      <td>4</td>\n",
       "      <td>3</td>\n",
       "      <td>4</td>\n",
       "      <td>3</td>\n",
       "      <td>5</td>\n",
       "      <td>4</td>\n",
       "      <td>0</td>\n",
       "      <td>1</td>\n",
       "      <td>0</td>\n",
       "      <td>1</td>\n",
       "      <td>0</td>\n",
       "      <td>1</td>\n",
       "      <td>0</td>\n",
       "      <td>0</td>\n",
       "      <td>0</td>\n",
       "      <td>0</td>\n",
       "      <td>1</td>\n",
       "    </tr>\n",
       "    <tr>\n",
       "      <th>54</th>\n",
       "      <td>26</td>\n",
       "      <td>4</td>\n",
       "      <td>4</td>\n",
       "      <td>5</td>\n",
       "      <td>3</td>\n",
       "      <td>3</td>\n",
       "      <td>2</td>\n",
       "      <td>0</td>\n",
       "      <td>1</td>\n",
       "      <td>0</td>\n",
       "      <td>1</td>\n",
       "      <td>0</td>\n",
       "      <td>1</td>\n",
       "      <td>0</td>\n",
       "      <td>0</td>\n",
       "      <td>1</td>\n",
       "      <td>0</td>\n",
       "      <td>0</td>\n",
       "    </tr>\n",
       "  </tbody>\n",
       "</table>\n",
       "</div>"
      ],
      "text/plain": [
       "    이름  외로움  운동량  털빠짐  친화성(애교)  개짖음  집지키기  크기_L  크기_M  크기_S  거주환경_A  거주환경_J  \\\n",
       "50  26    5    4    3        3    4     3     0     1     0       1       0   \n",
       "51  26    4    5    5        3    3     3     0     1     0       1       0   \n",
       "52  26    3    4    5        3    4     3     0     0     1       1       0   \n",
       "53  26    4    3    4        3    5     4     0     1     0       1       0   \n",
       "54  26    4    4    5        3    3     2     0     1     0       1       0   \n",
       "\n",
       "    실내실외_I  실내실외_IO  실내실외_O  의료비용_10u  의료비용_30o  의료비용_30u  \n",
       "50       1        0       0         1         0         0  \n",
       "51       1        0       0         1         0         0  \n",
       "52       1        0       0         1         0         0  \n",
       "53       1        0       0         0         0         1  \n",
       "54       1        0       0         1         0         0  "
      ]
     },
     "execution_count": 12,
     "metadata": {},
     "output_type": "execute_result"
    }
   ],
   "source": [
    "dog.head()"
   ]
  },
  {
   "cell_type": "markdown",
   "metadata": {},
   "source": [
    "# 모델 선택 및 하이퍼파라미터 튜닝\n",
    "# 문제와 정답으로 분리 - X, y"
   ]
  },
  {
   "cell_type": "code",
   "execution_count": 13,
   "metadata": {},
   "outputs": [],
   "source": [
    "y = dog.iloc[:,0]\n",
    "X = dog.iloc[:,1:]\n",
    "ans = dog.iloc[5,1:]\n",
    "\n",
    "\n",
    "X_train, X_test, y_train, y_test = train_test_split(\n",
    "                                X, #문제데이터\n",
    "                                y,\n",
    "                                test_size = 0.3, \n",
    "                                random_state = 3 \n",
    ")\n"
   ]
  },
  {
   "cell_type": "markdown",
   "metadata": {},
   "source": [
    "# 학습, 평가"
   ]
  },
  {
   "cell_type": "code",
   "execution_count": 14,
   "metadata": {},
   "outputs": [
    {
     "name": "stderr",
     "output_type": "stream",
     "text": [
      "C:\\Users\\SM2141\\anaconda3\\lib\\site-packages\\xgboost\\sklearn.py:1146: UserWarning: The use of label encoder in XGBClassifier is deprecated and will be removed in a future release. To remove this warning, do the following: 1) Pass option use_label_encoder=False when constructing XGBClassifier object; and 2) Encode your labels (y) as integers starting with 0, i.e. 0, 1, 2, ..., [num_class - 1].\n",
      "  warnings.warn(label_encoder_deprecation_msg, UserWarning)\n"
     ]
    },
    {
     "name": "stdout",
     "output_type": "stream",
     "text": [
      "[11:39:32] WARNING: C:/Users/Administrator/workspace/xgboost-win64_release_1.4.0/src/learner.cc:573: \n",
      "Parameters: { \"max_features\", \"max_leaf_nodes\", \"min_samples_leaf\" } might not be used.\n",
      "\n",
      "  This may not be accurate due to some parameters are only used in language bindings but\n",
      "  passed down to XGBoost core.  Or some parameters are not used but slip through this\n",
      "  verification. Please open an issue if you find above cases.\n",
      "\n",
      "\n",
      "[11:39:32] WARNING: C:/Users/Administrator/workspace/xgboost-win64_release_1.4.0/src/learner.cc:1095: Starting in XGBoost 1.3.0, the default evaluation metric used with the objective 'multi:softprob' was changed from 'merror' to 'mlogloss'. Explicitly set eval_metric if you'd like to restore the old behavior.\n"
     ]
    },
    {
     "name": "stderr",
     "output_type": "stream",
     "text": [
      "C:\\Users\\SM2141\\anaconda3\\lib\\site-packages\\sklearn\\svm\\_base.py:976: ConvergenceWarning: Liblinear failed to converge, increase the number of iterations.\n",
      "  warnings.warn(\"Liblinear failed to converge, increase \"\n",
      "C:\\Users\\SM2141\\anaconda3\\lib\\site-packages\\sklearn\\linear_model\\_logistic.py:762: ConvergenceWarning: lbfgs failed to converge (status=1):\n",
      "STOP: TOTAL NO. of ITERATIONS REACHED LIMIT.\n",
      "\n",
      "Increase the number of iterations (max_iter) or scale the data as shown in:\n",
      "    https://scikit-learn.org/stable/modules/preprocessing.html\n",
      "Please also refer to the documentation for alternative solver options:\n",
      "    https://scikit-learn.org/stable/modules/linear_model.html#logistic-regression\n",
      "  n_iter_i = _check_optimize_result(\n"
     ]
    },
    {
     "name": "stdout",
     "output_type": "stream",
     "text": [
      "Logistic : 62.01\n"
     ]
    },
    {
     "name": "stderr",
     "output_type": "stream",
     "text": [
      "C:\\Users\\SM2141\\anaconda3\\lib\\site-packages\\xgboost\\sklearn.py:1146: UserWarning: The use of label encoder in XGBClassifier is deprecated and will be removed in a future release. To remove this warning, do the following: 1) Pass option use_label_encoder=False when constructing XGBClassifier object; and 2) Encode your labels (y) as integers starting with 0, i.e. 0, 1, 2, ..., [num_class - 1].\n",
      "  warnings.warn(label_encoder_deprecation_msg, UserWarning)\n"
     ]
    },
    {
     "name": "stdout",
     "output_type": "stream",
     "text": [
      "[11:39:39] WARNING: C:/Users/Administrator/workspace/xgboost-win64_release_1.4.0/src/learner.cc:1095: Starting in XGBoost 1.3.0, the default evaluation metric used with the objective 'multi:softprob' was changed from 'merror' to 'mlogloss'. Explicitly set eval_metric if you'd like to restore the old behavior.\n",
      "Random : 15.57\n",
      "knn : 62.53\n",
      "LGB : 65.44\n",
      "XGB : 65.17\n",
      "SVM: 60.16\n",
      "Decision: 54.62\n",
      "forest: 51.72\n",
      "Logistic : 62.01\n",
      "RandomForest : 62.01\n",
      "스태킹 XGB : 86.54\n"
     ]
    }
   ],
   "source": [
    "test_list= []\n",
    "train_list= []  # n_neighbors = 2\n",
    "for i in range(1,101):\n",
    "    \n",
    "    model = KNeighborsClassifier(n_neighbors=i)\n",
    "    model.fit(X_train,y_train)\n",
    "    \n",
    "    train_list.append(model.score(X_train,y_train))\n",
    "\n",
    "train_list\n",
    "\n",
    "for i in range(1,101):\n",
    "    \n",
    "    model = KNeighborsClassifier(n_neighbors=i)\n",
    "    model.fit(X_train,y_train)\n",
    "    \n",
    "    test_list.append(model.score(X_test,y_test))\n",
    "\n",
    "test_list\n",
    "\n",
    "knn_model = KNeighborsClassifier(n_neighbors= 12,\n",
    "                                 p=1,\n",
    "                                 weights = 'distance'\n",
    "                                )\n",
    "knn_model\n",
    "\n",
    "knn_model.fit(X_train,y_train)\n",
    "knn_pred = knn_model.predict(X_test)\n",
    "# print('XGB : %.2f'%(metrics.accuracy_score(knn_pred,y_test)*100))\n",
    "\n",
    "\n",
    "# RandomForestClassifier\n",
    "\n",
    "\n",
    "scaler = MinMaxScaler()\n",
    "scaler.fit(X_train)\n",
    "trans_X_train = scaler.transform(X_train)\n",
    "trans_X_test = scaler.transform(X_test)\n",
    "Rand = RandomForestClassifier()\n",
    "Rand.fit(trans_X_train,y_train)\n",
    "Rand_pred = Rand.predict(X_test)\n",
    "# print('Random : %.2f'%(metrics.accuracy_score(Rand_pred,y_test)*100))\n",
    "\n",
    "# LGBMClassifier\n",
    "\n",
    "\n",
    "LGB = LGBMClassifier()\n",
    "LGB.fit(X_train,y_train)\n",
    "LGB_pred = LGB.predict(X_test)\n",
    "# LGB.score(X_test,y_test)\n",
    "# print('LGB : %.2f'%(metrics.accuracy_score(LGB_pred,y_test)*100))\n",
    "\n",
    "# XGBClassifier\n",
    "\n",
    "XGB = XGBClassifier(max_depth= 15,\n",
    "                    max_features= 0.5, \n",
    "                    max_leaf_nodes= 20,\n",
    "                    min_samples_leaf= 10, \n",
    "                    n_estimators= 1000)\n",
    "XGB.fit(X_train,y_train)\n",
    "XGB_pred = XGB.predict(X_test)\n",
    "# print('XGB : %.2f'%(metrics.accuracy_score(XGB_pred,y_test)*100))\n",
    "\n",
    "\n",
    "# tree\n",
    "tree = DecisionTreeClassifier()\n",
    "result = cross_val_score(tree, X_train, y_train, cv = 5)\n",
    "result.mean()\n",
    "tree = DecisionTreeClassifier()\n",
    "tree.fit(X_train,y_train)\n",
    "tree.score(X_train,y_train)\n",
    "tree.score(X_test,y_test)\n",
    "\n",
    "\n",
    "# LinearSVC\n",
    "\n",
    "svm = LinearSVC()\n",
    "svm.fit(X_train,y_train)\n",
    "svm_pred = svm.predict(X_test)\n",
    "# print('SVM: %.2f'%(metrics.accuracy_score(svm_pred,y_test)*100))\n",
    "\n",
    "\n",
    " # DecisionTreeClassifier\n",
    "dog_dtc = DecisionTreeClassifier()\n",
    "dog_dtc.fit(X_train,y_train)\n",
    "Desi_pred = dog_dtc.predict(X_test)\n",
    "# print('Decision: %.2f'%(metrics.accuracy_score(dog_pred,y_test)*100))\n",
    "\n",
    "# # KNeighborsClassifier\n",
    "# dog_knn = KNeighborsClassifier(n_neighbors=3)\n",
    "# dog_knn.fit(X_train,y_train)\n",
    "# dog_pred = dog_knn.predict(X_test)\n",
    "# # print('Knn: %.2f'%(metrics.accuracy_score(dog_pred,y_test)*100))\n",
    "\n",
    "# LogisticRegression\n",
    "dog_lrg = LogisticRegression()\n",
    "dog_lrg.fit(X_train,y_train)\n",
    "dog_pred = dog_lrg.predict(X_test)\n",
    "#print(dog_pred)\n",
    "print('Logistic : %.2f'%(metrics.accuracy_score(dog_pred,y_test)*100))\n",
    "\n",
    "# dog_rfc = RandomForestClassifier()\n",
    "# dog_rfc.fit(X_train,y_train)\n",
    "# dog_pred = dog_rfc.predict(X_test)\n",
    "# # print('RandomForest : %.2f'%(metrics.accuracy_score(dog_pred,y_test)*100))\n",
    "\n",
    "forest = RandomForestClassifier(n_estimators=1000,\n",
    "                                # tree의 개수\n",
    "                                      max_features=0.7,# 각각의 트리에서 사용할 특성의 개수\n",
    "                                      max_depth=5,\n",
    "                                      min_samples_leaf=15,\n",
    "                                      max_leaf_nodes=50)\n",
    "\n",
    "forest.fit(X_train,y_train)\n",
    "forest_pred = forest.predict(X_test)\n",
    "# forest.score(X_test,y_test)\n",
    "\n",
    "\n",
    "# 개발모델3개\n",
    "knn_model = KNeighborsClassifier(n_neighbors= 12,\n",
    "                                 p=1,\n",
    "                                 weights = 'distance'\n",
    "                                )\n",
    "# XGB = XGBClassifier()\n",
    "LGB = LGBMClassifier()\n",
    "Rand = RandomForestClassifier(max_depth=3)\n",
    "\n",
    "#최종모델\n",
    "# Rand = RandomForestClassifier()\n",
    "XGB = XGBClassifier()\n",
    "\n",
    "knn_model.fit(X_train,y_train)\n",
    "# XGB.fit(X_train,y_train)\n",
    "LGB.fit(X_train,y_train)\n",
    "Rand.fit(X_train,y_train)\n",
    "\n",
    "knn_pred = knn_model.predict(X_test)\n",
    "# xgb_pred = XGB.predict(X_test)\n",
    "lgb_pred = LGB.predict(X_test)\n",
    "rand_pred = Rand.predict(X_test)\n",
    "# lgb_pred\n",
    "\n",
    "new_data = np.array([knn_pred,rand_pred,lgb_pred])\n",
    "# new_data.shape\n",
    "\n",
    "new_data = np.transpose(new_data)\n",
    "# new_data.shape\n",
    "\n",
    "# new_data[:10]\n",
    "\n",
    "# 스태킹 최종 결과\n",
    "\n",
    "# Rand.fit(new_data,y_test)\n",
    "# Rand_pred = Rand.predict(new_data)\n",
    "XGB.fit(new_data,y_test)\n",
    "xgb_pred = XGB.predict(new_data)\n",
    "\n",
    "# print(\"Rand : {0:.4f}\".format(accuracy_score(Rand,Rand_pred)))\n",
    "\n",
    "\n",
    "print('Random : %.2f'%(metrics.accuracy_score(Rand_pred,y_test)*100))\n",
    "print('knn : %.2f'%(metrics.accuracy_score(knn_pred,y_test)*100))\n",
    "print('LGB : %.2f'%(metrics.accuracy_score(LGB_pred,y_test)*100))\n",
    "print('XGB : %.2f'%(metrics.accuracy_score(XGB_pred,y_test)*100))\n",
    "print('SVM: %.2f'%(metrics.accuracy_score(svm_pred,y_test)*100))\n",
    "print('Decision: %.2f'%(metrics.accuracy_score(Desi_pred,y_test)*100))\n",
    "print('forest: %.2f'%(metrics.accuracy_score(forest_pred,y_test)*100))\n",
    "print('Logistic : %.2f'%(metrics.accuracy_score(dog_pred,y_test)*100))\n",
    "print('RandomForest : %.2f'%(metrics.accuracy_score(dog_pred,y_test)*100))\n",
    "print('스태킹 XGB : %.2f'%(metrics.accuracy_score(xgb_pred,y_test)*100))\n",
    "\n"
   ]
  },
  {
   "cell_type": "code",
   "execution_count": 32,
   "metadata": {},
   "outputs": [
    {
     "data": {
      "text/plain": [
       "array([21., 19.,  6., 28.,  1.,  6., 15.,  8., 19.,  3., 19.,  8.,  2.,\n",
       "       30.,  6.,  5., 27., 14.,  2.,  2.,  4.,  0., 27., 25., 27.,  2.,\n",
       "       29., 27.,  0.,  8., 15.,  4.,  1., 27., 11.,  8., 11., 28.,  5.,\n",
       "       19., 11., 25.,  9., 27., 28.,  2.,  6., 27.,  4., 21.,  1., 30.,\n",
       "        9.,  6.,  5., 29.,  3.,  8., 27.,  1., 30., 15., 29., 27.,  6.,\n",
       "       21.,  2., 14., 21., 11.,  9.,  5.,  2., 14., 27.,  0.,  5., 27.,\n",
       "        1., 27.,  5.,  3., 27.,  0.,  0.,  4.,  0.,  9., 14.,  3.,  6.,\n",
       "       25.,  8., 23., 25., 30.,  4.,  2., 26.,  4., 23.,  5., 19., 29.,\n",
       "       11., 25., 28.,  0.,  3.,  6., 28.,  6.,  6., 29., 23.,  5., 23.,\n",
       "       29., 11.,  0., 28.,  2.,  0., 11., 27., 14., 23.,  6., 25., 29.,\n",
       "        6.,  5., 25., 15., 27., 23., 29., 30., 14.,  0., 14.,  2., 27.,\n",
       "       11., 27.,  0., 14., 19., 23., 26., 27.,  5.,  5.,  3., 28., 28.,\n",
       "       26., 14.,  0.,  1.,  1., 23., 27., 14.,  5.,  4.,  0., 21., 14.,\n",
       "        4., 14., 27.,  3.,  6.,  2., 14.,  2.,  9., 28., 19., 27., 28.,\n",
       "       11., 15.,  5., 15.,  3., 30.,  5.,  9., 26., 25., 23., 29., 21.,\n",
       "       19.,  9.,  9., 21.,  9.,  3., 26., 11.,  3.,  6.,  0., 28.,  1.,\n",
       "        5., 29., 15.,  2.,  6., 21., 13., 30., 27.,  9.,  5.,  4., 25.,\n",
       "        5., 19.,  9., 19., 27., 26.,  9., 29., 30.,  4.,  8.,  6.,  0.,\n",
       "        5.,  2., 30., 21., 11., 11.,  0.,  5., 30., 11.,  0., 23.,  2.,\n",
       "        0.,  6., 27., 30., 28., 23.,  5., 26.,  0.,  2., 19., 14.,  8.,\n",
       "       15., 25., 29., 28., 15.,  2.,  8.,  2., 27.,  3.,  2., 23.,  3.,\n",
       "       26., 25., 26., 23.,  8.,  0., 11., 25., 27.,  4.,  0., 23., 11.,\n",
       "       15.,  0., 30., 25.,  8., 28.,  8.,  3.,  5., 23., 14.,  4., 21.,\n",
       "       15.,  2.,  0.,  5., 27.,  6., 11.,  5.,  9., 28., 25., 13., 21.,\n",
       "       14.,  6., 21.,  4., 27.,  1., 26.,  5.,  3., 11.,  4.,  3., 11.,\n",
       "       26.,  6.,  9.,  5., 30., 27., 13., 29., 26., 26.,  9.,  3., 28.,\n",
       "       29.,  0., 28., 29., 28.,  2., 25., 25., 14., 21.])"
      ]
     },
     "execution_count": 32,
     "metadata": {},
     "output_type": "execute_result"
    }
   ],
   "source": [
    "xgb_pred = XGB.predict(new_data)\n",
    "xgb_pred"
   ]
  },
  {
   "cell_type": "code",
   "execution_count": 15,
   "metadata": {},
   "outputs": [
    {
     "data": {
      "text/plain": [
       "7"
      ]
     },
     "execution_count": 15,
     "metadata": {},
     "output_type": "execute_result"
    }
   ],
   "source": [
    "pred1 = xgb_pred\n",
    "\n",
    "score1 = metrics.accuracy_score(pred1, y_test)\n",
    "\n",
    "pred1[0]"
   ]
  },
  {
   "cell_type": "code",
   "execution_count": 16,
   "metadata": {},
   "outputs": [
    {
     "data": {
      "text/plain": [
       "array([26., 14., 13., 28.,  0., 19.,  8.,  1., 29.,  5., 11., 12.,  4.,\n",
       "        9., 21.,  3.,  2., 30.,  6., 15., 27., 25., 23.])"
      ]
     },
     "execution_count": 16,
     "metadata": {},
     "output_type": "execute_result"
    }
   ],
   "source": [
    "dog1 = dog.copy()\n",
    "dog1[\"이름\"] = dog1[\"이름\"][dog1[\"이름\"] != pred1[0]]\n",
    "dog1.dropna(inplace=True)\n",
    "\n",
    "dog1[\"이름\"].unique()"
   ]
  },
  {
   "cell_type": "code",
   "execution_count": 17,
   "metadata": {},
   "outputs": [
    {
     "name": "stderr",
     "output_type": "stream",
     "text": [
      "C:\\Users\\SM2141\\anaconda3\\lib\\site-packages\\xgboost\\sklearn.py:1146: UserWarning: The use of label encoder in XGBClassifier is deprecated and will be removed in a future release. To remove this warning, do the following: 1) Pass option use_label_encoder=False when constructing XGBClassifier object; and 2) Encode your labels (y) as integers starting with 0, i.e. 0, 1, 2, ..., [num_class - 1].\n",
      "  warnings.warn(label_encoder_deprecation_msg, UserWarning)\n"
     ]
    },
    {
     "name": "stdout",
     "output_type": "stream",
     "text": [
      "[11:39:41] WARNING: C:/Users/Administrator/workspace/xgboost-win64_release_1.4.0/src/learner.cc:1095: Starting in XGBoost 1.3.0, the default evaluation metric used with the objective 'multi:softprob' was changed from 'merror' to 'mlogloss'. Explicitly set eval_metric if you'd like to restore the old behavior.\n"
     ]
    },
    {
     "data": {
      "text/plain": [
       "12.0"
      ]
     },
     "execution_count": 17,
     "metadata": {},
     "output_type": "execute_result"
    }
   ],
   "source": [
    "X = dog1.iloc[:,1:]\n",
    "y = dog1.iloc[:,0]\n",
    "\n",
    "X_train, X_test, y_train, y_test = train_test_split(X, y,\n",
    "                                test_size = 0.3, \n",
    "                                random_state = 3 \n",
    ")\n",
    "\n",
    "knn_model.fit(X_train,y_train)\n",
    "LGB.fit(X_train,y_train)\n",
    "Rand.fit(X_train,y_train)\n",
    "\n",
    "knn_pred = knn_model.predict(X_test)\n",
    "lgb_pred = LGB.predict(X_test)\n",
    "rand_pred = Rand.predict(X_test)\n",
    "\n",
    "new_data = np.array([knn_pred,rand_pred,lgb_pred])\n",
    "\n",
    "new_data = np.transpose(new_data)\n",
    "\n",
    "XGB.fit(new_data, y_test)\n",
    "\n",
    "pred2 = XGB.predict(new_data)\n",
    "\n",
    "score2 = metrics.accuracy_score(pred2, y_test)\n",
    "\n",
    "pred2[0]"
   ]
  },
  {
   "cell_type": "code",
   "execution_count": null,
   "metadata": {},
   "outputs": [],
   "source": [
    "# 3째 순위는 1,2번째 순위 데이터를 제거하고 다시 학습해서 예측"
   ]
  },
  {
   "cell_type": "code",
   "execution_count": 18,
   "metadata": {},
   "outputs": [
    {
     "data": {
      "text/plain": [
       "array([26., 14., 13., 28.,  0., 19.,  8.,  1., 29.,  5., 11.,  4.,  9.,\n",
       "       21.,  3.,  2., 30.,  6., 15., 27., 25., 23.])"
      ]
     },
     "execution_count": 18,
     "metadata": {},
     "output_type": "execute_result"
    }
   ],
   "source": [
    "dog2 = dog1.copy()\n",
    "dog2[\"이름\"] = dog1[\"이름\"][dog1[\"이름\"] != pred2[0]]\n",
    "dog2.dropna(inplace=True)\n",
    "\n",
    "dog2[\"이름\"].unique()"
   ]
  },
  {
   "cell_type": "code",
   "execution_count": 19,
   "metadata": {},
   "outputs": [
    {
     "name": "stderr",
     "output_type": "stream",
     "text": [
      "C:\\Users\\SM2141\\anaconda3\\lib\\site-packages\\xgboost\\sklearn.py:1146: UserWarning: The use of label encoder in XGBClassifier is deprecated and will be removed in a future release. To remove this warning, do the following: 1) Pass option use_label_encoder=False when constructing XGBClassifier object; and 2) Encode your labels (y) as integers starting with 0, i.e. 0, 1, 2, ..., [num_class - 1].\n",
      "  warnings.warn(label_encoder_deprecation_msg, UserWarning)\n"
     ]
    },
    {
     "name": "stdout",
     "output_type": "stream",
     "text": [
      "[11:39:52] WARNING: C:/Users/Administrator/workspace/xgboost-win64_release_1.4.0/src/learner.cc:1095: Starting in XGBoost 1.3.0, the default evaluation metric used with the objective 'multi:softprob' was changed from 'merror' to 'mlogloss'. Explicitly set eval_metric if you'd like to restore the old behavior.\n"
     ]
    },
    {
     "data": {
      "text/plain": [
       "21.0"
      ]
     },
     "execution_count": 19,
     "metadata": {},
     "output_type": "execute_result"
    }
   ],
   "source": [
    "X = dog2.iloc[:,1:]\n",
    "y = dog2.iloc[:,0]\n",
    "\n",
    "X_train, X_test, y_train, y_test = train_test_split(X, y,\n",
    "                                test_size = 0.3, \n",
    "                                random_state = 3 \n",
    ")\n",
    "\n",
    "knn_model.fit(X_train,y_train)\n",
    "LGB.fit(X_train,y_train)\n",
    "Rand.fit(X_train,y_train)\n",
    "\n",
    "knn_pred = knn_model.predict(X_test)\n",
    "lgb_pred = LGB.predict(X_test)\n",
    "rand_pred = Rand.predict(X_test)\n",
    "\n",
    "new_data = np.array([knn_pred,rand_pred,lgb_pred])\n",
    "\n",
    "new_data = np.transpose(new_data)\n",
    "\n",
    "XGB.fit(new_data, y_test)\n",
    "pred3 = XGB.predict(new_data)\n",
    "\n",
    "score3 = metrics.accuracy_score(pred3, y_test)\n",
    "\n",
    "pred3[0]"
   ]
  },
  {
   "cell_type": "code",
   "execution_count": 20,
   "metadata": {
    "scrolled": true
   },
   "outputs": [
    {
     "data": {
      "text/plain": [
       "(7, 12.0, 21.0)"
      ]
     },
     "execution_count": 20,
     "metadata": {},
     "output_type": "execute_result"
    }
   ],
   "source": [
    "pred1[0], pred2[0], pred3[0]"
   ]
  },
  {
   "cell_type": "code",
   "execution_count": 21,
   "metadata": {},
   "outputs": [
    {
     "data": {
      "text/plain": [
       "(0.8654353562005277, 0.8512396694214877, 0.8591954022988506)"
      ]
     },
     "execution_count": 21,
     "metadata": {},
     "output_type": "execute_result"
    }
   ],
   "source": [
    "score1,score2,score3"
   ]
  },
  {
   "cell_type": "code",
   "execution_count": 22,
   "metadata": {},
   "outputs": [
    {
     "data": {
      "text/plain": [
       "(0.8654353562005277, 0.11454676290368304, 0.01719927122942813)"
      ]
     },
     "execution_count": 22,
     "metadata": {},
     "output_type": "execute_result"
    }
   ],
   "source": [
    "score1, (1-score1) * score2, (1-score1) * (1-score2) * score3"
   ]
  },
  {
   "cell_type": "code",
   "execution_count": null,
   "metadata": {},
   "outputs": [],
   "source": [
    "# 임시 테스트"
   ]
  },
  {
   "cell_type": "code",
   "execution_count": null,
   "metadata": {},
   "outputs": [],
   "source": [
    "# ans"
   ]
  },
  {
   "cell_type": "code",
   "execution_count": null,
   "metadata": {
    "scrolled": true
   },
   "outputs": [],
   "source": [
    "# ans\n",
    "# ans2d = pd.DataFrame(ans)\n",
    "# ans2d.iloc[:,0]\n",
    "# ans = np.array(ans)\n",
    "# ans = ans.reshape(1,-1)\n",
    "# ans\n",
    "# knn_ans = knn_model.predict(ans)\n",
    "# rand_ans = Rand.predict(ans)\n",
    "# lgb_ans = LGB.predict(ans)\n",
    "# new_ans = np.array([knn_ans,rand_ans,lgb_ans])\n",
    "# new_ans.shape\n",
    "# new_ans = np.transpose(new_ans)\n",
    "# new_ans.shape\n",
    "\n",
    "# ans_end = XGB.predict(new_ans)\n",
    "# ans_end\n"
   ]
  },
  {
   "cell_type": "code",
   "execution_count": 23,
   "metadata": {
    "scrolled": true
   },
   "outputs": [
    {
     "data": {
      "text/html": [
       "<div>\n",
       "<style scoped>\n",
       "    .dataframe tbody tr th:only-of-type {\n",
       "        vertical-align: middle;\n",
       "    }\n",
       "\n",
       "    .dataframe tbody tr th {\n",
       "        vertical-align: top;\n",
       "    }\n",
       "\n",
       "    .dataframe thead th {\n",
       "        text-align: right;\n",
       "    }\n",
       "</style>\n",
       "<table border=\"1\" class=\"dataframe\">\n",
       "  <thead>\n",
       "    <tr style=\"text-align: right;\">\n",
       "      <th></th>\n",
       "      <th>이름</th>\n",
       "      <th>주거환경</th>\n",
       "      <th>실내실외</th>\n",
       "      <th>의료비용</th>\n",
       "    </tr>\n",
       "  </thead>\n",
       "  <tbody>\n",
       "    <tr>\n",
       "      <th>0</th>\n",
       "      <td>1</td>\n",
       "      <td>2</td>\n",
       "      <td>3</td>\n",
       "      <td>8</td>\n",
       "    </tr>\n",
       "  </tbody>\n",
       "</table>\n",
       "</div>"
      ],
      "text/plain": [
       "   이름  주거환경  실내실외  의료비용\n",
       "0   1     2     3     8"
      ]
     },
     "execution_count": 23,
     "metadata": {},
     "output_type": "execute_result"
    }
   ],
   "source": [
    " pd.DataFrame({'이름':[1],'주거환경':[2],'실내실외':[3], '의료비용':[8]})"
   ]
  },
  {
   "cell_type": "code",
   "execution_count": 24,
   "metadata": {},
   "outputs": [
    {
     "name": "stderr",
     "output_type": "stream",
     "text": [
      "<ipython-input-24-3d24387cc53e>:5: SettingWithCopyWarning: \n",
      "A value is trying to be set on a copy of a slice from a DataFrame\n",
      "\n",
      "See the caveats in the documentation: https://pandas.pydata.org/pandas-docs/stable/user_guide/indexing.html#returning-a-view-versus-a-copy\n",
      "  dogresult[i] = 0\n"
     ]
    },
    {
     "ename": "NameError",
     "evalue": "name 'v1' is not defined",
     "output_type": "error",
     "traceback": [
      "\u001b[1;31m---------------------------------------------------------------------------\u001b[0m",
      "\u001b[1;31mNameError\u001b[0m                                 Traceback (most recent call last)",
      "\u001b[1;32m<ipython-input-24-3d24387cc53e>\u001b[0m in \u001b[0;36m<module>\u001b[1;34m\u001b[0m\n\u001b[0;32m      5\u001b[0m     \u001b[0mdogresult\u001b[0m\u001b[1;33m[\u001b[0m\u001b[0mi\u001b[0m\u001b[1;33m]\u001b[0m \u001b[1;33m=\u001b[0m \u001b[1;36m0\u001b[0m\u001b[1;33m\u001b[0m\u001b[1;33m\u001b[0m\u001b[0m\n\u001b[0;32m      6\u001b[0m \u001b[1;31m#정답 입력\u001b[0m\u001b[1;33m\u001b[0m\u001b[1;33m\u001b[0m\u001b[1;33m\u001b[0m\u001b[0m\n\u001b[1;32m----> 7\u001b[1;33m \u001b[1;32mif\u001b[0m \u001b[0mv1\u001b[0m \u001b[1;33m==\u001b[0m \u001b[1;34m'S'\u001b[0m\u001b[1;33m:\u001b[0m\u001b[1;33m\u001b[0m\u001b[1;33m\u001b[0m\u001b[0m\n\u001b[0m\u001b[0;32m      8\u001b[0m     \u001b[0mdogresult\u001b[0m\u001b[1;33m[\u001b[0m\u001b[1;36m9\u001b[0m\u001b[1;33m]\u001b[0m \u001b[1;33m=\u001b[0m\u001b[1;36m1\u001b[0m\u001b[1;33m\u001b[0m\u001b[1;33m\u001b[0m\u001b[0m\n\u001b[0;32m      9\u001b[0m \u001b[1;32melif\u001b[0m \u001b[0mv1\u001b[0m \u001b[1;33m==\u001b[0m \u001b[1;34m'M'\u001b[0m\u001b[1;33m:\u001b[0m\u001b[1;33m\u001b[0m\u001b[1;33m\u001b[0m\u001b[0m\n",
      "\u001b[1;31mNameError\u001b[0m: name 'v1' is not defined"
     ]
    }
   ],
   "source": [
    "# 정답지만들기\n",
    "dogresult = dog.iloc[0,:]\n",
    "#정답지 백지화\n",
    "for i in range(len(dogresult)):\n",
    "    dogresult[i] = 0\n",
    "#정답 입력\n",
    "if v1 == 'S':\n",
    "    dogresult[9] =1\n",
    "elif v1 == 'M':\n",
    "    dogresult[8] =1\n",
    "    \n",
    "\n",
    "elif v1 == 'L':\n",
    "    dogresult[7]= 1\n",
    "if v2 == 'A':\n",
    "    dogresult[10] = 1\n",
    "elif v1 == 'J':\n",
    "    dogresult[11] = 1\n",
    "if v3 == 'I':\n",
    "    dogresult[12] = 1\n",
    "elif v3 == 'O':\n",
    "    dogresult[14] = 1\n",
    "elif v3 == 'IO':\n",
    "    dogresult[13] = 1\n",
    "    \n",
    "dogresult[2]=v5\n",
    "dogresult[3]=v6\n",
    "dogresult[4]=v7\n",
    "\n",
    "if v8 == '10u':\n",
    "    dogresult[15] = 1\n",
    "elif v8 == '30o':\n",
    "    dogresult[16] = 1\n",
    "elif v8 == '30u':\n",
    "    dogresult[17] = 1\n",
    "    \n",
    "dogresult[5] = v10\n",
    "dogresult[6] = v11\n",
    "#정답컬럼 삭제\n",
    "dogresult.drop('이름', inplace= True)\n",
    "\n",
    "# dogresultlist = X\n",
    "dogresult1 = np.array(dogresult)\n",
    "dogresult1 = dogresult1.reshape(1,-1)\n",
    "\n",
    "\n",
    "knn_dogresult = knn_model.predict(dogresult1)\n",
    "rand_dogresult = Rand.predict(dogresult1)\n",
    "lgb_dogresult = LGB.predict(dogresult1)\n",
    "new_dogresult = np.array([knn_dogresult,rand_dogresult,lgb_dogresult])\n",
    "print(new_dogresult.shape)\n",
    "new_dogresult = np.transpose(new_dogresult)\n",
    "print(new_dogresult.shape)\n",
    "\n",
    "pred_1= XGB.predict(new_dogresult)\n",
    "pred_1\n",
    "\n",
    "# score2 = metrics.accuracy_score(pred2, y_test)\n",
    "socore_1 = metrics.accuracy_score(pred_1,y_test)*100\n",
    "# print(pred_1)\n",
    "# print(socore_1)"
   ]
  },
  {
   "cell_type": "code",
   "execution_count": null,
   "metadata": {},
   "outputs": [],
   "source": [
    "# 플라스크 연동"
   ]
  },
  {
   "cell_type": "code",
   "execution_count": 25,
   "metadata": {},
   "outputs": [
    {
     "ename": "IndentationError",
     "evalue": "unexpected indent (<ipython-input-25-4983c387ba83>, line 98)",
     "output_type": "error",
     "traceback": [
      "\u001b[1;36m  File \u001b[1;32m\"<ipython-input-25-4983c387ba83>\"\u001b[1;36m, line \u001b[1;32m98\u001b[0m\n\u001b[1;33m    url = 'http://localhost:8090/rebuild/testresult.jsp?v1='+v1+'&v2='+v2+'&v3='+v3+'&v4='+v4+'&v5='+v5+'&v6='+v6+'&v7='+v7+'&v8='+v8+'&v10='+v10+'&v11='+v11\u001b[0m\n\u001b[1;37m    ^\u001b[0m\n\u001b[1;31mIndentationError\u001b[0m\u001b[1;31m:\u001b[0m unexpected indent\n"
     ]
    }
   ],
   "source": [
    "from flask import Flask\n",
    "from flask import request, redirect\n",
    "\n",
    "app = Flask(__name__) \n",
    "\n",
    "@app.route('/dogmc', methods=['GET'])\n",
    "def index():\n",
    "    \n",
    "    v1 = request.args['v1']\n",
    "    v2 = request.args['v2']\n",
    "    v3 = request.args['v3']\n",
    "    v4 = request.args['v4']\n",
    "    v5 = request.args['v5']\n",
    "    v6 = request.args['v6']\n",
    "    v7 = request.args['v7']\n",
    "    v8 = request.args['v8']\n",
    "    v10 = request.args['v10']\n",
    "    v11 = request.args['v11']\n",
    "\n",
    "\n",
    "# 정답지만들기\n",
    "dogresult = dog.iloc[0,:]\n",
    "#정답지 백지화\n",
    "for i in range(len(dogresult)):\n",
    "    dogresult[i] = 0\n",
    "#정답 입력\n",
    "if v1 == 'S':\n",
    "    dogresult[9] =1\n",
    "elif v1 == 'M':\n",
    "    dogresult[8] =1\n",
    "    \n",
    "\n",
    "elif v1 == 'L':\n",
    "    dogresult[7]= 1\n",
    "if v2 == 'A':\n",
    "    dogresult[10] = 1\n",
    "elif v1 == 'J':\n",
    "    dogresult[11] = 1\n",
    "if v3 == 'I':\n",
    "    dogresult[12] = 1\n",
    "elif v3 == 'O':\n",
    "    dogresult[14] = 1\n",
    "elif v3 == 'IO':\n",
    "    dogresult[13] = 1\n",
    "    \n",
    "dogresult[2]=v5\n",
    "dogresult[3]=v6\n",
    "dogresult[4]=v7\n",
    "\n",
    "if v8 == '10u':\n",
    "    dogresult[15] = 1\n",
    "elif v8 == '30o':\n",
    "    dogresult[16] = 1\n",
    "elif v8 == '30u':\n",
    "    dogresult[17] = 1\n",
    "    \n",
    "dogresult[5] = v10\n",
    "dogresult[6] = v11\n",
    "#정답컬럼 삭제\n",
    "dogresult.drop('이름', inplace= True)\n",
    "\n",
    "# doglist = X\n",
    "\n",
    "pred_1= XGB.predict(dogresult)\n",
    "socore_1 = (metrics.accuracy_score(xgb_pred,dogresult)*100)\n",
    "\n",
    "\n",
    "\n",
    "\n",
    "#     dog.iloc[0,:] = pd.DataFrame({'크기':[v1],'주거환경':[v2],'실내실외':[v3], '외로움':[v4],'운동량':[v5],\n",
    "#                     '털빠짐':[v6], '친화성(애교)':[v7],'의료비용':[v8],'개짖음':[v10],'집지키기':[v11]\n",
    "#                    })\n",
    " \n",
    "#     onehot_column = ['크기','거주환경','실내실외','의료비용']\n",
    "#     for col in onehot_column:\n",
    "#         dummy = pd.get_dummies(dog[col],prefix = col)\n",
    "#         # 원핫인코딩된 결과물을 기존의 자료와 합치기\n",
    "#         dog = pd.concat([dog,dummy], axis = 1)\n",
    "#         # 글자형 컬럼(원핫인코딩 진행한) 삭제\n",
    "#         dog.drop(col,axis = 1, inplace = True)\n",
    "    \n",
    "    \n",
    "    \n",
    "    \n",
    "#     1.반려견 크기\n",
    "#     2 주거환경\n",
    "#     3 실내 실외\n",
    "#     4 외로움\n",
    "#     5 활동적이고 노는걸 좋아하냐\n",
    "#     6 털빠지냐\n",
    "#     7 사랑을 적극적으로 표현하냐\n",
    "#     8 의료비용 지출\n",
    "#     10 짖는 빈도\n",
    "#     11집지키기 능력\n",
    "    \n",
    "\n",
    "    \n",
    "    url = 'http://localhost:8090/rebuild/testresult.jsp?v1='+v1+'&v2='+v2+'&v3='+v3+'&v4='+v4+'&v5='+v5+'&v6='+v6+'&v7='+v7+'&v8='+v8+'&v10='+v10+'&v11='+v11\n",
    "    return redirect(url)\n",
    "\n",
    "\n",
    "if __name__ == '__main__':\n",
    "    app.run(host='127.0.0.1', port='5000') "
   ]
  },
  {
   "cell_type": "code",
   "execution_count": 26,
   "metadata": {},
   "outputs": [],
   "source": [
    "   #예시\n",
    "v1 = 'S'\n",
    "v2 = 'A'\n",
    "v3 = 'I'\n",
    "v4 = 4\n",
    "v5 = 4\n",
    "v6 = 3\n",
    "v7 =2\n",
    "v8 = '10u'\n",
    "v10 = 2\n",
    "v11 = 5\n"
   ]
  },
  {
   "cell_type": "code",
   "execution_count": 27,
   "metadata": {},
   "outputs": [
    {
     "data": {
      "text/plain": [
       "이름          0\n",
       "외로움         0\n",
       "운동량         0\n",
       "털빠짐         0\n",
       "친화성(애교)     0\n",
       "개짖음         0\n",
       "집지키기        0\n",
       "크기_L        0\n",
       "크기_M        0\n",
       "크기_S        0\n",
       "거주환경_A      0\n",
       "거주환경_J      0\n",
       "실내실외_I      0\n",
       "실내실외_IO     0\n",
       "실내실외_O      0\n",
       "의료비용_10u    0\n",
       "의료비용_30o    0\n",
       "의료비용_30u    0\n",
       "Name: 50, dtype: int64"
      ]
     },
     "execution_count": 27,
     "metadata": {},
     "output_type": "execute_result"
    }
   ],
   "source": [
    "dogresult"
   ]
  },
  {
   "cell_type": "code",
   "execution_count": null,
   "metadata": {
    "scrolled": true
   },
   "outputs": [],
   "source": []
  },
  {
   "cell_type": "code",
   "execution_count": 28,
   "metadata": {},
   "outputs": [
    {
     "ename": "IndexingError",
     "evalue": "Too many indexers",
     "output_type": "error",
     "traceback": [
      "\u001b[1;31m---------------------------------------------------------------------------\u001b[0m",
      "\u001b[1;31mIndexingError\u001b[0m                             Traceback (most recent call last)",
      "\u001b[1;32m<ipython-input-28-3fc0b638539b>\u001b[0m in \u001b[0;36m<module>\u001b[1;34m\u001b[0m\n\u001b[1;32m----> 1\u001b[1;33m \u001b[0mdogresult\u001b[0m \u001b[1;33m=\u001b[0m \u001b[0mdogresult\u001b[0m\u001b[1;33m.\u001b[0m\u001b[0miloc\u001b[0m\u001b[1;33m[\u001b[0m\u001b[1;36m0\u001b[0m\u001b[1;33m,\u001b[0m\u001b[1;33m:\u001b[0m\u001b[1;33m]\u001b[0m\u001b[1;33m\u001b[0m\u001b[1;33m\u001b[0m\u001b[0m\n\u001b[0m\u001b[0;32m      2\u001b[0m \u001b[1;33m\u001b[0m\u001b[0m\n\u001b[0;32m      3\u001b[0m \u001b[1;31m#정답지 백지화\u001b[0m\u001b[1;33m\u001b[0m\u001b[1;33m\u001b[0m\u001b[1;33m\u001b[0m\u001b[0m\n\u001b[0;32m      4\u001b[0m \u001b[1;32mfor\u001b[0m \u001b[0mi\u001b[0m \u001b[1;32min\u001b[0m \u001b[0mrange\u001b[0m\u001b[1;33m(\u001b[0m\u001b[0mlen\u001b[0m\u001b[1;33m(\u001b[0m\u001b[0mdogresult\u001b[0m\u001b[1;33m)\u001b[0m\u001b[1;33m)\u001b[0m\u001b[1;33m:\u001b[0m\u001b[1;33m\u001b[0m\u001b[1;33m\u001b[0m\u001b[0m\n\u001b[0;32m      5\u001b[0m     \u001b[0mdogresult\u001b[0m\u001b[1;33m[\u001b[0m\u001b[0mi\u001b[0m\u001b[1;33m]\u001b[0m \u001b[1;33m=\u001b[0m \u001b[1;36m0\u001b[0m\u001b[1;33m\u001b[0m\u001b[1;33m\u001b[0m\u001b[0m\n",
      "\u001b[1;32m~\\anaconda3\\lib\\site-packages\\pandas\\core\\indexing.py\u001b[0m in \u001b[0;36m__getitem__\u001b[1;34m(self, key)\u001b[0m\n\u001b[0;32m    871\u001b[0m                     \u001b[1;31m# AttributeError for IntervalTree get_value\u001b[0m\u001b[1;33m\u001b[0m\u001b[1;33m\u001b[0m\u001b[1;33m\u001b[0m\u001b[0m\n\u001b[0;32m    872\u001b[0m                     \u001b[1;32mpass\u001b[0m\u001b[1;33m\u001b[0m\u001b[1;33m\u001b[0m\u001b[0m\n\u001b[1;32m--> 873\u001b[1;33m             \u001b[1;32mreturn\u001b[0m \u001b[0mself\u001b[0m\u001b[1;33m.\u001b[0m\u001b[0m_getitem_tuple\u001b[0m\u001b[1;33m(\u001b[0m\u001b[0mkey\u001b[0m\u001b[1;33m)\u001b[0m\u001b[1;33m\u001b[0m\u001b[1;33m\u001b[0m\u001b[0m\n\u001b[0m\u001b[0;32m    874\u001b[0m         \u001b[1;32melse\u001b[0m\u001b[1;33m:\u001b[0m\u001b[1;33m\u001b[0m\u001b[1;33m\u001b[0m\u001b[0m\n\u001b[0;32m    875\u001b[0m             \u001b[1;31m# we by definition only have the 0th axis\u001b[0m\u001b[1;33m\u001b[0m\u001b[1;33m\u001b[0m\u001b[1;33m\u001b[0m\u001b[0m\n",
      "\u001b[1;32m~\\anaconda3\\lib\\site-packages\\pandas\\core\\indexing.py\u001b[0m in \u001b[0;36m_getitem_tuple\u001b[1;34m(self, tup)\u001b[0m\n\u001b[0;32m   1441\u001b[0m     \u001b[1;32mdef\u001b[0m \u001b[0m_getitem_tuple\u001b[0m\u001b[1;33m(\u001b[0m\u001b[0mself\u001b[0m\u001b[1;33m,\u001b[0m \u001b[0mtup\u001b[0m\u001b[1;33m:\u001b[0m \u001b[0mTuple\u001b[0m\u001b[1;33m)\u001b[0m\u001b[1;33m:\u001b[0m\u001b[1;33m\u001b[0m\u001b[1;33m\u001b[0m\u001b[0m\n\u001b[0;32m   1442\u001b[0m \u001b[1;33m\u001b[0m\u001b[0m\n\u001b[1;32m-> 1443\u001b[1;33m         \u001b[0mself\u001b[0m\u001b[1;33m.\u001b[0m\u001b[0m_has_valid_tuple\u001b[0m\u001b[1;33m(\u001b[0m\u001b[0mtup\u001b[0m\u001b[1;33m)\u001b[0m\u001b[1;33m\u001b[0m\u001b[1;33m\u001b[0m\u001b[0m\n\u001b[0m\u001b[0;32m   1444\u001b[0m         \u001b[1;32mtry\u001b[0m\u001b[1;33m:\u001b[0m\u001b[1;33m\u001b[0m\u001b[1;33m\u001b[0m\u001b[0m\n\u001b[0;32m   1445\u001b[0m             \u001b[1;32mreturn\u001b[0m \u001b[0mself\u001b[0m\u001b[1;33m.\u001b[0m\u001b[0m_getitem_lowerdim\u001b[0m\u001b[1;33m(\u001b[0m\u001b[0mtup\u001b[0m\u001b[1;33m)\u001b[0m\u001b[1;33m\u001b[0m\u001b[1;33m\u001b[0m\u001b[0m\n",
      "\u001b[1;32m~\\anaconda3\\lib\\site-packages\\pandas\\core\\indexing.py\u001b[0m in \u001b[0;36m_has_valid_tuple\u001b[1;34m(self, key)\u001b[0m\n\u001b[0;32m    698\u001b[0m         \u001b[1;32mfor\u001b[0m \u001b[0mi\u001b[0m\u001b[1;33m,\u001b[0m \u001b[0mk\u001b[0m \u001b[1;32min\u001b[0m \u001b[0menumerate\u001b[0m\u001b[1;33m(\u001b[0m\u001b[0mkey\u001b[0m\u001b[1;33m)\u001b[0m\u001b[1;33m:\u001b[0m\u001b[1;33m\u001b[0m\u001b[1;33m\u001b[0m\u001b[0m\n\u001b[0;32m    699\u001b[0m             \u001b[1;32mif\u001b[0m \u001b[0mi\u001b[0m \u001b[1;33m>=\u001b[0m \u001b[0mself\u001b[0m\u001b[1;33m.\u001b[0m\u001b[0mndim\u001b[0m\u001b[1;33m:\u001b[0m\u001b[1;33m\u001b[0m\u001b[1;33m\u001b[0m\u001b[0m\n\u001b[1;32m--> 700\u001b[1;33m                 \u001b[1;32mraise\u001b[0m \u001b[0mIndexingError\u001b[0m\u001b[1;33m(\u001b[0m\u001b[1;34m\"Too many indexers\"\u001b[0m\u001b[1;33m)\u001b[0m\u001b[1;33m\u001b[0m\u001b[1;33m\u001b[0m\u001b[0m\n\u001b[0m\u001b[0;32m    701\u001b[0m             \u001b[1;32mtry\u001b[0m\u001b[1;33m:\u001b[0m\u001b[1;33m\u001b[0m\u001b[1;33m\u001b[0m\u001b[0m\n\u001b[0;32m    702\u001b[0m                 \u001b[0mself\u001b[0m\u001b[1;33m.\u001b[0m\u001b[0m_validate_key\u001b[0m\u001b[1;33m(\u001b[0m\u001b[0mk\u001b[0m\u001b[1;33m,\u001b[0m \u001b[0mi\u001b[0m\u001b[1;33m)\u001b[0m\u001b[1;33m\u001b[0m\u001b[1;33m\u001b[0m\u001b[0m\n",
      "\u001b[1;31mIndexingError\u001b[0m: Too many indexers"
     ]
    }
   ],
   "source": [
    "dogresult = dogresult.iloc[0,:]\n",
    "\n",
    "#정답지 백지화\n",
    "for i in range(len(dogresult)):\n",
    "    dogresult[i] = 0\n",
    "#정답 입력\n",
    "if v1 == 'S':\n",
    "    dogresult[9] =1\n",
    "elif v1 == 'M':\n",
    "    dogresult[8] =1\n",
    "    \n",
    "\n",
    "elif v1 == 'L':\n",
    "    dogresult[7]= 1\n",
    "if v2 == 'A':\n",
    "    dogresult[10] = 1\n",
    "elif v1 == 'J':\n",
    "    dogresult[11] = 1\n",
    "if v3 == 'I':\n",
    "    dogresult[12] = 1\n",
    "elif v3 == 'O':\n",
    "    dogresult[14] = 1\n",
    "elif v3 == 'IO':\n",
    "    dogresult[13] = 1\n",
    "    \n",
    "dogresult[2]=v5\n",
    "dogresult[3]=v6\n",
    "dogresult[4]=v7\n",
    "\n",
    "if v8 == '10u':\n",
    "    dogresult[15] = 1\n",
    "elif v8 == '30o':\n",
    "    dogresult[16] = 1\n",
    "elif v8 == '30u':\n",
    "    dogresult[17] = 1\n",
    "    \n",
    "dogresult[5] = v10\n",
    "dogresult[6] = v11\n",
    "#정답컬럼 삭제\n",
    "dogresult.drop('이름', inplace= True)\n",
    "\n",
    "# # dogresultlist = X\n",
    "# dogresult1 = np.array(dogresult)\n",
    "# dogresult1 = dogresult1.reshape(1,-1)\n",
    "# knn_dogresult = knn_model.predict(dogresult)\n",
    "# xgb_dogresult = XGB.predict(dogresult)\n",
    "# lgb_dogresult = LGB.predict(dogresult)\n",
    "# new_dogresult = np.array([knn_dogresult,xgb_dogresult,lgb_dogresult])\n",
    "# new_dogresult.shape\n",
    "# new_dogresult = np.trdogresultpose(new_dogresult)\n",
    "# new_dogresult.shape\n",
    "\n",
    "# pred_1= XGB.predict(dogresultresult)\n",
    "# socore_1 = (metrics.accuracy_score(xgb_pred,dogresult)*100)"
   ]
  },
  {
   "cell_type": "code",
   "execution_count": null,
   "metadata": {},
   "outputs": [],
   "source": []
  },
  {
   "cell_type": "code",
   "execution_count": null,
   "metadata": {},
   "outputs": [],
   "source": []
  },
  {
   "cell_type": "code",
   "execution_count": null,
   "metadata": {},
   "outputs": [],
   "source": []
  },
  {
   "cell_type": "code",
   "execution_count": null,
   "metadata": {},
   "outputs": [],
   "source": []
  },
  {
   "cell_type": "code",
   "execution_count": null,
   "metadata": {},
   "outputs": [],
   "source": []
  },
  {
   "cell_type": "code",
   "execution_count": null,
   "metadata": {},
   "outputs": [],
   "source": []
  },
  {
   "cell_type": "code",
   "execution_count": null,
   "metadata": {},
   "outputs": [],
   "source": []
  },
  {
   "cell_type": "code",
   "execution_count": null,
   "metadata": {},
   "outputs": [],
   "source": []
  }
 ],
 "metadata": {
  "kernelspec": {
   "display_name": "Python 3",
   "language": "python",
   "name": "python3"
  },
  "language_info": {
   "codemirror_mode": {
    "name": "ipython",
    "version": 3
   },
   "file_extension": ".py",
   "mimetype": "text/x-python",
   "name": "python",
   "nbconvert_exporter": "python",
   "pygments_lexer": "ipython3",
   "version": "3.8.5"
  }
 },
 "nbformat": 4,
 "nbformat_minor": 4
}
