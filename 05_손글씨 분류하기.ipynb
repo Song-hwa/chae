{
 "cells": [
  {
   "cell_type": "code",
   "execution_count": 1,
   "metadata": {},
   "outputs": [],
   "source": [
    "from tensorflow.keras.datasets import mnist"
   ]
  },
  {
   "cell_type": "markdown",
   "metadata": {},
   "source": [
    "손글씨 데이터 로딩"
   ]
  },
  {
   "cell_type": "code",
   "execution_count": 2,
   "metadata": {},
   "outputs": [],
   "source": [
    "((X_train, y_train), (X_test, y_test)) = mnist.load_data()"
   ]
  },
  {
   "cell_type": "code",
   "execution_count": 3,
   "metadata": {},
   "outputs": [
    {
     "data": {
      "text/plain": [
       "((60000, 28, 28), (60000,))"
      ]
     },
     "execution_count": 3,
     "metadata": {},
     "output_type": "execute_result"
    }
   ],
   "source": [
    "X_train.shape, y_train.shape"
   ]
  },
  {
   "cell_type": "code",
   "execution_count": 4,
   "metadata": {},
   "outputs": [
    {
     "data": {
      "text/plain": [
       "((10000, 28, 28), (10000,))"
      ]
     },
     "execution_count": 4,
     "metadata": {},
     "output_type": "execute_result"
    }
   ],
   "source": [
    "X_test.shape, y_test.shape"
   ]
  },
  {
   "cell_type": "markdown",
   "metadata": {},
   "source": [
    "#########데이터 확인"
   ]
  },
  {
   "cell_type": "code",
   "execution_count": 5,
   "metadata": {},
   "outputs": [],
   "source": [
    "import matplotlib.pyplot as plt"
   ]
  },
  {
   "cell_type": "code",
   "execution_count": 6,
   "metadata": {},
   "outputs": [
    {
     "data": {
      "text/plain": [
       "<matplotlib.image.AxesImage at 0x1f859c84da0>"
      ]
     },
     "execution_count": 6,
     "metadata": {},
     "output_type": "execute_result"
    },
    {
     "data": {
      "image/png": "[encoded data removed]",
      "text/plain": [
       "<Figure size 432x288 with 1 Axes>"
      ]
     },
     "metadata": {
      "needs_background": "light"
     },
     "output_type": "display_data"
    }
   ],
   "source": [
    "\n",
    "#cmap = plt.cm.binary : 색상> 흑백\n",
    "plt.imshow(X_train[0], cmap = plt.cm.binary)"
   ]
  },
  {
   "cell_type": "code",
   "execution_count": 7,
   "metadata": {},
   "outputs": [
    {
     "data": {
      "text/plain": [
       "array([[  0,   0,   0,   0,   0,   0,   0,   0,   0,   0,   0,   0,   0,\n",
       "          0,   0,   0,   0,   0,   0,   0,   0,   0,   0,   0,   0,   0,\n",
       "          0,   0],\n",
       "       [  0,   0,   0,   0,   0,   0,   0,   0,   0,   0,   0,   0,   0,\n",
       "          0,   0,   0,   0,   0,   0,   0,   0,   0,   0,   0,   0,   0,\n",
       "          0,   0],\n",
       "       [  0,   0,   0,   0,   0,   0,   0,   0,   0,   0,   0,   0,   0,\n",
       "          0,   0,   0,   0,   0,   0,   0,   0,   0,   0,   0,   0,   0,\n",
       "          0,   0],\n",
       "       [  0,   0,   0,   0,   0,   0,   0,   0,   0,   0,   0,   0,   0,\n",
       "          0,   0,   0,   0,   0,   0,   0,   0,   0,   0,   0,   0,   0,\n",
       "          0,   0],\n",
       "       [  0,   0,   0,   0,   0,   0,   0,   0,   0,   0,   0,   0,   0,\n",
       "          0,   0,   0,   0,   0,   0,   0,   0,   0,   0,   0,   0,   0,\n",
       "          0,   0],\n",
       "       [  0,   0,   0,   0,   0,   0,   0,   0,   0,   0,   0,   0,   3,\n",
       "         18,  18,  18, 126, 136, 175,  26, 166, 255, 247, 127,   0,   0,\n",
       "          0,   0],\n",
       "       [  0,   0,   0,   0,   0,   0,   0,   0,  30,  36,  94, 154, 170,\n",
       "        253, 253, 253, 253, 253, 225, 172, 253, 242, 195,  64,   0,   0,\n",
       "          0,   0],\n",
       "       [  0,   0,   0,   0,   0,   0,   0,  49, 238, 253, 253, 253, 253,\n",
       "        253, 253, 253, 253, 251,  93,  82,  82,  56,  39,   0,   0,   0,\n",
       "          0,   0],\n",
       "       [  0,   0,   0,   0,   0,   0,   0,  18, 219, 253, 253, 253, 253,\n",
       "        253, 198, 182, 247, 241,   0,   0,   0,   0,   0,   0,   0,   0,\n",
       "          0,   0],\n",
       "       [  0,   0,   0,   0,   0,   0,   0,   0,  80, 156, 107, 253, 253,\n",
       "        205,  11,   0,  43, 154,   0,   0,   0,   0,   0,   0,   0,   0,\n",
       "          0,   0],\n",
       "       [  0,   0,   0,   0,   0,   0,   0,   0,   0,  14,   1, 154, 253,\n",
       "         90,   0,   0,   0,   0,   0,   0,   0,   0,   0,   0,   0,   0,\n",
       "          0,   0],\n",
       "       [  0,   0,   0,   0,   0,   0,   0,   0,   0,   0,   0, 139, 253,\n",
       "        190,   2,   0,   0,   0,   0,   0,   0,   0,   0,   0,   0,   0,\n",
       "          0,   0],\n",
       "       [  0,   0,   0,   0,   0,   0,   0,   0,   0,   0,   0,  11, 190,\n",
       "        253,  70,   0,   0,   0,   0,   0,   0,   0,   0,   0,   0,   0,\n",
       "          0,   0],\n",
       "       [  0,   0,   0,   0,   0,   0,   0,   0,   0,   0,   0,   0,  35,\n",
       "        241, 225, 160, 108,   1,   0,   0,   0,   0,   0,   0,   0,   0,\n",
       "          0,   0],\n",
       "       [  0,   0,   0,   0,   0,   0,   0,   0,   0,   0,   0,   0,   0,\n",
       "         81, 240, 253, 253, 119,  25,   0,   0,   0,   0,   0,   0,   0,\n",
       "          0,   0],\n",
       "       [  0,   0,   0,   0,   0,   0,   0,   0,   0,   0,   0,   0,   0,\n",
       "          0,  45, 186, 253, 253, 150,  27,   0,   0,   0,   0,   0,   0,\n",
       "          0,   0],\n",
       "       [  0,   0,   0,   0,   0,   0,   0,   0,   0,   0,   0,   0,   0,\n",
       "          0,   0,  16,  93, 252, 253, 187,   0,   0,   0,   0,   0,   0,\n",
       "          0,   0],\n",
       "       [  0,   0,   0,   0,   0,   0,   0,   0,   0,   0,   0,   0,   0,\n",
       "          0,   0,   0,   0, 249, 253, 249,  64,   0,   0,   0,   0,   0,\n",
       "          0,   0],\n",
       "       [  0,   0,   0,   0,   0,   0,   0,   0,   0,   0,   0,   0,   0,\n",
       "          0,  46, 130, 183, 253, 253, 207,   2,   0,   0,   0,   0,   0,\n",
       "          0,   0],\n",
       "       [  0,   0,   0,   0,   0,   0,   0,   0,   0,   0,   0,   0,  39,\n",
       "        148, 229, 253, 253, 253, 250, 182,   0,   0,   0,   0,   0,   0,\n",
       "          0,   0],\n",
       "       [  0,   0,   0,   0,   0,   0,   0,   0,   0,   0,  24, 114, 221,\n",
       "        253, 253, 253, 253, 201,  78,   0,   0,   0,   0,   0,   0,   0,\n",
       "          0,   0],\n",
       "       [  0,   0,   0,   0,   0,   0,   0,   0,  23,  66, 213, 253, 253,\n",
       "        253, 253, 198,  81,   2,   0,   0,   0,   0,   0,   0,   0,   0,\n",
       "          0,   0],\n",
       "       [  0,   0,   0,   0,   0,   0,  18, 171, 219, 253, 253, 253, 253,\n",
       "        195,  80,   9,   0,   0,   0,   0,   0,   0,   0,   0,   0,   0,\n",
       "          0,   0],\n",
       "       [  0,   0,   0,   0,  55, 172, 226, 253, 253, 253, 253, 244, 133,\n",
       "         11,   0,   0,   0,   0,   0,   0,   0,   0,   0,   0,   0,   0,\n",
       "          0,   0],\n",
       "       [  0,   0,   0,   0, 136, 253, 253, 253, 212, 135, 132,  16,   0,\n",
       "          0,   0,   0,   0,   0,   0,   0,   0,   0,   0,   0,   0,   0,\n",
       "          0,   0],\n",
       "       [  0,   0,   0,   0,   0,   0,   0,   0,   0,   0,   0,   0,   0,\n",
       "          0,   0,   0,   0,   0,   0,   0,   0,   0,   0,   0,   0,   0,\n",
       "          0,   0],\n",
       "       [  0,   0,   0,   0,   0,   0,   0,   0,   0,   0,   0,   0,   0,\n",
       "          0,   0,   0,   0,   0,   0,   0,   0,   0,   0,   0,   0,   0,\n",
       "          0,   0],\n",
       "       [  0,   0,   0,   0,   0,   0,   0,   0,   0,   0,   0,   0,   0,\n",
       "          0,   0,   0,   0,   0,   0,   0,   0,   0,   0,   0,   0,   0,\n",
       "          0,   0]], dtype=uint8)"
      ]
     },
     "execution_count": 7,
     "metadata": {},
     "output_type": "execute_result"
    }
   ],
   "source": [
    "#0~255 까지의 숫자로 ㅇㅣ루어져있음\n",
    "#0이 흰색\n",
    "#255가 검은색\n",
    "X_train[0]"
   ]
  },
  {
   "cell_type": "code",
   "execution_count": 8,
   "metadata": {},
   "outputs": [],
   "source": [
    "#기계는 0과 1사이의 숫자를 좋아함\n",
    "#0~255까지의 숫자를 0~1까지로 만들어줌\n",
    "#전체 데이터를 255로 나눠줌\n",
    "X_train[0]\n",
    "X_train = X_train.astype('float32')/255\n",
    "X_test = X_test.astype('float32')/255"
   ]
  },
  {
   "cell_type": "code",
   "execution_count": 9,
   "metadata": {},
   "outputs": [],
   "source": [
    "#28X28의 2차원 데이터를 784의 1차원 데이터로 만들어줄 필요가 있음\n",
    "#input_dim에 집어넣기 위해서\n",
    "X_train = X_train.reshape((60000, 28*28))\n",
    "X_test = X_test.reshape((10000, 784))"
   ]
  },
  {
   "cell_type": "code",
   "execution_count": 10,
   "metadata": {},
   "outputs": [
    {
     "data": {
      "text/plain": [
       "(784,)"
      ]
     },
     "execution_count": 10,
     "metadata": {},
     "output_type": "execute_result"
    }
   ],
   "source": [
    "X_train[0].shape"
   ]
  },
  {
   "cell_type": "code",
   "execution_count": 11,
   "metadata": {},
   "outputs": [
    {
     "data": {
      "text/plain": [
       "array([0, 1, 2, 3, 4, 5, 6, 7, 8, 9], dtype=uint8)"
      ]
     },
     "execution_count": 11,
     "metadata": {},
     "output_type": "execute_result"
    }
   ],
   "source": [
    "import numpy as np\n",
    "np.unique(y_train)"
   ]
  },
  {
   "cell_type": "code",
   "execution_count": 12,
   "metadata": {},
   "outputs": [],
   "source": [
    "import pandas as pd\n",
    "y_train = pd.get_dummies(y_train)\n",
    "y_test = pd.get_dummies(y_test)"
   ]
  },
  {
   "cell_type": "code",
   "execution_count": 13,
   "metadata": {},
   "outputs": [],
   "source": [
    "#입력층 개수 : 784\n",
    "#출력층 개수 : 10\n",
    "\n",
    "\n"
   ]
  },
  {
   "cell_type": "code",
   "execution_count": 14,
   "metadata": {},
   "outputs": [],
   "source": [
    "import tensorflow as tf\n",
    "seed = 100\n",
    "np.random.seed(seed)\n",
    "tf.random.set_seed(seed)"
   ]
  },
  {
   "cell_type": "code",
   "execution_count": 15,
   "metadata": {},
   "outputs": [
    {
     "data": {
      "text/plain": [
       "<tensorflow.python.keras.engine.sequential.Sequential at 0x1f857aae198>"
      ]
     },
     "execution_count": 15,
     "metadata": {},
     "output_type": "execute_result"
    }
   ],
   "source": [
    "from tensorflow.keras import Sequential\n",
    "from tensorflow.keras.layers import Dense\n",
    "#모델 설계\n",
    "model = Sequential()\n",
    "#입력층, 중간층의 활성화 함수 : sigmoid\n",
    "model.add(Dense(units = 32, input_dim = 784, activation = 'sigmoid'))\n",
    "model.add(Dense(units = 64, input_dim = 784, activation = 'sigmoid'))\n",
    "model.add(Dense(units = 128, input_dim = 784, activation = 'sigmoid'))\n",
    "model.add(Dense(units = 64, input_dim = 784, activation = 'sigmoid'))\n",
    "model.add(Dense(units = 32, input_dim = 784, activation = 'sigmoid'))\n",
    "\n",
    "#출력층의 활성화 함수 : sigmoid\n",
    "model.add(Dense(units = 10, activation = 'sigmoid'))\n",
    "\n",
    "model"
   ]
  },
  {
   "cell_type": "code",
   "execution_count": 16,
   "metadata": {},
   "outputs": [
    {
     "name": "stdout",
     "output_type": "stream",
     "text": [
      "Model: \"sequential\"\n",
      "_________________________________________________________________\n",
      "Layer (type)                 Output Shape              Param #   \n",
      "=================================================================\n",
      "dense (Dense)                (None, 32)                25120     \n",
      "_________________________________________________________________\n",
      "dense_1 (Dense)              (None, 64)                2112      \n",
      "_________________________________________________________________\n",
      "dense_2 (Dense)              (None, 128)               8320      \n",
      "_________________________________________________________________\n",
      "dense_3 (Dense)              (None, 64)                8256      \n",
      "_________________________________________________________________\n",
      "dense_4 (Dense)              (None, 32)                2080      \n",
      "_________________________________________________________________\n",
      "dense_5 (Dense)              (None, 10)                330       \n",
      "=================================================================\n",
      "Total params: 46,218\n",
      "Trainable params: 46,218\n",
      "Non-trainable params: 0\n",
      "_________________________________________________________________\n"
     ]
    }
   ],
   "source": [
    "model.summary()"
   ]
  },
  {
   "cell_type": "code",
   "execution_count": 17,
   "metadata": {},
   "outputs": [],
   "source": [
    "#모델 학습 방법 설정\n",
    "# loss = categorical_crossentropy\n",
    "#optimizer = adam\n",
    "#metrics = accuracy\n",
    "model.compile(loss = 'categorical_crossentropy',\n",
    "             optimizer = 'adam',\n",
    "             metrics = ['accuracy'])\n",
    "\n"
   ]
  },
  {
   "cell_type": "code",
   "execution_count": 18,
   "metadata": {},
   "outputs": [
    {
     "name": "stdout",
     "output_type": "stream",
     "text": [
      "Train on 60000 samples\n",
      "Epoch 1/20\n",
      "60000/60000 [==============================] - 3s 53us/sample - loss: 1.3946 - accuracy: 0.4700\n",
      "Epoch 2/20\n",
      "60000/60000 [==============================] - 2s 40us/sample - loss: 0.6510 - accuracy: 0.7942\n",
      "Epoch 3/20\n",
      "60000/60000 [==============================] - 2s 40us/sample - loss: 0.3758 - accuracy: 0.9044\n",
      "Epoch 4/20\n",
      "60000/60000 [==============================] - 2s 40us/sample - loss: 0.2915 - accuracy: 0.9235\n",
      "Epoch 5/20\n",
      "60000/60000 [==============================] - 2s 40us/sample - loss: 0.2505 - accuracy: 0.9327\n",
      "Epoch 6/20\n",
      "60000/60000 [==============================] - 2s 39us/sample - loss: 0.2247 - accuracy: 0.9399\n",
      "Epoch 7/20\n",
      "60000/60000 [==============================] - 2s 38us/sample - loss: 0.2029 - accuracy: 0.9453\n",
      "Epoch 8/20\n",
      "60000/60000 [==============================] - 2s 38us/sample - loss: 0.1837 - accuracy: 0.9505\n",
      "Epoch 9/20\n",
      "60000/60000 [==============================] - 2s 38us/sample - loss: 0.1680 - accuracy: 0.9543\n",
      "Epoch 10/20\n",
      "60000/60000 [==============================] - 2s 38us/sample - loss: 0.1533 - accuracy: 0.9584\n",
      "Epoch 11/20\n",
      "60000/60000 [==============================] - 2s 38us/sample - loss: 0.1416 - accuracy: 0.9617\n",
      "Epoch 12/20\n",
      "60000/60000 [==============================] - 2s 38us/sample - loss: 0.1328 - accuracy: 0.9632\n",
      "Epoch 13/20\n",
      "60000/60000 [==============================] - 2s 37us/sample - loss: 0.1236 - accuracy: 0.9667\n",
      "Epoch 14/20\n",
      "60000/60000 [==============================] - 2s 38us/sample - loss: 0.1168 - accuracy: 0.9681\n",
      "Epoch 15/20\n",
      "60000/60000 [==============================] - 2s 38us/sample - loss: 0.1112 - accuracy: 0.9693\n",
      "Epoch 16/20\n",
      "60000/60000 [==============================] - 2s 38us/sample - loss: 0.1046 - accuracy: 0.9713\n",
      "Epoch 17/20\n",
      "60000/60000 [==============================] - 2s 38us/sample - loss: 0.0992 - accuracy: 0.9725\n",
      "Epoch 18/20\n",
      "60000/60000 [==============================] - 2s 38us/sample - loss: 0.0955 - accuracy: 0.9739\n",
      "Epoch 19/20\n",
      "60000/60000 [==============================] - 2s 38us/sample - loss: 0.0908 - accuracy: 0.9753\n",
      "Epoch 20/20\n",
      "60000/60000 [==============================] - 2s 38us/sample - loss: 0.0882 - accuracy: 0.9755\n"
     ]
    }
   ],
   "source": [
    "#모델 학습\n",
    "#20\n",
    "history1 = model.fit(X_train,y_train,epochs = 20)"
   ]
  },
  {
   "cell_type": "code",
   "execution_count": 19,
   "metadata": {},
   "outputs": [
    {
     "name": "stdout",
     "output_type": "stream",
     "text": [
      "10000/10000 [==============================] - 0s 39us/sample - loss: 0.1888 - accuracy: 0.9534\n"
     ]
    },
    {
     "data": {
      "text/plain": [
       "[0.18875090100094677, 0.9534]"
      ]
     },
     "execution_count": 19,
     "metadata": {},
     "output_type": "execute_result"
    }
   ],
   "source": [
    "#모델 평가\n",
    "model.evaluate(X_test, y_test)"
   ]
  },
  {
   "cell_type": "code",
   "execution_count": 20,
   "metadata": {},
   "outputs": [],
   "source": [
    "#모든 조건은 동일\n",
    "#model2라는 딥러닝 모델 설계\n",
    "#입력층과 중간층의 활성화함수 sigmoid > relu\n",
    "#history2 = model2.fit()"
   ]
  },
  {
   "cell_type": "code",
   "execution_count": 81,
   "metadata": {},
   "outputs": [],
   "source": [
    "model2 = Sequential()\n",
    "#입력층, 중간층의 활성화 함수 : relu\n",
    "model2.add(Dense(units = 32, input_dim = 784, activation = 'relu'))\n",
    "model2.add(Dense(units = 64, activation = 'relu'))\n",
    "model2.add(Dense(units = 128,  activation = 'relu'))\n",
    "model2.add(Dense(units = 64,  activation = 'relu'))\n",
    "model2.add(Dense(units = 32,  activation = 'relu'))\n",
    "\n",
    "#출력층의 활성화 함수 : softmax\n",
    "model2.add(Dense(units = 10, activation = 'softmax'))\n"
   ]
  },
  {
   "cell_type": "code",
   "execution_count": 83,
   "metadata": {},
   "outputs": [],
   "source": [
    "\n",
    "model2.compile(loss = 'categorical_crossentropy',\n",
    "              optimizer = 'adam',\n",
    "              metrics = ['accuracy'])\n"
   ]
  },
  {
   "cell_type": "code",
   "execution_count": 23,
   "metadata": {},
   "outputs": [
    {
     "data": {
      "text/html": [
       "<div>\n",
       "<style scoped>\n",
       "    .dataframe tbody tr th:only-of-type {\n",
       "        vertical-align: middle;\n",
       "    }\n",
       "\n",
       "    .dataframe tbody tr th {\n",
       "        vertical-align: top;\n",
       "    }\n",
       "\n",
       "    .dataframe thead th {\n",
       "        text-align: right;\n",
       "    }\n",
       "</style>\n",
       "<table border=\"1\" class=\"dataframe\">\n",
       "  <thead>\n",
       "    <tr style=\"text-align: right;\">\n",
       "      <th></th>\n",
       "      <th>0</th>\n",
       "      <th>1</th>\n",
       "      <th>2</th>\n",
       "      <th>3</th>\n",
       "      <th>4</th>\n",
       "      <th>5</th>\n",
       "      <th>6</th>\n",
       "      <th>7</th>\n",
       "      <th>8</th>\n",
       "      <th>9</th>\n",
       "    </tr>\n",
       "  </thead>\n",
       "  <tbody>\n",
       "    <tr>\n",
       "      <th>0</th>\n",
       "      <td>0</td>\n",
       "      <td>0</td>\n",
       "      <td>0</td>\n",
       "      <td>0</td>\n",
       "      <td>0</td>\n",
       "      <td>1</td>\n",
       "      <td>0</td>\n",
       "      <td>0</td>\n",
       "      <td>0</td>\n",
       "      <td>0</td>\n",
       "    </tr>\n",
       "    <tr>\n",
       "      <th>1</th>\n",
       "      <td>1</td>\n",
       "      <td>0</td>\n",
       "      <td>0</td>\n",
       "      <td>0</td>\n",
       "      <td>0</td>\n",
       "      <td>0</td>\n",
       "      <td>0</td>\n",
       "      <td>0</td>\n",
       "      <td>0</td>\n",
       "      <td>0</td>\n",
       "    </tr>\n",
       "    <tr>\n",
       "      <th>2</th>\n",
       "      <td>0</td>\n",
       "      <td>0</td>\n",
       "      <td>0</td>\n",
       "      <td>0</td>\n",
       "      <td>1</td>\n",
       "      <td>0</td>\n",
       "      <td>0</td>\n",
       "      <td>0</td>\n",
       "      <td>0</td>\n",
       "      <td>0</td>\n",
       "    </tr>\n",
       "    <tr>\n",
       "      <th>3</th>\n",
       "      <td>0</td>\n",
       "      <td>1</td>\n",
       "      <td>0</td>\n",
       "      <td>0</td>\n",
       "      <td>0</td>\n",
       "      <td>0</td>\n",
       "      <td>0</td>\n",
       "      <td>0</td>\n",
       "      <td>0</td>\n",
       "      <td>0</td>\n",
       "    </tr>\n",
       "    <tr>\n",
       "      <th>4</th>\n",
       "      <td>0</td>\n",
       "      <td>0</td>\n",
       "      <td>0</td>\n",
       "      <td>0</td>\n",
       "      <td>0</td>\n",
       "      <td>0</td>\n",
       "      <td>0</td>\n",
       "      <td>0</td>\n",
       "      <td>0</td>\n",
       "      <td>1</td>\n",
       "    </tr>\n",
       "    <tr>\n",
       "      <th>...</th>\n",
       "      <td>...</td>\n",
       "      <td>...</td>\n",
       "      <td>...</td>\n",
       "      <td>...</td>\n",
       "      <td>...</td>\n",
       "      <td>...</td>\n",
       "      <td>...</td>\n",
       "      <td>...</td>\n",
       "      <td>...</td>\n",
       "      <td>...</td>\n",
       "    </tr>\n",
       "    <tr>\n",
       "      <th>59995</th>\n",
       "      <td>0</td>\n",
       "      <td>0</td>\n",
       "      <td>0</td>\n",
       "      <td>0</td>\n",
       "      <td>0</td>\n",
       "      <td>0</td>\n",
       "      <td>0</td>\n",
       "      <td>0</td>\n",
       "      <td>1</td>\n",
       "      <td>0</td>\n",
       "    </tr>\n",
       "    <tr>\n",
       "      <th>59996</th>\n",
       "      <td>0</td>\n",
       "      <td>0</td>\n",
       "      <td>0</td>\n",
       "      <td>1</td>\n",
       "      <td>0</td>\n",
       "      <td>0</td>\n",
       "      <td>0</td>\n",
       "      <td>0</td>\n",
       "      <td>0</td>\n",
       "      <td>0</td>\n",
       "    </tr>\n",
       "    <tr>\n",
       "      <th>59997</th>\n",
       "      <td>0</td>\n",
       "      <td>0</td>\n",
       "      <td>0</td>\n",
       "      <td>0</td>\n",
       "      <td>0</td>\n",
       "      <td>1</td>\n",
       "      <td>0</td>\n",
       "      <td>0</td>\n",
       "      <td>0</td>\n",
       "      <td>0</td>\n",
       "    </tr>\n",
       "    <tr>\n",
       "      <th>59998</th>\n",
       "      <td>0</td>\n",
       "      <td>0</td>\n",
       "      <td>0</td>\n",
       "      <td>0</td>\n",
       "      <td>0</td>\n",
       "      <td>0</td>\n",
       "      <td>1</td>\n",
       "      <td>0</td>\n",
       "      <td>0</td>\n",
       "      <td>0</td>\n",
       "    </tr>\n",
       "    <tr>\n",
       "      <th>59999</th>\n",
       "      <td>0</td>\n",
       "      <td>0</td>\n",
       "      <td>0</td>\n",
       "      <td>0</td>\n",
       "      <td>0</td>\n",
       "      <td>0</td>\n",
       "      <td>0</td>\n",
       "      <td>0</td>\n",
       "      <td>1</td>\n",
       "      <td>0</td>\n",
       "    </tr>\n",
       "  </tbody>\n",
       "</table>\n",
       "<p>60000 rows × 10 columns</p>\n",
       "</div>"
      ],
      "text/plain": [
       "       0  1  2  3  4  5  6  7  8  9\n",
       "0      0  0  0  0  0  1  0  0  0  0\n",
       "1      1  0  0  0  0  0  0  0  0  0\n",
       "2      0  0  0  0  1  0  0  0  0  0\n",
       "3      0  1  0  0  0  0  0  0  0  0\n",
       "4      0  0  0  0  0  0  0  0  0  1\n",
       "...   .. .. .. .. .. .. .. .. .. ..\n",
       "59995  0  0  0  0  0  0  0  0  1  0\n",
       "59996  0  0  0  1  0  0  0  0  0  0\n",
       "59997  0  0  0  0  0  1  0  0  0  0\n",
       "59998  0  0  0  0  0  0  1  0  0  0\n",
       "59999  0  0  0  0  0  0  0  0  1  0\n",
       "\n",
       "[60000 rows x 10 columns]"
      ]
     },
     "execution_count": 23,
     "metadata": {},
     "output_type": "execute_result"
    }
   ],
   "source": [
    "y_train"
   ]
  },
  {
   "cell_type": "code",
   "execution_count": 24,
   "metadata": {},
   "outputs": [
    {
     "name": "stdout",
     "output_type": "stream",
     "text": [
      "Train on 60000 samples\n",
      "Epoch 1/20\n",
      "60000/60000 [==============================] - 3s 45us/sample - loss: 0.4116 - accuracy: 0.8763\n",
      "Epoch 2/20\n",
      "60000/60000 [==============================] - 2s 39us/sample - loss: 0.1938 - accuracy: 0.9457\n",
      "Epoch 3/20\n",
      "60000/60000 [==============================] - 2s 39us/sample - loss: 0.1590 - accuracy: 0.9541\n",
      "Epoch 4/20\n",
      "60000/60000 [==============================] - 2s 38us/sample - loss: 0.1394 - accuracy: 0.9603\n",
      "Epoch 5/20\n",
      "60000/60000 [==============================] - 2s 38us/sample - loss: 0.1256 - accuracy: 0.9640\n",
      "Epoch 6/20\n",
      "60000/60000 [==============================] - 2s 39us/sample - loss: 0.1139 - accuracy: 0.9670\n",
      "Epoch 7/20\n",
      "60000/60000 [==============================] - 2s 40us/sample - loss: 0.1011 - accuracy: 0.9708\n",
      "Epoch 8/20\n",
      "60000/60000 [==============================] - 2s 39us/sample - loss: 0.0935 - accuracy: 0.9717\n",
      "Epoch 9/20\n",
      "60000/60000 [==============================] - 2s 39us/sample - loss: 0.0867 - accuracy: 0.9745\n",
      "Epoch 10/20\n",
      "60000/60000 [==============================] - 2s 39us/sample - loss: 0.0827 - accuracy: 0.9749\n",
      "Epoch 11/20\n",
      "60000/60000 [==============================] - 2s 39us/sample - loss: 0.0770 - accuracy: 0.9763\n",
      "Epoch 12/20\n",
      "60000/60000 [==============================] - 2s 39us/sample - loss: 0.0729 - accuracy: 0.9778\n",
      "Epoch 13/20\n",
      "60000/60000 [==============================] - 2s 40us/sample - loss: 0.0686 - accuracy: 0.9793\n",
      "Epoch 14/20\n",
      "60000/60000 [==============================] - 2s 40us/sample - loss: 0.0671 - accuracy: 0.9796\n",
      "Epoch 15/20\n",
      "60000/60000 [==============================] - 2s 39us/sample - loss: 0.0625 - accuracy: 0.9807\n",
      "Epoch 16/20\n",
      "60000/60000 [==============================] - 2s 39us/sample - loss: 0.0608 - accuracy: 0.9813\n",
      "Epoch 17/20\n",
      "60000/60000 [==============================] - 2s 39us/sample - loss: 0.0574 - accuracy: 0.9821\n",
      "Epoch 18/20\n",
      "60000/60000 [==============================] - 2s 40us/sample - loss: 0.0542 - accuracy: 0.9828\n",
      "Epoch 19/20\n",
      "60000/60000 [==============================] - 2s 40us/sample - loss: 0.0525 - accuracy: 0.9835\n",
      "Epoch 20/20\n",
      "60000/60000 [==============================] - 2s 40us/sample - loss: 0.0499 - accuracy: 0.9844\n"
     ]
    }
   ],
   "source": [
    "history2 = model2.fit(X_train,y_train, epochs = 20)"
   ]
  },
  {
   "cell_type": "code",
   "execution_count": 25,
   "metadata": {},
   "outputs": [
    {
     "name": "stdout",
     "output_type": "stream",
     "text": [
      "10000/10000 [==============================] - 0s 43us/sample - loss: 0.1592 - accuracy: 0.9646\n"
     ]
    },
    {
     "data": {
      "text/plain": [
       "[0.15923973087593912, 0.9646]"
      ]
     },
     "execution_count": 25,
     "metadata": {},
     "output_type": "execute_result"
    }
   ],
   "source": [
    "model2.evaluate(X_test, y_test)"
   ]
  },
  {
   "cell_type": "code",
   "execution_count": 26,
   "metadata": {},
   "outputs": [],
   "source": [
    "#model1 > 입력층, 중간층 활성화함수 : sigmoid\n",
    "#model 2 > 입력층, 중간층 활성화 함수 : relu\n"
   ]
  },
  {
   "cell_type": "code",
   "execution_count": 27,
   "metadata": {},
   "outputs": [
    {
     "data": {
      "image/png": "[encoded data removed]",
      "text/plain": [
       "<Figure size 720x360 with 1 Axes>"
      ]
     },
     "metadata": {
      "needs_background": "light"
     },
     "output_type": "display_data"
    }
   ],
   "source": [
    "plt.figure(figsize=(10,5))\n",
    "#range 범위 : epochs 갯수\n",
    "plt.plot(range(20), history1.history['accuracy'], label = 'model1 - sigmoid')\n",
    "plt.plot(range(20), history2.history['accuracy'], label = 'model2 - relu')\n",
    "\n",
    "plt.legend()#범례표시\n",
    "plt.show()"
   ]
  },
  {
   "cell_type": "code",
   "execution_count": 28,
   "metadata": {},
   "outputs": [
    {
     "data": {
      "text/plain": [
       "[0.47001666,\n",
       " 0.7942167,\n",
       " 0.9044,\n",
       " 0.9235333,\n",
       " 0.93268335,\n",
       " 0.93993336,\n",
       " 0.94528335,\n",
       " 0.9504833,\n",
       " 0.95435,\n",
       " 0.9583667,\n",
       " 0.96165,\n",
       " 0.96323335,\n",
       " 0.96673334,\n",
       " 0.96811664,\n",
       " 0.96935,\n",
       " 0.9713167,\n",
       " 0.97245,\n",
       " 0.97388333,\n",
       " 0.97525,\n",
       " 0.97546667]"
      ]
     },
     "execution_count": 28,
     "metadata": {},
     "output_type": "execute_result"
    }
   ],
   "source": [
    "#model1에서 epochs을 돌린결과가 들어있음\n",
    "#history라는 함수를 통해서 accuracy\n",
    "\n",
    "history1.history['accuracy']\n"
   ]
  },
  {
   "cell_type": "code",
   "execution_count": 29,
   "metadata": {},
   "outputs": [],
   "source": [
    "#jpg>컬러사진\n",
    "#gif>흑백사진\n"
   ]
  },
  {
   "cell_type": "markdown",
   "metadata": {},
   "source": [
    "###직접 그린 그림 불러오기"
   ]
  },
  {
   "cell_type": "code",
   "execution_count": 30,
   "metadata": {},
   "outputs": [],
   "source": [
    "import PIL.Image as pimg"
   ]
  },
  {
   "cell_type": "code",
   "execution_count": 31,
   "metadata": {},
   "outputs": [
    {
     "data": {
      "text/plain": [
       "<matplotlib.image.AxesImage at 0x1fa1f534710>"
      ]
     },
     "execution_count": 31,
     "metadata": {},
     "output_type": "execute_result"
    },
    {
     "data": {
      "image/png": "[encoded data removed]",
      "text/plain": [
       "<Figure size 432x288 with 1 Axes>"
      ]
     },
     "metadata": {
      "needs_background": "light"
     },
     "output_type": "display_data"
    }
   ],
   "source": [
    "img_num33 = pimg.open('num33.gif')\n",
    "\n",
    "plt.imshow(img_num33)"
   ]
  },
  {
   "cell_type": "code",
   "execution_count": 32,
   "metadata": {},
   "outputs": [
    {
     "data": {
      "image/png": "[encoded data removed]",
      "text/plain": [
       "<PIL.GifImagePlugin.GifImageFile image mode=P size=28x28 at 0x1F8657441D0>"
      ]
     },
     "execution_count": 32,
     "metadata": {},
     "output_type": "execute_result"
    }
   ],
   "source": [
    "#28*28 2차원 데이터> 784의 1차원 데이터로 변환\n",
    "#0~255사이의 픽셀값 > 0~1 사이의 픽셀 값\n",
    "img_num33"
   ]
  },
  {
   "cell_type": "code",
   "execution_count": 33,
   "metadata": {},
   "outputs": [],
   "source": [
    "#이미지 타입을 넘파이 배열로 변환\n",
    "num33 = np.array(img_num33)\n"
   ]
  },
  {
   "cell_type": "code",
   "execution_count": 34,
   "metadata": {},
   "outputs": [],
   "source": [
    "#기존에는 흰색>0 검은색 > 255\n",
    "#지금은 흰색이 >255 검은색 >0\n",
    "\n",
    "num33 = 255 - num33"
   ]
  },
  {
   "cell_type": "code",
   "execution_count": 35,
   "metadata": {},
   "outputs": [],
   "source": [
    "num33 = num33.reshape(1,784)\n",
    "num33 = num33.astype('float32')/255"
   ]
  },
  {
   "cell_type": "code",
   "execution_count": 36,
   "metadata": {},
   "outputs": [
    {
     "data": {
      "text/plain": [
       "array([[ 0,  0,  0, 97,  0,  0,  0,  0,  0,  1]])"
      ]
     },
     "execution_count": 36,
     "metadata": {},
     "output_type": "execute_result"
    }
   ],
   "source": [
    "#예측하기\n",
    "#10개의 값이 출력\n",
    "# 0:0%\n",
    "#1 :0%\n",
    "#2:0%\n",
    "#3:0%\n",
    "#4:99%\n",
    "(model2.predict(num33)*100).astype('int')"
   ]
  },
  {
   "cell_type": "code",
   "execution_count": 37,
   "metadata": {},
   "outputs": [
    {
     "data": {
      "text/plain": [
       "array([3], dtype=int64)"
      ]
     },
     "execution_count": 37,
     "metadata": {},
     "output_type": "execute_result"
    }
   ],
   "source": [
    "model2.predict_classes(num33)"
   ]
  },
  {
   "cell_type": "code",
   "execution_count": 38,
   "metadata": {},
   "outputs": [],
   "source": [
    "##딥러닝 모델 저장 -파일형식으로 저장"
   ]
  },
  {
   "cell_type": "code",
   "execution_count": 39,
   "metadata": {},
   "outputs": [],
   "source": [
    "model2.save('./model/model_handnum1.h5')"
   ]
  },
  {
   "cell_type": "code",
   "execution_count": 43,
   "metadata": {},
   "outputs": [],
   "source": [
    "from tensorflow.keras.models import load_model"
   ]
  },
  {
   "cell_type": "code",
   "execution_count": 44,
   "metadata": {},
   "outputs": [],
   "source": [
    "model3 = load_model('./model/model_handnum1.h5')"
   ]
  },
  {
   "cell_type": "code",
   "execution_count": 45,
   "metadata": {},
   "outputs": [
    {
     "name": "stdout",
     "output_type": "stream",
     "text": [
      "60000/60000 [==============================] - 2s 29us/sample - loss: 0.0391 - accuracy: 0.9881\n"
     ]
    },
    {
     "data": {
      "text/plain": [
       "[0.03905361194554716, 0.98808336]"
      ]
     },
     "execution_count": 45,
     "metadata": {},
     "output_type": "execute_result"
    }
   ],
   "source": [
    "model3.evaluate(X_train,y_train)"
   ]
  },
  {
   "cell_type": "code",
   "execution_count": 46,
   "metadata": {},
   "outputs": [],
   "source": [
    "# 영선씨의 모델 가져오기\n",
    "model_youngsun = load_model('./model/model_youngsun.h5')"
   ]
  },
  {
   "cell_type": "code",
   "execution_count": 47,
   "metadata": {},
   "outputs": [
    {
     "name": "stdout",
     "output_type": "stream",
     "text": [
      "60000/60000 [==============================] - 2s 33us/sample - loss: 0.0010 - accuracy: 0.9997\n"
     ]
    },
    {
     "data": {
      "text/plain": [
       "[0.001041066051255196, 0.99965]"
      ]
     },
     "execution_count": 47,
     "metadata": {},
     "output_type": "execute_result"
    }
   ],
   "source": [
    "model_youngsun.evaluate(X_train,y_train)"
   ]
  },
  {
   "cell_type": "code",
   "execution_count": 40,
   "metadata": {},
   "outputs": [],
   "source": [
    "##딥러닝 교차검증"
   ]
  },
  {
   "cell_type": "code",
   "execution_count": 48,
   "metadata": {},
   "outputs": [],
   "source": [
    "from sklearn.model_selection import KFold, cross_val_score"
   ]
  },
  {
   "cell_type": "code",
   "execution_count": 54,
   "metadata": {},
   "outputs": [],
   "source": [
    "def deep_model():\n",
    "    model2 = Sequential()\n",
    "\n",
    "    model2.add(Dense(units = 32, input_dim = 784, activation = 'relu'))\n",
    "    model2.add(Dense(units = 64, activation = 'relu'))\n",
    "    model2.add(Dense(units = 128,  activation = 'relu'))\n",
    "    model2.add(Dense(units = 64,  activation = 'relu'))\n",
    "    model2.add(Dense(units = 32,  activation = 'relu'))\n",
    "\n",
    "    #출력층의 활성화 함수 : relu\n",
    "    model2.add(Dense(units = 10, activation = 'softmax'))\n",
    "\n",
    "\n",
    "    model2.compile(loss = 'categorical_crossentropy',\n",
    "                  optimizer = 'adam',\n",
    "                  metrics = ['accuracy'])\n",
    "\n",
    "    return model2\n",
    "\n",
    "    "
   ]
  },
  {
   "cell_type": "code",
   "execution_count": 60,
   "metadata": {},
   "outputs": [
    {
     "name": "stdout",
     "output_type": "stream",
     "text": [
      "Train on 48000 samples\n",
      "Epoch 1/20\n",
      "48000/48000 [==============================] - 6s 129us/sample - loss: 0.3297 - accuracy: 0.8985\n",
      "Epoch 2/20\n",
      "48000/48000 [==============================] - 6s 122us/sample - loss: 0.1722 - accuracy: 0.9491\n",
      "Epoch 3/20\n",
      "48000/48000 [==============================] - 6s 122us/sample - loss: 0.1390 - accuracy: 0.9596\n",
      "Epoch 4/20\n",
      "48000/48000 [==============================] - 6s 121us/sample - loss: 0.1185 - accuracy: 0.9647\n",
      "Epoch 5/20\n",
      "48000/48000 [==============================] - 6s 121us/sample - loss: 0.1059 - accuracy: 0.9683\n",
      "Epoch 6/20\n",
      "48000/48000 [==============================] - 6s 121us/sample - loss: 0.0933 - accuracy: 0.9721\n",
      "Epoch 7/20\n",
      "48000/48000 [==============================] - 6s 121us/sample - loss: 0.0848 - accuracy: 0.9747\n",
      "Epoch 8/20\n",
      "48000/48000 [==============================] - 6s 124us/sample - loss: 0.0771 - accuracy: 0.9766\n",
      "Epoch 9/20\n",
      "48000/48000 [==============================] - 6s 127us/sample - loss: 0.0718 - accuracy: 0.9783\n",
      "Epoch 10/20\n",
      "48000/48000 [==============================] - 6s 125us/sample - loss: 0.0678 - accuracy: 0.9798\n",
      "Epoch 11/20\n",
      "48000/48000 [==============================] - 6s 124us/sample - loss: 0.0634 - accuracy: 0.9814\n",
      "Epoch 12/20\n",
      "48000/48000 [==============================] - 6s 127us/sample - loss: 0.0586 - accuracy: 0.9825\n",
      "Epoch 13/20\n",
      "48000/48000 [==============================] - 6s 124us/sample - loss: 0.0585 - accuracy: 0.9831\n",
      "Epoch 14/20\n",
      "48000/48000 [==============================] - 6s 123us/sample - loss: 0.0551 - accuracy: 0.9830\n",
      "Epoch 15/20\n",
      "48000/48000 [==============================] - 6s 121us/sample - loss: 0.0511 - accuracy: 0.9844\n",
      "Epoch 16/20\n",
      "48000/48000 [==============================] - 6s 122us/sample - loss: 0.0491 - accuracy: 0.9852\n",
      "Epoch 17/20\n",
      "48000/48000 [==============================] - 6s 124us/sample - loss: 0.0511 - accuracy: 0.9845\n",
      "Epoch 18/20\n",
      "48000/48000 [==============================] - 6s 121us/sample - loss: 0.0469 - accuracy: 0.9863\n",
      "Epoch 19/20\n",
      "48000/48000 [==============================] - 6s 122us/sample - loss: 0.0465 - accuracy: 0.9860\n",
      "Epoch 20/20\n",
      "48000/48000 [==============================] - 6s 122us/sample - loss: 0.0433 - accuracy: 0.9869\n",
      "12000/12000 [==============================] - 1s 92us/sample - loss: 0.1807 - accuracy: 0.9667\n",
      "Train on 48000 samples\n",
      "Epoch 1/20\n",
      "48000/48000 [==============================] - 6s 128us/sample - loss: 0.3079 - accuracy: 0.9066\n",
      "Epoch 2/20\n",
      "48000/48000 [==============================] - 6s 124us/sample - loss: 0.1603 - accuracy: 0.9529\n",
      "Epoch 3/20\n",
      "48000/48000 [==============================] - 6s 123us/sample - loss: 0.1278 - accuracy: 0.9618\n",
      "Epoch 4/20\n",
      "48000/48000 [==============================] - 6s 122us/sample - loss: 0.1088 - accuracy: 0.9678\n",
      "Epoch 5/20\n",
      "48000/48000 [==============================] - 6s 128us/sample - loss: 0.0969 - accuracy: 0.9716\n",
      "Epoch 6/20\n",
      "48000/48000 [==============================] - 6s 128us/sample - loss: 0.0869 - accuracy: 0.9741\n",
      "Epoch 7/20\n",
      "48000/48000 [==============================] - 6s 123us/sample - loss: 0.0778 - accuracy: 0.9772\n",
      "Epoch 8/20\n",
      "48000/48000 [==============================] - 6s 122us/sample - loss: 0.0709 - accuracy: 0.9788\n",
      "Epoch 9/20\n",
      "48000/48000 [==============================] - 6s 125us/sample - loss: 0.0665 - accuracy: 0.9801\n",
      "Epoch 10/20\n",
      "48000/48000 [==============================] - 6s 129us/sample - loss: 0.0609 - accuracy: 0.9819\n",
      "Epoch 11/20\n",
      "48000/48000 [==============================] - 6s 122us/sample - loss: 0.0561 - accuracy: 0.9834\n",
      "Epoch 12/20\n",
      "48000/48000 [==============================] - 6s 122us/sample - loss: 0.0527 - accuracy: 0.9845\n",
      "Epoch 13/20\n",
      "48000/48000 [==============================] - 6s 121us/sample - loss: 0.0528 - accuracy: 0.9849\n",
      "Epoch 14/20\n",
      "48000/48000 [==============================] - 6s 120us/sample - loss: 0.0492 - accuracy: 0.9854\n",
      "Epoch 15/20\n",
      "48000/48000 [==============================] - 6s 124us/sample - loss: 0.0465 - accuracy: 0.9861\n",
      "Epoch 16/20\n",
      "48000/48000 [==============================] - 6s 127us/sample - loss: 0.0446 - accuracy: 0.9866\n",
      "Epoch 17/20\n",
      "48000/48000 [==============================] - 6s 124us/sample - loss: 0.0433 - accuracy: 0.9868\n",
      "Epoch 18/20\n",
      "48000/48000 [==============================] - 6s 126us/sample - loss: 0.0430 - accuracy: 0.9876\n",
      "Epoch 19/20\n",
      "48000/48000 [==============================] - 6s 130us/sample - loss: 0.0415 - accuracy: 0.9880\n",
      "Epoch 20/20\n",
      "48000/48000 [==============================] - 6s 126us/sample - loss: 0.0405 - accuracy: 0.9884\n",
      "12000/12000 [==============================] - 1s 91us/sample - loss: 0.1950 - accuracy: 0.9663\n",
      "Train on 48000 samples\n",
      "Epoch 1/20\n",
      "48000/48000 [==============================] - 6s 130us/sample - loss: 0.3226 - accuracy: 0.9016\n",
      "Epoch 2/20\n",
      "48000/48000 [==============================] - 6s 123us/sample - loss: 0.1718 - accuracy: 0.9498\n",
      "Epoch 3/20\n",
      "48000/48000 [==============================] - 6s 120us/sample - loss: 0.1367 - accuracy: 0.9601\n",
      "Epoch 4/20\n",
      "48000/48000 [==============================] - 6s 120us/sample - loss: 0.1162 - accuracy: 0.9645\n",
      "Epoch 5/20\n",
      "48000/48000 [==============================] - 6s 119us/sample - loss: 0.1026 - accuracy: 0.9687\n",
      "Epoch 6/20\n",
      "48000/48000 [==============================] - 6s 119us/sample - loss: 0.0897 - accuracy: 0.9735\n",
      "Epoch 7/20\n",
      "48000/48000 [==============================] - 6s 120us/sample - loss: 0.0824 - accuracy: 0.9762\n",
      "Epoch 8/20\n",
      "48000/48000 [==============================] - 6s 121us/sample - loss: 0.0737 - accuracy: 0.9780\n",
      "Epoch 9/20\n",
      "48000/48000 [==============================] - 6s 121us/sample - loss: 0.0685 - accuracy: 0.9784\n",
      "Epoch 10/20\n",
      "48000/48000 [==============================] - 6s 122us/sample - loss: 0.0667 - accuracy: 0.9796\n",
      "Epoch 11/20\n",
      "48000/48000 [==============================] - 6s 122us/sample - loss: 0.0591 - accuracy: 0.9820\n",
      "Epoch 12/20\n",
      "48000/48000 [==============================] - 6s 127us/sample - loss: 0.0575 - accuracy: 0.9829\n",
      "Epoch 13/20\n",
      "48000/48000 [==============================] - 6s 126us/sample - loss: 0.0583 - accuracy: 0.9824\n",
      "Epoch 14/20\n",
      "48000/48000 [==============================] - 6s 122us/sample - loss: 0.0515 - accuracy: 0.9846\n",
      "Epoch 15/20\n",
      "48000/48000 [==============================] - 6s 120us/sample - loss: 0.0501 - accuracy: 0.9847\n",
      "Epoch 16/20\n",
      "48000/48000 [==============================] - 6s 120us/sample - loss: 0.0479 - accuracy: 0.9859\n",
      "Epoch 17/20\n",
      "48000/48000 [==============================] - 6s 120us/sample - loss: 0.0451 - accuracy: 0.9864\n",
      "Epoch 18/20\n",
      "48000/48000 [==============================] - 6s 121us/sample - loss: 0.0453 - accuracy: 0.9869\n",
      "Epoch 19/20\n",
      "48000/48000 [==============================] - 6s 121us/sample - loss: 0.0417 - accuracy: 0.9876\n",
      "Epoch 20/20\n",
      "48000/48000 [==============================] - 6s 121us/sample - loss: 0.0413 - accuracy: 0.9880\n",
      "12000/12000 [==============================] - 1s 92us/sample - loss: 0.1764 - accuracy: 0.9674\n",
      "Train on 48000 samples\n",
      "Epoch 1/20\n",
      "48000/48000 [==============================] - 6s 127us/sample - loss: 0.3212 - accuracy: 0.9039\n",
      "Epoch 2/20\n",
      "48000/48000 [==============================] - 6s 121us/sample - loss: 0.1665 - accuracy: 0.9504\n",
      "Epoch 3/20\n",
      "48000/48000 [==============================] - 6s 121us/sample - loss: 0.1328 - accuracy: 0.9611\n",
      "Epoch 4/20\n",
      "48000/48000 [==============================] - 6s 121us/sample - loss: 0.1120 - accuracy: 0.9670\n",
      "Epoch 5/20\n",
      "48000/48000 [==============================] - 6s 126us/sample - loss: 0.0973 - accuracy: 0.9704\n",
      "Epoch 6/20\n",
      "48000/48000 [==============================] - 6s 127us/sample - loss: 0.0880 - accuracy: 0.9741\n",
      "Epoch 7/20\n",
      "48000/48000 [==============================] - 6s 122us/sample - loss: 0.0780 - accuracy: 0.9768\n",
      "Epoch 8/20\n",
      "48000/48000 [==============================] - 6s 121us/sample - loss: 0.0725 - accuracy: 0.9779\n",
      "Epoch 9/20\n",
      "48000/48000 [==============================] - 6s 119us/sample - loss: 0.0668 - accuracy: 0.9808\n",
      "Epoch 10/20\n",
      "48000/48000 [==============================] - 6s 119us/sample - loss: 0.0586 - accuracy: 0.9815\n",
      "Epoch 11/20\n",
      "48000/48000 [==============================] - 6s 120us/sample - loss: 0.0598 - accuracy: 0.9819\n",
      "Epoch 12/20\n",
      "48000/48000 [==============================] - 6s 119us/sample - loss: 0.0561 - accuracy: 0.9836\n",
      "Epoch 13/20\n"
     ]
    },
    {
     "name": "stdout",
     "output_type": "stream",
     "text": [
      "48000/48000 [==============================] - 6s 118us/sample - loss: 0.0549 - accuracy: 0.9837\n",
      "Epoch 14/20\n",
      "48000/48000 [==============================] - 6s 119us/sample - loss: 0.0500 - accuracy: 0.9852\n",
      "Epoch 15/20\n",
      "48000/48000 [==============================] - 6s 124us/sample - loss: 0.0464 - accuracy: 0.9858\n",
      "Epoch 16/20\n",
      "48000/48000 [==============================] - 6s 127us/sample - loss: 0.0471 - accuracy: 0.9859\n",
      "Epoch 17/20\n",
      "48000/48000 [==============================] - 6s 125us/sample - loss: 0.0460 - accuracy: 0.9866\n",
      "Epoch 18/20\n",
      "48000/48000 [==============================] - 6s 125us/sample - loss: 0.0435 - accuracy: 0.9868\n",
      "Epoch 19/20\n",
      "48000/48000 [==============================] - 6s 129us/sample - loss: 0.0424 - accuracy: 0.9875\n",
      "Epoch 20/20\n",
      "48000/48000 [==============================] - 6s 125us/sample - loss: 0.0393 - accuracy: 0.9882\n",
      "12000/12000 [==============================] - 1s 92us/sample - loss: 0.1908 - accuracy: 0.9689\n",
      "Train on 48000 samples\n",
      "Epoch 1/20\n",
      "48000/48000 [==============================] - 6s 125us/sample - loss: 0.3112 - accuracy: 0.9046\n",
      "Epoch 2/20\n",
      "48000/48000 [==============================] - 6s 118us/sample - loss: 0.1680 - accuracy: 0.9503\n",
      "Epoch 3/20\n",
      "48000/48000 [==============================] - 6s 118us/sample - loss: 0.1344 - accuracy: 0.9605\n",
      "Epoch 4/20\n",
      "48000/48000 [==============================] - 6s 118us/sample - loss: 0.1123 - accuracy: 0.9670\n",
      "Epoch 5/20\n",
      "48000/48000 [==============================] - 6s 118us/sample - loss: 0.0993 - accuracy: 0.9712\n",
      "Epoch 6/20\n",
      "48000/48000 [==============================] - 6s 118us/sample - loss: 0.0868 - accuracy: 0.9742\n",
      "Epoch 7/20\n",
      "48000/48000 [==============================] - 6s 122us/sample - loss: 0.0798 - accuracy: 0.9755\n",
      "Epoch 8/20\n",
      "48000/48000 [==============================] - 6s 122us/sample - loss: 0.0745 - accuracy: 0.9772\n",
      "Epoch 9/20\n",
      "48000/48000 [==============================] - 6s 120us/sample - loss: 0.0695 - accuracy: 0.9791\n",
      "Epoch 10/20\n",
      "48000/48000 [==============================] - 6s 119us/sample - loss: 0.0628 - accuracy: 0.9817\n",
      "Epoch 11/20\n",
      "48000/48000 [==============================] - 6s 120us/sample - loss: 0.0610 - accuracy: 0.9811\n",
      "Epoch 12/20\n",
      "48000/48000 [==============================] - 6s 127us/sample - loss: 0.0589 - accuracy: 0.9830\n",
      "Epoch 13/20\n",
      "48000/48000 [==============================] - 6s 131us/sample - loss: 0.0539 - accuracy: 0.9841\n",
      "Epoch 14/20\n",
      "48000/48000 [==============================] - 6s 124us/sample - loss: 0.0524 - accuracy: 0.9850\n",
      "Epoch 15/20\n",
      "48000/48000 [==============================] - 6s 120us/sample - loss: 0.0484 - accuracy: 0.9865\n",
      "Epoch 16/20\n",
      "48000/48000 [==============================] - 6s 120us/sample - loss: 0.0475 - accuracy: 0.9859\n",
      "Epoch 17/20\n",
      "48000/48000 [==============================] - 6s 122us/sample - loss: 0.0470 - accuracy: 0.9866\n",
      "Epoch 18/20\n",
      "48000/48000 [==============================] - 6s 122us/sample - loss: 0.0462 - accuracy: 0.9870\n",
      "Epoch 19/20\n",
      "48000/48000 [==============================] - 6s 119us/sample - loss: 0.0434 - accuracy: 0.9874\n",
      "Epoch 20/20\n",
      "48000/48000 [==============================] - 6s 119us/sample - loss: 0.0422 - accuracy: 0.9876\n",
      "12000/12000 [==============================] - 1s 90us/sample - loss: 0.1676 - accuracy: 0.9688\n"
     ]
    }
   ],
   "source": [
    "from tensorflow.keras.wrappers.scikit_learn import KerasClassifier\n",
    "\n",
    "#KerasClassifier(딥러닝 모델 함수, epochs, batch_size)\n",
    "model3 = KerasClassifier(build_fn = deep_model, epochs = 20, batch_size = 10)\n",
    "\n",
    "#cross_val_score(모델, 학습데이터, 정답데이터, cv = KFold를 사용한 변수)\n",
    "\n",
    "#몇 개로 어떻게 구분할 것인지\n",
    "# KFold(n_split = 몇 개로 나눌것인지, shuffle, 데이터를 섞을 건지, random_state)\n",
    "fold = KFold(n_splits = 5, shuffle = True, random_state = 0)\n",
    "# cross_val_score(모델, 학습데이터, 정답데이터, cv = KFold를 사용한 변수)\n",
    "score = cross_val_score(model3, X_train, y_train, cv = fold)"
   ]
  },
  {
   "cell_type": "code",
   "execution_count": 63,
   "metadata": {},
   "outputs": [
    {
     "data": {
      "text/plain": [
       "array([0.96666664, 0.96625   , 0.96741664, 0.96891665, 0.96883333])"
      ]
     },
     "execution_count": 63,
     "metadata": {},
     "output_type": "execute_result"
    }
   ],
   "source": [
    "score"
   ]
  },
  {
   "cell_type": "code",
   "execution_count": 41,
   "metadata": {},
   "outputs": [],
   "source": [
    "##베스트 모델 찾아서 저장하기"
   ]
  },
  {
   "cell_type": "code",
   "execution_count": 66,
   "metadata": {},
   "outputs": [],
   "source": [
    "import os\n",
    "from tensorflow.keras.callbacks import ModelCheckpoint, EarlyStopping\n",
    "#모델을 저장할 폴더명\n",
    "\n",
    "MODEL_FOLDER = './model'\n",
    "# 해당 폴더가 없다면 해당폴더를 생성\n",
    "if not os.path.exists(MODEL_FOLDER) :\n",
    "    os.mkdir(MODEL_FOLDER)"
   ]
  },
  {
   "cell_type": "code",
   "execution_count": 73,
   "metadata": {},
   "outputs": [],
   "source": [
    "#저장할 파일 명 설정\n",
    "#{epoch:04d} : 반복수를 4자리로 표시\n",
    "#{val_accuracy:.4f} : 검증 정확도를 소수점 4째자리까지 표시\n",
    "\n",
    "modelpath = MODEL_FOLDER + '/handnum-{epoch:04d}-{val_accuracy:.4f}.hdf5'"
   ]
  },
  {
   "cell_type": "code",
   "execution_count": 74,
   "metadata": {},
   "outputs": [],
   "source": [
    "# 베스트 모델을 찾아서 만들어둔 파일 명으로 저장\n",
    "#ModelCheckpoint(filepath = 파일경로, monitor = 기준값, save_best_only = True)\n",
    "#save_best_only = True : 더 나은 결과값만 저장\n",
    "mc = ModelCheckpoint(filepath = modelpath,\n",
    "                    monitor = 'val_accuracy',\n",
    "                    save_best_only = True,\n",
    "                    verbose = 1)"
   ]
  },
  {
   "cell_type": "code",
   "execution_count": 75,
   "metadata": {},
   "outputs": [],
   "source": [
    "#EarlyStopping(monitor, patience = 기다리는 횟수)\n",
    "#patience = 20 : monitor 에 적은 기준에 따라 학습 결과가 더 나아지지 않더라도\n",
    "#20은 돌려보겠다\n",
    "es = EarlyStopping(monitor = 'val_accuracy',\n",
    "                  patience = 20)"
   ]
  },
  {
   "cell_type": "code",
   "execution_count": 84,
   "metadata": {},
   "outputs": [
    {
     "name": "stdout",
     "output_type": "stream",
     "text": [
      "Train on 40199 samples, validate on 19801 samples\n",
      "Epoch 1/1000\n",
      "39150/40199 [============================>.] - ETA: 0s - loss: 0.4301 - accuracy: 0.8656\n",
      "Epoch 00001: val_accuracy improved from 0.10878 to 0.92990, saving model to ./model/handnum-0001-0.9299.hdf5\n",
      "40199/40199 [==============================] - 2s 56us/sample - loss: 0.4246 - accuracy: 0.8675 - val_loss: 0.2312 - val_accuracy: 0.9299\n",
      "Epoch 2/1000\n",
      "39750/40199 [============================>.] - ETA: 0s - loss: 0.1838 - accuracy: 0.9446\n",
      "Epoch 00002: val_accuracy improved from 0.92990 to 0.95152, saving model to ./model/handnum-0002-0.9515.hdf5\n",
      "40199/40199 [==============================] - 2s 43us/sample - loss: 0.1831 - accuracy: 0.9449 - val_loss: 0.1616 - val_accuracy: 0.9515\n",
      "Epoch 3/1000\n",
      "39400/40199 [============================>.] - ETA: 0s - loss: 0.1404 - accuracy: 0.9570\n",
      "Epoch 00003: val_accuracy improved from 0.95152 to 0.95329, saving model to ./model/handnum-0003-0.9533.hdf5\n",
      "40199/40199 [==============================] - 2s 44us/sample - loss: 0.1399 - accuracy: 0.9570 - val_loss: 0.1521 - val_accuracy: 0.9533\n",
      "Epoch 4/1000\n",
      "39700/40199 [============================>.] - ETA: 0s - loss: 0.1138 - accuracy: 0.9653\n",
      "Epoch 00004: val_accuracy did not improve from 0.95329\n",
      "40199/40199 [==============================] - 2s 44us/sample - loss: 0.1136 - accuracy: 0.9653 - val_loss: 0.1661 - val_accuracy: 0.9491\n",
      "Epoch 5/1000\n",
      "39050/40199 [============================>.] - ETA: 0s - loss: 0.0950 - accuracy: 0.9701\n",
      "Epoch 00005: val_accuracy improved from 0.95329 to 0.95970, saving model to ./model/handnum-0005-0.9597.hdf5\n",
      "40199/40199 [==============================] - 2s 44us/sample - loss: 0.0950 - accuracy: 0.9700 - val_loss: 0.1365 - val_accuracy: 0.9597\n",
      "Epoch 6/1000\n",
      "40150/40199 [============================>.] - ETA: 0s - loss: 0.0832 - accuracy: 0.9735\n",
      "Epoch 00006: val_accuracy improved from 0.95970 to 0.96429, saving model to ./model/handnum-0006-0.9643.hdf5\n",
      "40199/40199 [==============================] - 2s 44us/sample - loss: 0.0831 - accuracy: 0.9736 - val_loss: 0.1240 - val_accuracy: 0.9643\n",
      "Epoch 7/1000\n",
      "38950/40199 [============================>.] - ETA: 0s - loss: 0.0745 - accuracy: 0.9766\n",
      "Epoch 00007: val_accuracy did not improve from 0.96429\n",
      "40199/40199 [==============================] - 2s 43us/sample - loss: 0.0741 - accuracy: 0.9766 - val_loss: 0.1345 - val_accuracy: 0.9625\n",
      "Epoch 8/1000\n",
      "38650/40199 [===========================>..] - ETA: 0s - loss: 0.0652 - accuracy: 0.9791\n",
      "Epoch 00008: val_accuracy did not improve from 0.96429\n",
      "40199/40199 [==============================] - 2s 43us/sample - loss: 0.0654 - accuracy: 0.9789 - val_loss: 0.1447 - val_accuracy: 0.9624\n",
      "Epoch 9/1000\n",
      "39300/40199 [============================>.] - ETA: 0s - loss: 0.0582 - accuracy: 0.9808\n",
      "Epoch 00009: val_accuracy did not improve from 0.96429\n",
      "40199/40199 [==============================] - 2s 43us/sample - loss: 0.0579 - accuracy: 0.9810 - val_loss: 0.1291 - val_accuracy: 0.9636\n",
      "Epoch 10/1000\n",
      "40050/40199 [============================>.] - ETA: 0s - loss: 0.0512 - accuracy: 0.9835\n",
      "Epoch 00010: val_accuracy did not improve from 0.96429\n",
      "40199/40199 [==============================] - 2s 42us/sample - loss: 0.0511 - accuracy: 0.9835 - val_loss: 0.1444 - val_accuracy: 0.9625\n",
      "Epoch 11/1000\n",
      "39400/40199 [============================>.] - ETA: 0s - loss: 0.0502 - accuracy: 0.9835\n",
      "Epoch 00011: val_accuracy did not improve from 0.96429\n",
      "40199/40199 [==============================] - 2s 43us/sample - loss: 0.0501 - accuracy: 0.9835 - val_loss: 0.1490 - val_accuracy: 0.9614\n",
      "Epoch 12/1000\n",
      "38050/40199 [===========================>..] - ETA: 0s - loss: 0.0421 - accuracy: 0.9863\n",
      "Epoch 00012: val_accuracy did not improve from 0.96429\n",
      "40199/40199 [==============================] - 2s 42us/sample - loss: 0.0432 - accuracy: 0.9859 - val_loss: 0.1412 - val_accuracy: 0.9640\n",
      "Epoch 13/1000\n",
      "39800/40199 [============================>.] - ETA: 0s - loss: 0.0412 - accuracy: 0.9861\n",
      "Epoch 00013: val_accuracy improved from 0.96429 to 0.96460, saving model to ./model/handnum-0013-0.9646.hdf5\n",
      "40199/40199 [==============================] - 2s 43us/sample - loss: 0.0410 - accuracy: 0.9861 - val_loss: 0.1411 - val_accuracy: 0.9646\n",
      "Epoch 14/1000\n",
      "39550/40199 [============================>.] - ETA: 0s - loss: 0.0398 - accuracy: 0.9864\n",
      "Epoch 00014: val_accuracy improved from 0.96460 to 0.96561, saving model to ./model/handnum-0014-0.9656.hdf5\n",
      "40199/40199 [==============================] - 2s 44us/sample - loss: 0.0397 - accuracy: 0.9864 - val_loss: 0.1371 - val_accuracy: 0.9656\n",
      "Epoch 15/1000\n",
      "40100/40199 [============================>.] - ETA: 0s - loss: 0.0335 - accuracy: 0.9888\n",
      "Epoch 00015: val_accuracy improved from 0.96561 to 0.96566, saving model to ./model/handnum-0015-0.9657.hdf5\n",
      "40199/40199 [==============================] - 2s 43us/sample - loss: 0.0336 - accuracy: 0.9888 - val_loss: 0.1502 - val_accuracy: 0.9657\n",
      "Epoch 16/1000\n",
      "38600/40199 [===========================>..] - ETA: 0s - loss: 0.0352 - accuracy: 0.9881\n",
      "Epoch 00016: val_accuracy did not improve from 0.96566\n",
      "40199/40199 [==============================] - 2s 43us/sample - loss: 0.0360 - accuracy: 0.9879 - val_loss: 0.1624 - val_accuracy: 0.9613\n",
      "Epoch 17/1000\n",
      "38650/40199 [===========================>..] - ETA: 0s - loss: 0.0303 - accuracy: 0.9903\n",
      "Epoch 00017: val_accuracy improved from 0.96566 to 0.96732, saving model to ./model/handnum-0017-0.9673.hdf5\n",
      "40199/40199 [==============================] - 2s 43us/sample - loss: 0.0299 - accuracy: 0.9904 - val_loss: 0.1432 - val_accuracy: 0.9673\n",
      "Epoch 18/1000\n",
      "39900/40199 [============================>.] - ETA: 0s - loss: 0.0308 - accuracy: 0.9902\n",
      "Epoch 00018: val_accuracy did not improve from 0.96732\n",
      "40199/40199 [==============================] - 2s 42us/sample - loss: 0.0309 - accuracy: 0.9902 - val_loss: 0.1654 - val_accuracy: 0.9622\n",
      "Epoch 19/1000\n",
      "39150/40199 [============================>.] - ETA: 0s - loss: 0.0255 - accuracy: 0.9915\n",
      "Epoch 00019: val_accuracy did not improve from 0.96732\n",
      "40199/40199 [==============================] - 2s 42us/sample - loss: 0.0254 - accuracy: 0.9915 - val_loss: 0.1726 - val_accuracy: 0.9636\n",
      "Epoch 20/1000\n",
      "39200/40199 [============================>.] - ETA: 0s - loss: 0.0275 - accuracy: 0.9905\n",
      "Epoch 00020: val_accuracy did not improve from 0.96732\n",
      "40199/40199 [==============================] - 2s 43us/sample - loss: 0.0280 - accuracy: 0.9902 - val_loss: 0.1725 - val_accuracy: 0.9634\n",
      "Epoch 21/1000\n",
      "39550/40199 [============================>.] - ETA: 0s - loss: 0.0276 - accuracy: 0.9907\n",
      "Epoch 00021: val_accuracy did not improve from 0.96732\n",
      "40199/40199 [==============================] - 2s 42us/sample - loss: 0.0277 - accuracy: 0.9907 - val_loss: 0.1698 - val_accuracy: 0.9638\n",
      "Epoch 22/1000\n",
      "38800/40199 [===========================>..] - ETA: 0s - loss: 0.0235 - accuracy: 0.9922\n",
      "Epoch 00022: val_accuracy did not improve from 0.96732\n",
      "40199/40199 [==============================] - 2s 44us/sample - loss: 0.0233 - accuracy: 0.9922 - val_loss: 0.1783 - val_accuracy: 0.9636\n",
      "Epoch 23/1000\n",
      "39250/40199 [============================>.] - ETA: 0s - loss: 0.0206 - accuracy: 0.9933\n",
      "Epoch 00023: val_accuracy improved from 0.96732 to 0.96738, saving model to ./model/handnum-0023-0.9674.hdf5\n",
      "40199/40199 [==============================] - 2s 45us/sample - loss: 0.0205 - accuracy: 0.9933 - val_loss: 0.1565 - val_accuracy: 0.9674\n",
      "Epoch 24/1000\n",
      "38700/40199 [===========================>..] - ETA: 0s - loss: 0.0252 - accuracy: 0.9926\n",
      "Epoch 00024: val_accuracy improved from 0.96738 to 0.96803, saving model to ./model/handnum-0024-0.9680.hdf5\n",
      "40199/40199 [==============================] - 2s 44us/sample - loss: 0.0250 - accuracy: 0.9925 - val_loss: 0.1613 - val_accuracy: 0.9680\n",
      "Epoch 25/1000\n",
      "39150/40199 [============================>.] - ETA: 0s - loss: 0.0238 - accuracy: 0.9923\n",
      "Epoch 00025: val_accuracy improved from 0.96803 to 0.96818, saving model to ./model/handnum-0025-0.9682.hdf5\n",
      "40199/40199 [==============================] - 2s 44us/sample - loss: 0.0235 - accuracy: 0.9923 - val_loss: 0.1553 - val_accuracy: 0.9682\n",
      "Epoch 26/1000\n",
      "39700/40199 [============================>.] - ETA: 0s - loss: 0.0188 - accuracy: 0.9938\n",
      "Epoch 00026: val_accuracy did not improve from 0.96818\n",
      "40199/40199 [==============================] - 2s 45us/sample - loss: 0.0187 - accuracy: 0.9938 - val_loss: 0.1758 - val_accuracy: 0.9653\n",
      "Epoch 27/1000\n",
      "39300/40199 [============================>.] - ETA: 0s - loss: 0.0209 - accuracy: 0.9931\n",
      "Epoch 00027: val_accuracy did not improve from 0.96818\n",
      "40199/40199 [==============================] - 2s 44us/sample - loss: 0.0208 - accuracy: 0.9931 - val_loss: 0.1947 - val_accuracy: 0.9647\n",
      "Epoch 28/1000\n",
      "39100/40199 [============================>.] - ETA: 0s - loss: 0.0189 - accuracy: 0.9941\n",
      "Epoch 00028: val_accuracy did not improve from 0.96818\n",
      "40199/40199 [==============================] - 2s 43us/sample - loss: 0.0192 - accuracy: 0.9940 - val_loss: 0.1912 - val_accuracy: 0.9633\n",
      "Epoch 29/1000\n",
      "39950/40199 [============================>.] - ETA: 0s - loss: 0.0207 - accuracy: 0.9933\n",
      "Epoch 00029: val_accuracy did not improve from 0.96818\n",
      "40199/40199 [==============================] - 2s 43us/sample - loss: 0.0209 - accuracy: 0.9932 - val_loss: 0.1796 - val_accuracy: 0.9652\n",
      "Epoch 30/1000\n",
      "39750/40199 [============================>.] - ETA: 0s - loss: 0.0147 - accuracy: 0.9956\n",
      "Epoch 00030: val_accuracy did not improve from 0.96818\n",
      "40199/40199 [==============================] - 2s 43us/sample - loss: 0.0147 - accuracy: 0.9956 - val_loss: 0.1901 - val_accuracy: 0.9664\n",
      "Epoch 31/1000\n",
      "39450/40199 [============================>.] - ETA: 0s - loss: 0.0192 - accuracy: 0.9943\n",
      "Epoch 00031: val_accuracy did not improve from 0.96818\n",
      "40199/40199 [==============================] - 2s 42us/sample - loss: 0.0190 - accuracy: 0.9943 - val_loss: 0.1766 - val_accuracy: 0.9659\n",
      "Epoch 32/1000\n",
      "39850/40199 [============================>.] - ETA: 0s - loss: 0.0215 - accuracy: 0.9932\n",
      "Epoch 00032: val_accuracy did not improve from 0.96818\n",
      "40199/40199 [==============================] - 2s 42us/sample - loss: 0.0214 - accuracy: 0.9932 - val_loss: 0.1869 - val_accuracy: 0.9656\n",
      "Epoch 33/1000\n",
      "38750/40199 [===========================>..] - ETA: 0s - loss: 0.0144 - accuracy: 0.9953\n",
      "Epoch 00033: val_accuracy did not improve from 0.96818\n",
      "40199/40199 [==============================] - 2s 42us/sample - loss: 0.0144 - accuracy: 0.9953 - val_loss: 0.2014 - val_accuracy: 0.9650\n",
      "Epoch 34/1000\n",
      "39500/40199 [============================>.] - ETA: 0s - loss: 0.0190 - accuracy: 0.9942\n",
      "Epoch 00034: val_accuracy did not improve from 0.96818\n",
      "40199/40199 [==============================] - 2s 43us/sample - loss: 0.0191 - accuracy: 0.9942 - val_loss: 0.1848 - val_accuracy: 0.9658\n",
      "Epoch 35/1000\n",
      "38550/40199 [===========================>..] - ETA: 0s - loss: 0.0118 - accuracy: 0.9965\n",
      "Epoch 00035: val_accuracy improved from 0.96818 to 0.96844, saving model to ./model/handnum-0035-0.9684.hdf5\n",
      "40199/40199 [==============================] - 2s 43us/sample - loss: 0.0119 - accuracy: 0.9965 - val_loss: 0.1889 - val_accuracy: 0.9684\n",
      "Epoch 36/1000\n",
      "39900/40199 [============================>.] - ETA: 0s - loss: 0.0169 - accuracy: 0.9950\n",
      "Epoch 00036: val_accuracy did not improve from 0.96844\n",
      "40199/40199 [==============================] - 2s 43us/sample - loss: 0.0170 - accuracy: 0.9950 - val_loss: 0.1782 - val_accuracy: 0.9663\n",
      "Epoch 37/1000\n",
      "39150/40199 [============================>.] - ETA: 0s - loss: 0.0182 - accuracy: 0.9943\n",
      "Epoch 00037: val_accuracy did not improve from 0.96844\n",
      "40199/40199 [==============================] - 2s 42us/sample - loss: 0.0180 - accuracy: 0.9943 - val_loss: 0.1716 - val_accuracy: 0.9675\n",
      "Epoch 38/1000\n",
      "39600/40199 [============================>.] - ETA: 0s - loss: 0.0151 - accuracy: 0.9960\n",
      "Epoch 00038: val_accuracy improved from 0.96844 to 0.96864, saving model to ./model/handnum-0038-0.9686.hdf5\n",
      "40199/40199 [==============================] - 2s 43us/sample - loss: 0.0150 - accuracy: 0.9960 - val_loss: 0.1780 - val_accuracy: 0.9686\n",
      "Epoch 39/1000\n",
      "40150/40199 [============================>.] - ETA: 0s - loss: 0.0163 - accuracy: 0.9950\n",
      "Epoch 00039: val_accuracy did not improve from 0.96864\n",
      "40199/40199 [==============================] - 2s 42us/sample - loss: 0.0162 - accuracy: 0.9950 - val_loss: 0.1872 - val_accuracy: 0.9653\n",
      "Epoch 40/1000\n",
      "39200/40199 [============================>.] - ETA: 0s - loss: 0.0131 - accuracy: 0.9961\n",
      "Epoch 00040: val_accuracy did not improve from 0.96864\n",
      "40199/40199 [==============================] - 2s 43us/sample - loss: 0.0131 - accuracy: 0.9961 - val_loss: 0.1890 - val_accuracy: 0.9662\n",
      "Epoch 41/1000\n",
      "38900/40199 [============================>.] - ETA: 0s - loss: 0.0176 - accuracy: 0.9945\n",
      "Epoch 00041: val_accuracy did not improve from 0.96864\n",
      "40199/40199 [==============================] - 2s 42us/sample - loss: 0.0175 - accuracy: 0.9945 - val_loss: 0.1906 - val_accuracy: 0.9655\n",
      "Epoch 42/1000\n",
      "39450/40199 [============================>.] - ETA: 0s - loss: 0.0188 - accuracy: 0.9946\n",
      "Epoch 00042: val_accuracy did not improve from 0.96864\n",
      "40199/40199 [==============================] - 2s 44us/sample - loss: 0.0189 - accuracy: 0.9946 - val_loss: 0.1817 - val_accuracy: 0.9659\n",
      "Epoch 43/1000\n",
      "38900/40199 [============================>.] - ETA: 0s - loss: 0.0134 - accuracy: 0.9960\n",
      "Epoch 00043: val_accuracy did not improve from 0.96864\n",
      "40199/40199 [==============================] - 2s 45us/sample - loss: 0.0134 - accuracy: 0.9959 - val_loss: 0.1864 - val_accuracy: 0.9669\n",
      "Epoch 44/1000\n",
      "39600/40199 [============================>.] - ETA: 0s - loss: 0.0131 - accuracy: 0.9962\n",
      "Epoch 00044: val_accuracy did not improve from 0.96864\n",
      "40199/40199 [==============================] - 2s 47us/sample - loss: 0.0130 - accuracy: 0.9962 - val_loss: 0.1878 - val_accuracy: 0.9680\n",
      "Epoch 45/1000\n",
      "38900/40199 [============================>.] - ETA: 0s - loss: 0.0145 - accuracy: 0.9954\n",
      "Epoch 00045: val_accuracy did not improve from 0.96864\n",
      "40199/40199 [==============================] - 2s 43us/sample - loss: 0.0152 - accuracy: 0.9952 - val_loss: 0.1899 - val_accuracy: 0.9664\n",
      "Epoch 46/1000\n",
      "39300/40199 [============================>.] - ETA: 0s - loss: 0.0118 - accuracy: 0.9963\n",
      "Epoch 00046: val_accuracy did not improve from 0.96864\n",
      "40199/40199 [==============================] - 2s 42us/sample - loss: 0.0118 - accuracy: 0.9963 - val_loss: 0.2028 - val_accuracy: 0.9648\n",
      "Epoch 47/1000\n",
      "40150/40199 [============================>.] - ETA: 0s - loss: 0.0124 - accuracy: 0.9961\n",
      "Epoch 00047: val_accuracy improved from 0.96864 to 0.97020, saving model to ./model/handnum-0047-0.9702.hdf5\n",
      "40199/40199 [==============================] - 2s 43us/sample - loss: 0.0123 - accuracy: 0.9961 - val_loss: 0.1870 - val_accuracy: 0.9702\n",
      "Epoch 48/1000\n",
      "38600/40199 [===========================>..] - ETA: 0s - loss: 0.0134 - accuracy: 0.9960\n",
      "Epoch 00048: val_accuracy did not improve from 0.97020\n",
      "40199/40199 [==============================] - 2s 41us/sample - loss: 0.0133 - accuracy: 0.9961 - val_loss: 0.1812 - val_accuracy: 0.9683\n",
      "Epoch 49/1000\n",
      "39900/40199 [============================>.] - ETA: 0s - loss: 0.0121 - accuracy: 0.9966\n",
      "Epoch 00049: val_accuracy did not improve from 0.97020\n",
      "40199/40199 [==============================] - 2s 41us/sample - loss: 0.0121 - accuracy: 0.9966 - val_loss: 0.2254 - val_accuracy: 0.9632\n",
      "Epoch 50/1000\n",
      "39400/40199 [============================>.] - ETA: 0s - loss: 0.0131 - accuracy: 0.9962\n",
      "Epoch 00050: val_accuracy did not improve from 0.97020\n",
      "40199/40199 [==============================] - 2s 43us/sample - loss: 0.0132 - accuracy: 0.9962 - val_loss: 0.1984 - val_accuracy: 0.9686\n",
      "Epoch 51/1000\n",
      "39250/40199 [============================>.] - ETA: 0s - loss: 0.0138 - accuracy: 0.9961\n",
      "Epoch 00051: val_accuracy did not improve from 0.97020\n",
      "40199/40199 [==============================] - 2s 43us/sample - loss: 0.0137 - accuracy: 0.9961 - val_loss: 0.2129 - val_accuracy: 0.9653\n",
      "Epoch 52/1000\n",
      "38950/40199 [============================>.] - ETA: 0s - loss: 0.0091 - accuracy: 0.9969\n",
      "Epoch 00052: val_accuracy did not improve from 0.97020\n",
      "40199/40199 [==============================] - 2s 43us/sample - loss: 0.0092 - accuracy: 0.9969 - val_loss: 0.2242 - val_accuracy: 0.9647\n",
      "Epoch 53/1000\n"
     ]
    },
    {
     "name": "stdout",
     "output_type": "stream",
     "text": [
      "38250/40199 [===========================>..] - ETA: 0s - loss: 0.0105 - accuracy: 0.9969\n",
      "Epoch 00053: val_accuracy did not improve from 0.97020\n",
      "40199/40199 [==============================] - 2s 42us/sample - loss: 0.0111 - accuracy: 0.9967 - val_loss: 0.2042 - val_accuracy: 0.9675\n",
      "Epoch 54/1000\n",
      "39200/40199 [============================>.] - ETA: 0s - loss: 0.0128 - accuracy: 0.9963\n",
      "Epoch 00054: val_accuracy did not improve from 0.97020\n",
      "40199/40199 [==============================] - 2s 43us/sample - loss: 0.0133 - accuracy: 0.9963 - val_loss: 0.2187 - val_accuracy: 0.9668\n",
      "Epoch 55/1000\n",
      "39700/40199 [============================>.] - ETA: 0s - loss: 0.0130 - accuracy: 0.9962\n",
      "Epoch 00055: val_accuracy did not improve from 0.97020\n",
      "40199/40199 [==============================] - 2s 43us/sample - loss: 0.0128 - accuracy: 0.9962 - val_loss: 0.2000 - val_accuracy: 0.9693\n",
      "Epoch 56/1000\n",
      "39500/40199 [============================>.] - ETA: 0s - loss: 0.0056 - accuracy: 0.9983\n",
      "Epoch 00056: val_accuracy improved from 0.97020 to 0.97041, saving model to ./model/handnum-0056-0.9704.hdf5\n",
      "40199/40199 [==============================] - 2s 44us/sample - loss: 0.0058 - accuracy: 0.9982 - val_loss: 0.2018 - val_accuracy: 0.9704\n",
      "Epoch 57/1000\n",
      "38700/40199 [===========================>..] - ETA: 0s - loss: 0.0148 - accuracy: 0.9957\n",
      "Epoch 00057: val_accuracy did not improve from 0.97041\n",
      "40199/40199 [==============================] - 2s 43us/sample - loss: 0.0147 - accuracy: 0.9957 - val_loss: 0.1939 - val_accuracy: 0.9674\n",
      "Epoch 58/1000\n",
      "39050/40199 [============================>.] - ETA: 0s - loss: 0.0075 - accuracy: 0.9974\n",
      "Epoch 00058: val_accuracy did not improve from 0.97041\n",
      "40199/40199 [==============================] - 2s 42us/sample - loss: 0.0076 - accuracy: 0.9973 - val_loss: 0.1973 - val_accuracy: 0.9693\n",
      "Epoch 59/1000\n",
      "39550/40199 [============================>.] - ETA: 0s - loss: 0.0145 - accuracy: 0.9955\n",
      "Epoch 00059: val_accuracy did not improve from 0.97041\n",
      "40199/40199 [==============================] - 2s 42us/sample - loss: 0.0145 - accuracy: 0.9955 - val_loss: 0.1964 - val_accuracy: 0.9686\n",
      "Epoch 60/1000\n",
      "39550/40199 [============================>.] - ETA: 0s - loss: 0.0068 - accuracy: 0.9979\n",
      "Epoch 00060: val_accuracy did not improve from 0.97041\n",
      "40199/40199 [==============================] - 2s 42us/sample - loss: 0.0067 - accuracy: 0.9979 - val_loss: 0.2160 - val_accuracy: 0.9689\n",
      "Epoch 61/1000\n",
      "38600/40199 [===========================>..] - ETA: 0s - loss: 0.0139 - accuracy: 0.9962\n",
      "Epoch 00061: val_accuracy did not improve from 0.97041\n",
      "40199/40199 [==============================] - 2s 43us/sample - loss: 0.0138 - accuracy: 0.9963 - val_loss: 0.2304 - val_accuracy: 0.9644\n",
      "Epoch 62/1000\n",
      "40100/40199 [============================>.] - ETA: 0s - loss: 0.0105 - accuracy: 0.9967\n",
      "Epoch 00062: val_accuracy did not improve from 0.97041\n",
      "40199/40199 [==============================] - 2s 43us/sample - loss: 0.0105 - accuracy: 0.9967 - val_loss: 0.2329 - val_accuracy: 0.9645\n",
      "Epoch 63/1000\n",
      "39900/40199 [============================>.] - ETA: 0s - loss: 0.0135 - accuracy: 0.9960\n",
      "Epoch 00063: val_accuracy did not improve from 0.97041\n",
      "40199/40199 [==============================] - 2s 43us/sample - loss: 0.0135 - accuracy: 0.9961 - val_loss: 0.2025 - val_accuracy: 0.9677\n",
      "Epoch 64/1000\n",
      "39600/40199 [============================>.] - ETA: 0s - loss: 0.0080 - accuracy: 0.9975\n",
      "Epoch 00064: val_accuracy did not improve from 0.97041\n",
      "40199/40199 [==============================] - 2s 43us/sample - loss: 0.0079 - accuracy: 0.9975 - val_loss: 0.2088 - val_accuracy: 0.9683\n",
      "Epoch 65/1000\n",
      "39750/40199 [============================>.] - ETA: 0s - loss: 0.0073 - accuracy: 0.9975\n",
      "Epoch 00065: val_accuracy did not improve from 0.97041\n",
      "40199/40199 [==============================] - 2s 43us/sample - loss: 0.0073 - accuracy: 0.9975 - val_loss: 0.2269 - val_accuracy: 0.9680\n",
      "Epoch 66/1000\n",
      "39350/40199 [============================>.] - ETA: 0s - loss: 0.0118 - accuracy: 0.9964\n",
      "Epoch 00066: val_accuracy did not improve from 0.97041\n",
      "40199/40199 [==============================] - 2s 43us/sample - loss: 0.0119 - accuracy: 0.9964 - val_loss: 0.2346 - val_accuracy: 0.9671\n",
      "Epoch 67/1000\n",
      "40050/40199 [============================>.] - ETA: 0s - loss: 0.0054 - accuracy: 0.9984\n",
      "Epoch 00067: val_accuracy did not improve from 0.97041\n",
      "40199/40199 [==============================] - 2s 43us/sample - loss: 0.0054 - accuracy: 0.9984 - val_loss: 0.2266 - val_accuracy: 0.9683\n",
      "Epoch 68/1000\n",
      "39950/40199 [============================>.] - ETA: 0s - loss: 0.0134 - accuracy: 0.9961\n",
      "Epoch 00068: val_accuracy did not improve from 0.97041\n",
      "40199/40199 [==============================] - 2s 42us/sample - loss: 0.0135 - accuracy: 0.9960 - val_loss: 0.2248 - val_accuracy: 0.9640\n",
      "Epoch 69/1000\n",
      "39250/40199 [============================>.] - ETA: 0s - loss: 0.0090 - accuracy: 0.9973\n",
      "Epoch 00069: val_accuracy did not improve from 0.97041\n",
      "40199/40199 [==============================] - 2s 43us/sample - loss: 0.0091 - accuracy: 0.9973 - val_loss: 0.2833 - val_accuracy: 0.9604\n",
      "Epoch 70/1000\n",
      "38600/40199 [===========================>..] - ETA: 0s - loss: 0.0110 - accuracy: 0.9970\n",
      "Epoch 00070: val_accuracy did not improve from 0.97041\n",
      "40199/40199 [==============================] - 2s 43us/sample - loss: 0.0112 - accuracy: 0.9970 - val_loss: 0.2567 - val_accuracy: 0.9638\n",
      "Epoch 71/1000\n",
      "40100/40199 [============================>.] - ETA: 0s - loss: 0.0076 - accuracy: 0.9977\n",
      "Epoch 00071: val_accuracy did not improve from 0.97041\n",
      "40199/40199 [==============================] - 2s 43us/sample - loss: 0.0077 - accuracy: 0.9977 - val_loss: 0.2315 - val_accuracy: 0.9659\n",
      "Epoch 72/1000\n",
      "39100/40199 [============================>.] - ETA: 0s - loss: 0.0097 - accuracy: 0.9969\n",
      "Epoch 00072: val_accuracy did not improve from 0.97041\n",
      "40199/40199 [==============================] - 2s 42us/sample - loss: 0.0097 - accuracy: 0.9969 - val_loss: 0.2258 - val_accuracy: 0.9672\n",
      "Epoch 73/1000\n",
      "39300/40199 [============================>.] - ETA: 0s - loss: 0.0082 - accuracy: 0.9973\n",
      "Epoch 00073: val_accuracy did not improve from 0.97041\n",
      "40199/40199 [==============================] - 2s 43us/sample - loss: 0.0083 - accuracy: 0.9973 - val_loss: 0.2196 - val_accuracy: 0.9697\n",
      "Epoch 74/1000\n",
      "39150/40199 [============================>.] - ETA: 0s - loss: 0.0084 - accuracy: 0.9978\n",
      "Epoch 00074: val_accuracy did not improve from 0.97041\n",
      "40199/40199 [==============================] - 2s 42us/sample - loss: 0.0085 - accuracy: 0.9978 - val_loss: 0.2385 - val_accuracy: 0.9678\n",
      "Epoch 75/1000\n",
      "39000/40199 [============================>.] - ETA: 0s - loss: 0.0125 - accuracy: 0.9970\n",
      "Epoch 00075: val_accuracy did not improve from 0.97041\n",
      "40199/40199 [==============================] - 2s 42us/sample - loss: 0.0125 - accuracy: 0.9970 - val_loss: 0.2289 - val_accuracy: 0.9661\n",
      "Epoch 76/1000\n",
      "40100/40199 [============================>.] - ETA: 0s - loss: 0.0078 - accuracy: 0.9979\n",
      "Epoch 00076: val_accuracy did not improve from 0.97041\n",
      "40199/40199 [==============================] - 2s 42us/sample - loss: 0.0078 - accuracy: 0.9979 - val_loss: 0.2107 - val_accuracy: 0.9683\n"
     ]
    }
   ],
   "source": [
    "#학습\n",
    "#validation_split = 0.33:전체 데이터 중에서 33%를 검증데이터로 활용 평가\n",
    "history = model2.fit(X_train, y_train, epochs = 1000, batch_size = 50,\n",
    "                    validation_split = 0.33,\n",
    "                    callbacks = [mc,es]\n",
    "                    )"
   ]
  },
  {
   "cell_type": "code",
   "execution_count": 79,
   "metadata": {},
   "outputs": [
    {
     "data": {
      "text/plain": [
       "(60000, 784)"
      ]
     },
     "execution_count": 79,
     "metadata": {},
     "output_type": "execute_result"
    }
   ],
   "source": [
    "X_train.shape"
   ]
  },
  {
   "cell_type": "code",
   "execution_count": 80,
   "metadata": {},
   "outputs": [
    {
     "data": {
      "text/plain": [
       "(60000, 10)"
      ]
     },
     "execution_count": 80,
     "metadata": {},
     "output_type": "execute_result"
    }
   ],
   "source": [
    "y_train.shape"
   ]
  },
  {
   "cell_type": "code",
   "execution_count": null,
   "metadata": {},
   "outputs": [],
   "source": []
  },
  {
   "cell_type": "code",
   "execution_count": null,
   "metadata": {},
   "outputs": [],
   "source": []
  },
  {
   "cell_type": "code",
   "execution_count": null,
   "metadata": {},
   "outputs": [],
   "source": []
  },
  {
   "cell_type": "code",
   "execution_count": null,
   "metadata": {},
   "outputs": [],
   "source": []
  },
  {
   "cell_type": "code",
   "execution_count": null,
   "metadata": {},
   "outputs": [],
   "source": []
  },
  {
   "cell_type": "code",
   "execution_count": null,
   "metadata": {},
   "outputs": [],
   "source": []
  }
 ],
 "metadata": {
  "kernelspec": {
   "display_name": "Python 3",
   "language": "python",
   "name": "python3"
  },
  "language_info": {
   "codemirror_mode": {
    "name": "ipython",
    "version": 3
   },
   "file_extension": ".py",
   "mimetype": "text/x-python",
   "name": "python",
   "nbconvert_exporter": "python",
   "pygments_lexer": "ipython3",
   "version": "3.8.5"
  }
 },
 "nbformat": 4,
 "nbformat_minor": 5
}
