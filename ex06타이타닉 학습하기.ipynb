{
 "cells": [
  {
   "cell_type": "code",
   "execution_count": 1,
   "metadata": {},
   "outputs": [],
   "source": [
    "import pandas as pd\n",
    "import pandas as pd\n",
    "import numpy as np\n",
    "import matplotlib.pyplot as plt\n",
    "import seaborn as sns#시각화 라이브러리"
   ]
  },
  {
   "cell_type": "code",
   "execution_count": 2,
   "metadata": {},
   "outputs": [],
   "source": [
    "\n",
    "\n",
    "#1. a문제정의\n",
    "##생존자/사망자 예측\n",
    "#kaggle 대회 높은 점수를 획득\n",
    "\n",
    "##2. 데이터 수집\n",
    "#kaggle 사이트 로부터 train, test 수집"
   ]
  },
  {
   "cell_type": "code",
   "execution_count": 3,
   "metadata": {},
   "outputs": [],
   "source": [
    "train = pd.read_csv('./titanic/train.csv')\n"
   ]
  },
  {
   "cell_type": "code",
   "execution_count": 4,
   "metadata": {},
   "outputs": [],
   "source": [
    "train = pd.read_csv('./titanic/train.csv')\n",
    "test = pd.read_csv('./titanic/test.csv')"
   ]
  },
  {
   "cell_type": "code",
   "execution_count": 5,
   "metadata": {
    "scrolled": true
   },
   "outputs": [
    {
     "data": {
      "text/html": [
       "<div>\n",
       "<style scoped>\n",
       "    .dataframe tbody tr th:only-of-type {\n",
       "        vertical-align: middle;\n",
       "    }\n",
       "\n",
       "    .dataframe tbody tr th {\n",
       "        vertical-align: top;\n",
       "    }\n",
       "\n",
       "    .dataframe thead th {\n",
       "        text-align: right;\n",
       "    }\n",
       "</style>\n",
       "<table border=\"1\" class=\"dataframe\">\n",
       "  <thead>\n",
       "    <tr style=\"text-align: right;\">\n",
       "      <th></th>\n",
       "      <th>PassengerId</th>\n",
       "      <th>Survived</th>\n",
       "      <th>Pclass</th>\n",
       "      <th>Name</th>\n",
       "      <th>Sex</th>\n",
       "      <th>Age</th>\n",
       "      <th>SibSp</th>\n",
       "      <th>Parch</th>\n",
       "      <th>Ticket</th>\n",
       "      <th>Fare</th>\n",
       "      <th>Cabin</th>\n",
       "      <th>Embarked</th>\n",
       "    </tr>\n",
       "  </thead>\n",
       "  <tbody>\n",
       "    <tr>\n",
       "      <th>0</th>\n",
       "      <td>1</td>\n",
       "      <td>0</td>\n",
       "      <td>3</td>\n",
       "      <td>Braund, Mr. Owen Harris</td>\n",
       "      <td>male</td>\n",
       "      <td>22.0</td>\n",
       "      <td>1</td>\n",
       "      <td>0</td>\n",
       "      <td>A/5 21171</td>\n",
       "      <td>7.2500</td>\n",
       "      <td>NaN</td>\n",
       "      <td>S</td>\n",
       "    </tr>\n",
       "    <tr>\n",
       "      <th>1</th>\n",
       "      <td>2</td>\n",
       "      <td>1</td>\n",
       "      <td>1</td>\n",
       "      <td>Cumings, Mrs. John Bradley (Florence Briggs Th...</td>\n",
       "      <td>female</td>\n",
       "      <td>38.0</td>\n",
       "      <td>1</td>\n",
       "      <td>0</td>\n",
       "      <td>PC 17599</td>\n",
       "      <td>71.2833</td>\n",
       "      <td>C85</td>\n",
       "      <td>C</td>\n",
       "    </tr>\n",
       "    <tr>\n",
       "      <th>2</th>\n",
       "      <td>3</td>\n",
       "      <td>1</td>\n",
       "      <td>3</td>\n",
       "      <td>Heikkinen, Miss. Laina</td>\n",
       "      <td>female</td>\n",
       "      <td>26.0</td>\n",
       "      <td>0</td>\n",
       "      <td>0</td>\n",
       "      <td>STON/O2. 3101282</td>\n",
       "      <td>7.9250</td>\n",
       "      <td>NaN</td>\n",
       "      <td>S</td>\n",
       "    </tr>\n",
       "    <tr>\n",
       "      <th>3</th>\n",
       "      <td>4</td>\n",
       "      <td>1</td>\n",
       "      <td>1</td>\n",
       "      <td>Futrelle, Mrs. Jacques Heath (Lily May Peel)</td>\n",
       "      <td>female</td>\n",
       "      <td>35.0</td>\n",
       "      <td>1</td>\n",
       "      <td>0</td>\n",
       "      <td>113803</td>\n",
       "      <td>53.1000</td>\n",
       "      <td>C123</td>\n",
       "      <td>S</td>\n",
       "    </tr>\n",
       "    <tr>\n",
       "      <th>4</th>\n",
       "      <td>5</td>\n",
       "      <td>0</td>\n",
       "      <td>3</td>\n",
       "      <td>Allen, Mr. William Henry</td>\n",
       "      <td>male</td>\n",
       "      <td>35.0</td>\n",
       "      <td>0</td>\n",
       "      <td>0</td>\n",
       "      <td>373450</td>\n",
       "      <td>8.0500</td>\n",
       "      <td>NaN</td>\n",
       "      <td>S</td>\n",
       "    </tr>\n",
       "    <tr>\n",
       "      <th>...</th>\n",
       "      <td>...</td>\n",
       "      <td>...</td>\n",
       "      <td>...</td>\n",
       "      <td>...</td>\n",
       "      <td>...</td>\n",
       "      <td>...</td>\n",
       "      <td>...</td>\n",
       "      <td>...</td>\n",
       "      <td>...</td>\n",
       "      <td>...</td>\n",
       "      <td>...</td>\n",
       "      <td>...</td>\n",
       "    </tr>\n",
       "    <tr>\n",
       "      <th>886</th>\n",
       "      <td>887</td>\n",
       "      <td>0</td>\n",
       "      <td>2</td>\n",
       "      <td>Montvila, Rev. Juozas</td>\n",
       "      <td>male</td>\n",
       "      <td>27.0</td>\n",
       "      <td>0</td>\n",
       "      <td>0</td>\n",
       "      <td>211536</td>\n",
       "      <td>13.0000</td>\n",
       "      <td>NaN</td>\n",
       "      <td>S</td>\n",
       "    </tr>\n",
       "    <tr>\n",
       "      <th>887</th>\n",
       "      <td>888</td>\n",
       "      <td>1</td>\n",
       "      <td>1</td>\n",
       "      <td>Graham, Miss. Margaret Edith</td>\n",
       "      <td>female</td>\n",
       "      <td>19.0</td>\n",
       "      <td>0</td>\n",
       "      <td>0</td>\n",
       "      <td>112053</td>\n",
       "      <td>30.0000</td>\n",
       "      <td>B42</td>\n",
       "      <td>S</td>\n",
       "    </tr>\n",
       "    <tr>\n",
       "      <th>888</th>\n",
       "      <td>889</td>\n",
       "      <td>0</td>\n",
       "      <td>3</td>\n",
       "      <td>Johnston, Miss. Catherine Helen \"Carrie\"</td>\n",
       "      <td>female</td>\n",
       "      <td>NaN</td>\n",
       "      <td>1</td>\n",
       "      <td>2</td>\n",
       "      <td>W./C. 6607</td>\n",
       "      <td>23.4500</td>\n",
       "      <td>NaN</td>\n",
       "      <td>S</td>\n",
       "    </tr>\n",
       "    <tr>\n",
       "      <th>889</th>\n",
       "      <td>890</td>\n",
       "      <td>1</td>\n",
       "      <td>1</td>\n",
       "      <td>Behr, Mr. Karl Howell</td>\n",
       "      <td>male</td>\n",
       "      <td>26.0</td>\n",
       "      <td>0</td>\n",
       "      <td>0</td>\n",
       "      <td>111369</td>\n",
       "      <td>30.0000</td>\n",
       "      <td>C148</td>\n",
       "      <td>C</td>\n",
       "    </tr>\n",
       "    <tr>\n",
       "      <th>890</th>\n",
       "      <td>891</td>\n",
       "      <td>0</td>\n",
       "      <td>3</td>\n",
       "      <td>Dooley, Mr. Patrick</td>\n",
       "      <td>male</td>\n",
       "      <td>32.0</td>\n",
       "      <td>0</td>\n",
       "      <td>0</td>\n",
       "      <td>370376</td>\n",
       "      <td>7.7500</td>\n",
       "      <td>NaN</td>\n",
       "      <td>Q</td>\n",
       "    </tr>\n",
       "  </tbody>\n",
       "</table>\n",
       "<p>891 rows × 12 columns</p>\n",
       "</div>"
      ],
      "text/plain": [
       "     PassengerId  Survived  Pclass  \\\n",
       "0              1         0       3   \n",
       "1              2         1       1   \n",
       "2              3         1       3   \n",
       "3              4         1       1   \n",
       "4              5         0       3   \n",
       "..           ...       ...     ...   \n",
       "886          887         0       2   \n",
       "887          888         1       1   \n",
       "888          889         0       3   \n",
       "889          890         1       1   \n",
       "890          891         0       3   \n",
       "\n",
       "                                                  Name     Sex   Age  SibSp  \\\n",
       "0                              Braund, Mr. Owen Harris    male  22.0      1   \n",
       "1    Cumings, Mrs. John Bradley (Florence Briggs Th...  female  38.0      1   \n",
       "2                               Heikkinen, Miss. Laina  female  26.0      0   \n",
       "3         Futrelle, Mrs. Jacques Heath (Lily May Peel)  female  35.0      1   \n",
       "4                             Allen, Mr. William Henry    male  35.0      0   \n",
       "..                                                 ...     ...   ...    ...   \n",
       "886                              Montvila, Rev. Juozas    male  27.0      0   \n",
       "887                       Graham, Miss. Margaret Edith  female  19.0      0   \n",
       "888           Johnston, Miss. Catherine Helen \"Carrie\"  female   NaN      1   \n",
       "889                              Behr, Mr. Karl Howell    male  26.0      0   \n",
       "890                                Dooley, Mr. Patrick    male  32.0      0   \n",
       "\n",
       "     Parch            Ticket     Fare Cabin Embarked  \n",
       "0        0         A/5 21171   7.2500   NaN        S  \n",
       "1        0          PC 17599  71.2833   C85        C  \n",
       "2        0  STON/O2. 3101282   7.9250   NaN        S  \n",
       "3        0            113803  53.1000  C123        S  \n",
       "4        0            373450   8.0500   NaN        S  \n",
       "..     ...               ...      ...   ...      ...  \n",
       "886      0            211536  13.0000   NaN        S  \n",
       "887      0            112053  30.0000   B42        S  \n",
       "888      2        W./C. 6607  23.4500   NaN        S  \n",
       "889      0            111369  30.0000  C148        C  \n",
       "890      0            370376   7.7500   NaN        Q  \n",
       "\n",
       "[891 rows x 12 columns]"
      ]
     },
     "execution_count": 5,
     "metadata": {},
     "output_type": "execute_result"
    }
   ],
   "source": [
    "#            . 이위치에 .이 빠져있었어요 !\n",
    "pd.read_csv('./titanic/train.csv')"
   ]
  },
  {
   "cell_type": "code",
   "execution_count": null,
   "metadata": {},
   "outputs": [],
   "source": []
  },
  {
   "cell_type": "code",
   "execution_count": 6,
   "metadata": {},
   "outputs": [],
   "source": [
    "#passengerId를 인덱스로 변경하기\n",
    "#set_index\n",
    "train = train.set_index('PassengerId')\n",
    "test = test.set_index('PassengerId')"
   ]
  },
  {
   "cell_type": "code",
   "execution_count": 7,
   "metadata": {
    "scrolled": true
   },
   "outputs": [
    {
     "data": {
      "text/html": [
       "<div>\n",
       "<style scoped>\n",
       "    .dataframe tbody tr th:only-of-type {\n",
       "        vertical-align: middle;\n",
       "    }\n",
       "\n",
       "    .dataframe tbody tr th {\n",
       "        vertical-align: top;\n",
       "    }\n",
       "\n",
       "    .dataframe thead th {\n",
       "        text-align: right;\n",
       "    }\n",
       "</style>\n",
       "<table border=\"1\" class=\"dataframe\">\n",
       "  <thead>\n",
       "    <tr style=\"text-align: right;\">\n",
       "      <th></th>\n",
       "      <th>Survived</th>\n",
       "      <th>Pclass</th>\n",
       "      <th>Name</th>\n",
       "      <th>Sex</th>\n",
       "      <th>Age</th>\n",
       "      <th>SibSp</th>\n",
       "      <th>Parch</th>\n",
       "      <th>Ticket</th>\n",
       "      <th>Fare</th>\n",
       "      <th>Cabin</th>\n",
       "      <th>Embarked</th>\n",
       "    </tr>\n",
       "    <tr>\n",
       "      <th>PassengerId</th>\n",
       "      <th></th>\n",
       "      <th></th>\n",
       "      <th></th>\n",
       "      <th></th>\n",
       "      <th></th>\n",
       "      <th></th>\n",
       "      <th></th>\n",
       "      <th></th>\n",
       "      <th></th>\n",
       "      <th></th>\n",
       "      <th></th>\n",
       "    </tr>\n",
       "  </thead>\n",
       "  <tbody>\n",
       "    <tr>\n",
       "      <th>1</th>\n",
       "      <td>0</td>\n",
       "      <td>3</td>\n",
       "      <td>Braund, Mr. Owen Harris</td>\n",
       "      <td>male</td>\n",
       "      <td>22.0</td>\n",
       "      <td>1</td>\n",
       "      <td>0</td>\n",
       "      <td>A/5 21171</td>\n",
       "      <td>7.2500</td>\n",
       "      <td>NaN</td>\n",
       "      <td>S</td>\n",
       "    </tr>\n",
       "    <tr>\n",
       "      <th>2</th>\n",
       "      <td>1</td>\n",
       "      <td>1</td>\n",
       "      <td>Cumings, Mrs. John Bradley (Florence Briggs Th...</td>\n",
       "      <td>female</td>\n",
       "      <td>38.0</td>\n",
       "      <td>1</td>\n",
       "      <td>0</td>\n",
       "      <td>PC 17599</td>\n",
       "      <td>71.2833</td>\n",
       "      <td>C85</td>\n",
       "      <td>C</td>\n",
       "    </tr>\n",
       "    <tr>\n",
       "      <th>3</th>\n",
       "      <td>1</td>\n",
       "      <td>3</td>\n",
       "      <td>Heikkinen, Miss. Laina</td>\n",
       "      <td>female</td>\n",
       "      <td>26.0</td>\n",
       "      <td>0</td>\n",
       "      <td>0</td>\n",
       "      <td>STON/O2. 3101282</td>\n",
       "      <td>7.9250</td>\n",
       "      <td>NaN</td>\n",
       "      <td>S</td>\n",
       "    </tr>\n",
       "    <tr>\n",
       "      <th>4</th>\n",
       "      <td>1</td>\n",
       "      <td>1</td>\n",
       "      <td>Futrelle, Mrs. Jacques Heath (Lily May Peel)</td>\n",
       "      <td>female</td>\n",
       "      <td>35.0</td>\n",
       "      <td>1</td>\n",
       "      <td>0</td>\n",
       "      <td>113803</td>\n",
       "      <td>53.1000</td>\n",
       "      <td>C123</td>\n",
       "      <td>S</td>\n",
       "    </tr>\n",
       "    <tr>\n",
       "      <th>5</th>\n",
       "      <td>0</td>\n",
       "      <td>3</td>\n",
       "      <td>Allen, Mr. William Henry</td>\n",
       "      <td>male</td>\n",
       "      <td>35.0</td>\n",
       "      <td>0</td>\n",
       "      <td>0</td>\n",
       "      <td>373450</td>\n",
       "      <td>8.0500</td>\n",
       "      <td>NaN</td>\n",
       "      <td>S</td>\n",
       "    </tr>\n",
       "    <tr>\n",
       "      <th>...</th>\n",
       "      <td>...</td>\n",
       "      <td>...</td>\n",
       "      <td>...</td>\n",
       "      <td>...</td>\n",
       "      <td>...</td>\n",
       "      <td>...</td>\n",
       "      <td>...</td>\n",
       "      <td>...</td>\n",
       "      <td>...</td>\n",
       "      <td>...</td>\n",
       "      <td>...</td>\n",
       "    </tr>\n",
       "    <tr>\n",
       "      <th>887</th>\n",
       "      <td>0</td>\n",
       "      <td>2</td>\n",
       "      <td>Montvila, Rev. Juozas</td>\n",
       "      <td>male</td>\n",
       "      <td>27.0</td>\n",
       "      <td>0</td>\n",
       "      <td>0</td>\n",
       "      <td>211536</td>\n",
       "      <td>13.0000</td>\n",
       "      <td>NaN</td>\n",
       "      <td>S</td>\n",
       "    </tr>\n",
       "    <tr>\n",
       "      <th>888</th>\n",
       "      <td>1</td>\n",
       "      <td>1</td>\n",
       "      <td>Graham, Miss. Margaret Edith</td>\n",
       "      <td>female</td>\n",
       "      <td>19.0</td>\n",
       "      <td>0</td>\n",
       "      <td>0</td>\n",
       "      <td>112053</td>\n",
       "      <td>30.0000</td>\n",
       "      <td>B42</td>\n",
       "      <td>S</td>\n",
       "    </tr>\n",
       "    <tr>\n",
       "      <th>889</th>\n",
       "      <td>0</td>\n",
       "      <td>3</td>\n",
       "      <td>Johnston, Miss. Catherine Helen \"Carrie\"</td>\n",
       "      <td>female</td>\n",
       "      <td>NaN</td>\n",
       "      <td>1</td>\n",
       "      <td>2</td>\n",
       "      <td>W./C. 6607</td>\n",
       "      <td>23.4500</td>\n",
       "      <td>NaN</td>\n",
       "      <td>S</td>\n",
       "    </tr>\n",
       "    <tr>\n",
       "      <th>890</th>\n",
       "      <td>1</td>\n",
       "      <td>1</td>\n",
       "      <td>Behr, Mr. Karl Howell</td>\n",
       "      <td>male</td>\n",
       "      <td>26.0</td>\n",
       "      <td>0</td>\n",
       "      <td>0</td>\n",
       "      <td>111369</td>\n",
       "      <td>30.0000</td>\n",
       "      <td>C148</td>\n",
       "      <td>C</td>\n",
       "    </tr>\n",
       "    <tr>\n",
       "      <th>891</th>\n",
       "      <td>0</td>\n",
       "      <td>3</td>\n",
       "      <td>Dooley, Mr. Patrick</td>\n",
       "      <td>male</td>\n",
       "      <td>32.0</td>\n",
       "      <td>0</td>\n",
       "      <td>0</td>\n",
       "      <td>370376</td>\n",
       "      <td>7.7500</td>\n",
       "      <td>NaN</td>\n",
       "      <td>Q</td>\n",
       "    </tr>\n",
       "  </tbody>\n",
       "</table>\n",
       "<p>891 rows × 11 columns</p>\n",
       "</div>"
      ],
      "text/plain": [
       "             Survived  Pclass  \\\n",
       "PassengerId                     \n",
       "1                   0       3   \n",
       "2                   1       1   \n",
       "3                   1       3   \n",
       "4                   1       1   \n",
       "5                   0       3   \n",
       "...               ...     ...   \n",
       "887                 0       2   \n",
       "888                 1       1   \n",
       "889                 0       3   \n",
       "890                 1       1   \n",
       "891                 0       3   \n",
       "\n",
       "                                                          Name     Sex   Age  \\\n",
       "PassengerId                                                                    \n",
       "1                                      Braund, Mr. Owen Harris    male  22.0   \n",
       "2            Cumings, Mrs. John Bradley (Florence Briggs Th...  female  38.0   \n",
       "3                                       Heikkinen, Miss. Laina  female  26.0   \n",
       "4                 Futrelle, Mrs. Jacques Heath (Lily May Peel)  female  35.0   \n",
       "5                                     Allen, Mr. William Henry    male  35.0   \n",
       "...                                                        ...     ...   ...   \n",
       "887                                      Montvila, Rev. Juozas    male  27.0   \n",
       "888                               Graham, Miss. Margaret Edith  female  19.0   \n",
       "889                   Johnston, Miss. Catherine Helen \"Carrie\"  female   NaN   \n",
       "890                                      Behr, Mr. Karl Howell    male  26.0   \n",
       "891                                        Dooley, Mr. Patrick    male  32.0   \n",
       "\n",
       "             SibSp  Parch            Ticket     Fare Cabin Embarked  \n",
       "PassengerId                                                          \n",
       "1                1      0         A/5 21171   7.2500   NaN        S  \n",
       "2                1      0          PC 17599  71.2833   C85        C  \n",
       "3                0      0  STON/O2. 3101282   7.9250   NaN        S  \n",
       "4                1      0            113803  53.1000  C123        S  \n",
       "5                0      0            373450   8.0500   NaN        S  \n",
       "...            ...    ...               ...      ...   ...      ...  \n",
       "887              0      0            211536  13.0000   NaN        S  \n",
       "888              0      0            112053  30.0000   B42        S  \n",
       "889              1      2        W./C. 6607  23.4500   NaN        S  \n",
       "890              0      0            111369  30.0000  C148        C  \n",
       "891              0      0            370376   7.7500   NaN        Q  \n",
       "\n",
       "[891 rows x 11 columns]"
      ]
     },
     "execution_count": 7,
     "metadata": {},
     "output_type": "execute_result"
    }
   ],
   "source": [
    "pd.read_csv('./titanic/train.csv', index_col = 'PassengerId')"
   ]
  },
  {
   "cell_type": "code",
   "execution_count": null,
   "metadata": {},
   "outputs": [],
   "source": []
  },
  {
   "cell_type": "code",
   "execution_count": 8,
   "metadata": {},
   "outputs": [
    {
     "name": "stdout",
     "output_type": "stream",
     "text": [
      "(891, 11)\n",
      "(418, 10)\n"
     ]
    }
   ],
   "source": [
    "print(train.shape)\n",
    "print(test.shape)"
   ]
  },
  {
   "cell_type": "code",
   "execution_count": 9,
   "metadata": {},
   "outputs": [
    {
     "name": "stdout",
     "output_type": "stream",
     "text": [
      "<class 'pandas.core.frame.DataFrame'>\n",
      "Int64Index: 891 entries, 1 to 891\n",
      "Data columns (total 11 columns):\n",
      " #   Column    Non-Null Count  Dtype  \n",
      "---  ------    --------------  -----  \n",
      " 0   Survived  891 non-null    int64  \n",
      " 1   Pclass    891 non-null    int64  \n",
      " 2   Name      891 non-null    object \n",
      " 3   Sex       891 non-null    object \n",
      " 4   Age       714 non-null    float64\n",
      " 5   SibSp     891 non-null    int64  \n",
      " 6   Parch     891 non-null    int64  \n",
      " 7   Ticket    891 non-null    object \n",
      " 8   Fare      891 non-null    float64\n",
      " 9   Cabin     204 non-null    object \n",
      " 10  Embarked  889 non-null    object \n",
      "dtypes: float64(2), int64(4), object(5)\n",
      "memory usage: 83.5+ KB\n"
     ]
    }
   ],
   "source": [
    "#결측치 확인\n",
    "train.info()\n",
    "#age, cabin embarked"
   ]
  },
  {
   "cell_type": "code",
   "execution_count": 10,
   "metadata": {},
   "outputs": [
    {
     "name": "stdout",
     "output_type": "stream",
     "text": [
      "<class 'pandas.core.frame.DataFrame'>\n",
      "Int64Index: 418 entries, 892 to 1309\n",
      "Data columns (total 10 columns):\n",
      " #   Column    Non-Null Count  Dtype  \n",
      "---  ------    --------------  -----  \n",
      " 0   Pclass    418 non-null    int64  \n",
      " 1   Name      418 non-null    object \n",
      " 2   Sex       418 non-null    object \n",
      " 3   Age       332 non-null    float64\n",
      " 4   SibSp     418 non-null    int64  \n",
      " 5   Parch     418 non-null    int64  \n",
      " 6   Ticket    418 non-null    object \n",
      " 7   Fare      417 non-null    float64\n",
      " 8   Cabin     91 non-null     object \n",
      " 9   Embarked  418 non-null    object \n",
      "dtypes: float64(2), int64(3), object(5)\n",
      "memory usage: 35.9+ KB\n"
     ]
    }
   ],
   "source": [
    "test.info()"
   ]
  },
  {
   "cell_type": "code",
   "execution_count": 11,
   "metadata": {},
   "outputs": [
    {
     "name": "stdout",
     "output_type": "stream",
     "text": [
      "<class 'pandas.core.frame.DataFrame'>\n",
      "Int64Index: 891 entries, 1 to 891\n",
      "Data columns (total 11 columns):\n",
      " #   Column    Non-Null Count  Dtype  \n",
      "---  ------    --------------  -----  \n",
      " 0   Survived  891 non-null    int64  \n",
      " 1   Pclass    891 non-null    int64  \n",
      " 2   Name      891 non-null    object \n",
      " 3   Sex       891 non-null    object \n",
      " 4   Age       714 non-null    float64\n",
      " 5   SibSp     891 non-null    int64  \n",
      " 6   Parch     891 non-null    int64  \n",
      " 7   Ticket    891 non-null    object \n",
      " 8   Fare      891 non-null    float64\n",
      " 9   Cabin     204 non-null    object \n",
      " 10  Embarked  889 non-null    object \n",
      "dtypes: float64(2), int64(4), object(5)\n",
      "memory usage: 83.5+ KB\n"
     ]
    }
   ],
   "source": [
    "train.info()\n",
    "#age, fare, cabin"
   ]
  },
  {
   "cell_type": "code",
   "execution_count": 12,
   "metadata": {},
   "outputs": [
    {
     "data": {
      "text/plain": [
       "S    644\n",
       "C    168\n",
       "Q     77\n",
       "Name: Embarked, dtype: int64"
      ]
     },
     "execution_count": 12,
     "metadata": {},
     "output_type": "execute_result"
    }
   ],
   "source": [
    "#train- embarked 결측치 채우기\n",
    "#value_counts(): 각 컬럼에 몇 개의 값이 있는지 확인\n",
    "\n",
    "train['Embarked'].value_counts()"
   ]
  },
  {
   "cell_type": "code",
   "execution_count": 13,
   "metadata": {},
   "outputs": [
    {
     "data": {
      "text/plain": [
       "S    646\n",
       "C    168\n",
       "Q     77\n",
       "Name: Embarked, dtype: int64"
      ]
     },
     "execution_count": 13,
     "metadata": {},
     "output_type": "execute_result"
    }
   ],
   "source": [
    "#최빈값(s)으로 결측치 채우기\n",
    "#EMbarked 컬럼에 s 가 갖는 비율이 높음(70)\n",
    "#2개의 결측치이기 때문에 학습에 큰 영향을 끼치지 않음\n",
    "#fillna('결측치에 채울 값')- 결측치 채우기\n",
    "train['Embarked']= train['Embarked'].fillna('S')\n",
    "train['Embarked'].value_counts()\n"
   ]
  },
  {
   "cell_type": "code",
   "execution_count": 14,
   "metadata": {},
   "outputs": [
    {
     "data": {
      "text/html": [
       "<div>\n",
       "<style scoped>\n",
       "    .dataframe tbody tr th:only-of-type {\n",
       "        vertical-align: middle;\n",
       "    }\n",
       "\n",
       "    .dataframe tbody tr th {\n",
       "        vertical-align: top;\n",
       "    }\n",
       "\n",
       "    .dataframe thead th {\n",
       "        text-align: right;\n",
       "    }\n",
       "</style>\n",
       "<table border=\"1\" class=\"dataframe\">\n",
       "  <thead>\n",
       "    <tr style=\"text-align: right;\">\n",
       "      <th></th>\n",
       "      <th>Survived</th>\n",
       "      <th>Pclass</th>\n",
       "      <th>Age</th>\n",
       "      <th>SibSp</th>\n",
       "      <th>Parch</th>\n",
       "      <th>Fare</th>\n",
       "    </tr>\n",
       "  </thead>\n",
       "  <tbody>\n",
       "    <tr>\n",
       "      <th>Survived</th>\n",
       "      <td>1.000000</td>\n",
       "      <td>-0.338481</td>\n",
       "      <td>-0.077221</td>\n",
       "      <td>-0.035322</td>\n",
       "      <td>0.081629</td>\n",
       "      <td>0.257307</td>\n",
       "    </tr>\n",
       "    <tr>\n",
       "      <th>Pclass</th>\n",
       "      <td>-0.338481</td>\n",
       "      <td>1.000000</td>\n",
       "      <td>-0.369226</td>\n",
       "      <td>0.083081</td>\n",
       "      <td>0.018443</td>\n",
       "      <td>-0.549500</td>\n",
       "    </tr>\n",
       "    <tr>\n",
       "      <th>Age</th>\n",
       "      <td>-0.077221</td>\n",
       "      <td>-0.369226</td>\n",
       "      <td>1.000000</td>\n",
       "      <td>-0.308247</td>\n",
       "      <td>-0.189119</td>\n",
       "      <td>0.096067</td>\n",
       "    </tr>\n",
       "    <tr>\n",
       "      <th>SibSp</th>\n",
       "      <td>-0.035322</td>\n",
       "      <td>0.083081</td>\n",
       "      <td>-0.308247</td>\n",
       "      <td>1.000000</td>\n",
       "      <td>0.414838</td>\n",
       "      <td>0.159651</td>\n",
       "    </tr>\n",
       "    <tr>\n",
       "      <th>Parch</th>\n",
       "      <td>0.081629</td>\n",
       "      <td>0.018443</td>\n",
       "      <td>-0.189119</td>\n",
       "      <td>0.414838</td>\n",
       "      <td>1.000000</td>\n",
       "      <td>0.216225</td>\n",
       "    </tr>\n",
       "    <tr>\n",
       "      <th>Fare</th>\n",
       "      <td>0.257307</td>\n",
       "      <td>-0.549500</td>\n",
       "      <td>0.096067</td>\n",
       "      <td>0.159651</td>\n",
       "      <td>0.216225</td>\n",
       "      <td>1.000000</td>\n",
       "    </tr>\n",
       "  </tbody>\n",
       "</table>\n",
       "</div>"
      ],
      "text/plain": [
       "          Survived    Pclass       Age     SibSp     Parch      Fare\n",
       "Survived  1.000000 -0.338481 -0.077221 -0.035322  0.081629  0.257307\n",
       "Pclass   -0.338481  1.000000 -0.369226  0.083081  0.018443 -0.549500\n",
       "Age      -0.077221 -0.369226  1.000000 -0.308247 -0.189119  0.096067\n",
       "SibSp    -0.035322  0.083081 -0.308247  1.000000  0.414838  0.159651\n",
       "Parch     0.081629  0.018443 -0.189119  0.414838  1.000000  0.216225\n",
       "Fare      0.257307 -0.549500  0.096067  0.159651  0.216225  1.000000"
      ]
     },
     "execution_count": 14,
     "metadata": {},
     "output_type": "execute_result"
    }
   ],
   "source": [
    "#train, test의  age 채우기\n",
    "#다른컬럼 간의 상관관계를 통해서 결측치를 채워보자\n",
    "#age와 다른 컬럼간의 상관관계를 알아보자\n",
    "#corr: 상관관계 알아보기\n",
    "# 절댓값이 1에 가까울 수록 두 컬럼간의 상관관계가 높다\n",
    "train.corr()"
   ]
  },
  {
   "cell_type": "code",
   "execution_count": 15,
   "metadata": {},
   "outputs": [
    {
     "data": {
      "text/html": [
       "<div>\n",
       "<style scoped>\n",
       "    .dataframe tbody tr th:only-of-type {\n",
       "        vertical-align: middle;\n",
       "    }\n",
       "\n",
       "    .dataframe tbody tr th {\n",
       "        vertical-align: top;\n",
       "    }\n",
       "\n",
       "    .dataframe thead th {\n",
       "        text-align: right;\n",
       "    }\n",
       "</style>\n",
       "<table border=\"1\" class=\"dataframe\">\n",
       "  <thead>\n",
       "    <tr style=\"text-align: right;\">\n",
       "      <th></th>\n",
       "      <th></th>\n",
       "      <th>Age</th>\n",
       "    </tr>\n",
       "    <tr>\n",
       "      <th>Pclass</th>\n",
       "      <th>Sex</th>\n",
       "      <th></th>\n",
       "    </tr>\n",
       "  </thead>\n",
       "  <tbody>\n",
       "    <tr>\n",
       "      <th rowspan=\"2\" valign=\"top\">1</th>\n",
       "      <th>female</th>\n",
       "      <td>34.611765</td>\n",
       "    </tr>\n",
       "    <tr>\n",
       "      <th>male</th>\n",
       "      <td>41.281386</td>\n",
       "    </tr>\n",
       "    <tr>\n",
       "      <th rowspan=\"2\" valign=\"top\">2</th>\n",
       "      <th>female</th>\n",
       "      <td>28.722973</td>\n",
       "    </tr>\n",
       "    <tr>\n",
       "      <th>male</th>\n",
       "      <td>30.740707</td>\n",
       "    </tr>\n",
       "    <tr>\n",
       "      <th rowspan=\"2\" valign=\"top\">3</th>\n",
       "      <th>female</th>\n",
       "      <td>21.750000</td>\n",
       "    </tr>\n",
       "    <tr>\n",
       "      <th>male</th>\n",
       "      <td>26.507589</td>\n",
       "    </tr>\n",
       "  </tbody>\n",
       "</table>\n",
       "</div>"
      ],
      "text/plain": [
       "                     Age\n",
       "Pclass Sex              \n",
       "1      female  34.611765\n",
       "       male    41.281386\n",
       "2      female  28.722973\n",
       "       male    30.740707\n",
       "3      female  21.750000\n",
       "       male    26.507589"
      ]
     },
     "execution_count": 15,
     "metadata": {},
     "output_type": "execute_result"
    }
   ],
   "source": [
    "# age- 객실등급(pclass), 성별(sex)\n",
    "pt1 = train.pivot_table(values = 'Age',#궁금한 값\n",
    "                 index = ['Pclass', 'Sex'],#기준값\n",
    "                        #기준값에는 결측치가 존재하면 안된다\n",
    "                 aggfunc = 'mean')#출력할 값\n",
    "pt1"
   ]
  },
  {
   "cell_type": "code",
   "execution_count": 16,
   "metadata": {},
   "outputs": [
    {
     "data": {
      "text/plain": [
       "21.75"
      ]
     },
     "execution_count": 16,
     "metadata": {},
     "output_type": "execute_result"
    }
   ],
   "source": [
    "#인덱스 두개 입력\n",
    "\n",
    "pt1.loc[3,'female'][0]"
   ]
  },
  {
   "cell_type": "code",
   "execution_count": 17,
   "metadata": {},
   "outputs": [],
   "source": [
    "#apply : 행/ 열 단위로 작업을 할 때 사용\n",
    "#np.isnan : 결측치면 : True,  결측치가 아니면 :  False\n",
    "#loc\n",
    "#astype: series타입변경"
   ]
  },
  {
   "cell_type": "code",
   "execution_count": 18,
   "metadata": {},
   "outputs": [
    {
     "data": {
      "text/plain": [
       "PassengerId\n",
       "1      False\n",
       "2      False\n",
       "3      False\n",
       "4      False\n",
       "5      False\n",
       "       ...  \n",
       "887    False\n",
       "888    False\n",
       "889     True\n",
       "890    False\n",
       "891    False\n",
       "Name: Age, Length: 891, dtype: bool"
      ]
     },
     "execution_count": 18,
     "metadata": {},
     "output_type": "execute_result"
    }
   ],
   "source": [
    "np.isnan(train['Age'])"
   ]
  },
  {
   "cell_type": "code",
   "execution_count": 19,
   "metadata": {},
   "outputs": [
    {
     "data": {
      "text/plain": [
       "Survived                          0\n",
       "Pclass                            3\n",
       "Name        Braund, Mr. Owen Harris\n",
       "Sex                            male\n",
       "Age                              22\n",
       "SibSp                             1\n",
       "Parch                             0\n",
       "Ticket                    A/5 21171\n",
       "Fare                           7.25\n",
       "Cabin                           NaN\n",
       "Embarked                          S\n",
       "Name: 1, dtype: object"
      ]
     },
     "execution_count": 19,
     "metadata": {},
     "output_type": "execute_result"
    }
   ],
   "source": [
    "train.iloc[0,:]"
   ]
  },
  {
   "cell_type": "code",
   "execution_count": 20,
   "metadata": {},
   "outputs": [],
   "source": [
    "def fill_age(data):\n",
    "    #나이가 결측치인지 아닌지\n",
    "    # 나이가 결측치라면 pt1값을 가져오고\n",
    "    if np.isnan(data['Age']) : \n",
    "        return pt1.loc[data['Pclass'],data['Sex']][0]\n",
    "    #나이가 결측치가 아니라면 그 값을 그대로 사용\n",
    "    else : \n",
    "        return data['Age']"
   ]
  },
  {
   "cell_type": "code",
   "execution_count": 21,
   "metadata": {},
   "outputs": [],
   "source": [
    "train['Age'] = train.apply(fill_age, axis = 1).astype('int')"
   ]
  },
  {
   "cell_type": "code",
   "execution_count": 22,
   "metadata": {},
   "outputs": [],
   "source": [
    "#axis  =  1행 단위로 작업하겠다\n",
    "# train에 있는 행을 하나씩 출력해서 fill_age 함수에 적용\n"
   ]
  },
  {
   "cell_type": "code",
   "execution_count": 23,
   "metadata": {},
   "outputs": [
    {
     "name": "stdout",
     "output_type": "stream",
     "text": [
      "<class 'pandas.core.frame.DataFrame'>\n",
      "Int64Index: 891 entries, 1 to 891\n",
      "Data columns (total 11 columns):\n",
      " #   Column    Non-Null Count  Dtype  \n",
      "---  ------    --------------  -----  \n",
      " 0   Survived  891 non-null    int64  \n",
      " 1   Pclass    891 non-null    int64  \n",
      " 2   Name      891 non-null    object \n",
      " 3   Sex       891 non-null    object \n",
      " 4   Age       891 non-null    int32  \n",
      " 5   SibSp     891 non-null    int64  \n",
      " 6   Parch     891 non-null    int64  \n",
      " 7   Ticket    891 non-null    object \n",
      " 8   Fare      891 non-null    float64\n",
      " 9   Cabin     204 non-null    object \n",
      " 10  Embarked  891 non-null    object \n",
      "dtypes: float64(1), int32(1), int64(4), object(5)\n",
      "memory usage: 80.1+ KB\n"
     ]
    }
   ],
   "source": [
    "train.info()"
   ]
  },
  {
   "cell_type": "code",
   "execution_count": 24,
   "metadata": {},
   "outputs": [
    {
     "name": "stdout",
     "output_type": "stream",
     "text": [
      "<class 'pandas.core.frame.DataFrame'>\n",
      "Int64Index: 418 entries, 892 to 1309\n",
      "Data columns (total 10 columns):\n",
      " #   Column    Non-Null Count  Dtype  \n",
      "---  ------    --------------  -----  \n",
      " 0   Pclass    418 non-null    int64  \n",
      " 1   Name      418 non-null    object \n",
      " 2   Sex       418 non-null    object \n",
      " 3   Age       332 non-null    float64\n",
      " 4   SibSp     418 non-null    int64  \n",
      " 5   Parch     418 non-null    int64  \n",
      " 6   Ticket    418 non-null    object \n",
      " 7   Fare      417 non-null    float64\n",
      " 8   Cabin     91 non-null     object \n",
      " 9   Embarked  418 non-null    object \n",
      "dtypes: float64(2), int64(3), object(5)\n",
      "memory usage: 35.9+ KB\n"
     ]
    }
   ],
   "source": [
    "test.info()"
   ]
  },
  {
   "cell_type": "code",
   "execution_count": 25,
   "metadata": {},
   "outputs": [],
   "source": [
    "test['Age'] = test.apply(fill_age, axis = 1).astype('int')"
   ]
  },
  {
   "cell_type": "code",
   "execution_count": 26,
   "metadata": {},
   "outputs": [
    {
     "name": "stdout",
     "output_type": "stream",
     "text": [
      "<class 'pandas.core.frame.DataFrame'>\n",
      "Int64Index: 418 entries, 892 to 1309\n",
      "Data columns (total 10 columns):\n",
      " #   Column    Non-Null Count  Dtype  \n",
      "---  ------    --------------  -----  \n",
      " 0   Pclass    418 non-null    int64  \n",
      " 1   Name      418 non-null    object \n",
      " 2   Sex       418 non-null    object \n",
      " 3   Age       418 non-null    int32  \n",
      " 4   SibSp     418 non-null    int64  \n",
      " 5   Parch     418 non-null    int64  \n",
      " 6   Ticket    418 non-null    object \n",
      " 7   Fare      417 non-null    float64\n",
      " 8   Cabin     91 non-null     object \n",
      " 9   Embarked  418 non-null    object \n",
      "dtypes: float64(1), int32(1), int64(3), object(5)\n",
      "memory usage: 34.3+ KB\n"
     ]
    }
   ],
   "source": [
    "test.info()"
   ]
  },
  {
   "cell_type": "code",
   "execution_count": 27,
   "metadata": {},
   "outputs": [
    {
     "data": {
      "text/html": [
       "<div>\n",
       "<style scoped>\n",
       "    .dataframe tbody tr th:only-of-type {\n",
       "        vertical-align: middle;\n",
       "    }\n",
       "\n",
       "    .dataframe tbody tr th {\n",
       "        vertical-align: top;\n",
       "    }\n",
       "\n",
       "    .dataframe thead th {\n",
       "        text-align: right;\n",
       "    }\n",
       "</style>\n",
       "<table border=\"1\" class=\"dataframe\">\n",
       "  <thead>\n",
       "    <tr style=\"text-align: right;\">\n",
       "      <th></th>\n",
       "      <th>Pclass</th>\n",
       "      <th>Name</th>\n",
       "      <th>Sex</th>\n",
       "      <th>Age</th>\n",
       "      <th>SibSp</th>\n",
       "      <th>Parch</th>\n",
       "      <th>Ticket</th>\n",
       "      <th>Fare</th>\n",
       "      <th>Cabin</th>\n",
       "      <th>Embarked</th>\n",
       "    </tr>\n",
       "    <tr>\n",
       "      <th>PassengerId</th>\n",
       "      <th></th>\n",
       "      <th></th>\n",
       "      <th></th>\n",
       "      <th></th>\n",
       "      <th></th>\n",
       "      <th></th>\n",
       "      <th></th>\n",
       "      <th></th>\n",
       "      <th></th>\n",
       "      <th></th>\n",
       "    </tr>\n",
       "  </thead>\n",
       "  <tbody>\n",
       "    <tr>\n",
       "      <th>892</th>\n",
       "      <td>3</td>\n",
       "      <td>Kelly, Mr. James</td>\n",
       "      <td>male</td>\n",
       "      <td>34</td>\n",
       "      <td>0</td>\n",
       "      <td>0</td>\n",
       "      <td>330911</td>\n",
       "      <td>7.8292</td>\n",
       "      <td>32</td>\n",
       "      <td>Q</td>\n",
       "    </tr>\n",
       "    <tr>\n",
       "      <th>893</th>\n",
       "      <td>3</td>\n",
       "      <td>Wilkes, Mrs. James (Ellen Needs)</td>\n",
       "      <td>female</td>\n",
       "      <td>47</td>\n",
       "      <td>1</td>\n",
       "      <td>0</td>\n",
       "      <td>363272</td>\n",
       "      <td>7.0000</td>\n",
       "      <td>32</td>\n",
       "      <td>S</td>\n",
       "    </tr>\n",
       "    <tr>\n",
       "      <th>894</th>\n",
       "      <td>2</td>\n",
       "      <td>Myles, Mr. Thomas Francis</td>\n",
       "      <td>male</td>\n",
       "      <td>62</td>\n",
       "      <td>0</td>\n",
       "      <td>0</td>\n",
       "      <td>240276</td>\n",
       "      <td>9.6875</td>\n",
       "      <td>32</td>\n",
       "      <td>Q</td>\n",
       "    </tr>\n",
       "    <tr>\n",
       "      <th>895</th>\n",
       "      <td>3</td>\n",
       "      <td>Wirz, Mr. Albert</td>\n",
       "      <td>male</td>\n",
       "      <td>27</td>\n",
       "      <td>0</td>\n",
       "      <td>0</td>\n",
       "      <td>315154</td>\n",
       "      <td>8.6625</td>\n",
       "      <td>32</td>\n",
       "      <td>S</td>\n",
       "    </tr>\n",
       "    <tr>\n",
       "      <th>896</th>\n",
       "      <td>3</td>\n",
       "      <td>Hirvonen, Mrs. Alexander (Helga E Lindqvist)</td>\n",
       "      <td>female</td>\n",
       "      <td>22</td>\n",
       "      <td>1</td>\n",
       "      <td>1</td>\n",
       "      <td>3101298</td>\n",
       "      <td>12.2875</td>\n",
       "      <td>32</td>\n",
       "      <td>S</td>\n",
       "    </tr>\n",
       "    <tr>\n",
       "      <th>...</th>\n",
       "      <td>...</td>\n",
       "      <td>...</td>\n",
       "      <td>...</td>\n",
       "      <td>...</td>\n",
       "      <td>...</td>\n",
       "      <td>...</td>\n",
       "      <td>...</td>\n",
       "      <td>...</td>\n",
       "      <td>...</td>\n",
       "      <td>...</td>\n",
       "    </tr>\n",
       "    <tr>\n",
       "      <th>1305</th>\n",
       "      <td>3</td>\n",
       "      <td>Spector, Mr. Woolf</td>\n",
       "      <td>male</td>\n",
       "      <td>26</td>\n",
       "      <td>0</td>\n",
       "      <td>0</td>\n",
       "      <td>A.5. 3236</td>\n",
       "      <td>8.0500</td>\n",
       "      <td>32</td>\n",
       "      <td>S</td>\n",
       "    </tr>\n",
       "    <tr>\n",
       "      <th>1306</th>\n",
       "      <td>1</td>\n",
       "      <td>Oliva y Ocana, Dona. Fermina</td>\n",
       "      <td>female</td>\n",
       "      <td>39</td>\n",
       "      <td>0</td>\n",
       "      <td>0</td>\n",
       "      <td>PC 17758</td>\n",
       "      <td>108.9000</td>\n",
       "      <td>C105</td>\n",
       "      <td>C</td>\n",
       "    </tr>\n",
       "    <tr>\n",
       "      <th>1307</th>\n",
       "      <td>3</td>\n",
       "      <td>Saether, Mr. Simon Sivertsen</td>\n",
       "      <td>male</td>\n",
       "      <td>38</td>\n",
       "      <td>0</td>\n",
       "      <td>0</td>\n",
       "      <td>SOTON/O.Q. 3101262</td>\n",
       "      <td>7.2500</td>\n",
       "      <td>32</td>\n",
       "      <td>S</td>\n",
       "    </tr>\n",
       "    <tr>\n",
       "      <th>1308</th>\n",
       "      <td>3</td>\n",
       "      <td>Ware, Mr. Frederick</td>\n",
       "      <td>male</td>\n",
       "      <td>26</td>\n",
       "      <td>0</td>\n",
       "      <td>0</td>\n",
       "      <td>359309</td>\n",
       "      <td>8.0500</td>\n",
       "      <td>32</td>\n",
       "      <td>S</td>\n",
       "    </tr>\n",
       "    <tr>\n",
       "      <th>1309</th>\n",
       "      <td>3</td>\n",
       "      <td>Peter, Master. Michael J</td>\n",
       "      <td>male</td>\n",
       "      <td>26</td>\n",
       "      <td>1</td>\n",
       "      <td>1</td>\n",
       "      <td>2668</td>\n",
       "      <td>22.3583</td>\n",
       "      <td>32</td>\n",
       "      <td>C</td>\n",
       "    </tr>\n",
       "  </tbody>\n",
       "</table>\n",
       "<p>418 rows × 10 columns</p>\n",
       "</div>"
      ],
      "text/plain": [
       "             Pclass                                          Name     Sex  \\\n",
       "PassengerId                                                                 \n",
       "892               3                              Kelly, Mr. James    male   \n",
       "893               3              Wilkes, Mrs. James (Ellen Needs)  female   \n",
       "894               2                     Myles, Mr. Thomas Francis    male   \n",
       "895               3                              Wirz, Mr. Albert    male   \n",
       "896               3  Hirvonen, Mrs. Alexander (Helga E Lindqvist)  female   \n",
       "...             ...                                           ...     ...   \n",
       "1305              3                            Spector, Mr. Woolf    male   \n",
       "1306              1                  Oliva y Ocana, Dona. Fermina  female   \n",
       "1307              3                  Saether, Mr. Simon Sivertsen    male   \n",
       "1308              3                           Ware, Mr. Frederick    male   \n",
       "1309              3                      Peter, Master. Michael J    male   \n",
       "\n",
       "             Age  SibSp  Parch              Ticket      Fare Cabin Embarked  \n",
       "PassengerId                                                                  \n",
       "892           34      0      0              330911    7.8292    32        Q  \n",
       "893           47      1      0              363272    7.0000    32        S  \n",
       "894           62      0      0              240276    9.6875    32        Q  \n",
       "895           27      0      0              315154    8.6625    32        S  \n",
       "896           22      1      1             3101298   12.2875    32        S  \n",
       "...          ...    ...    ...                 ...       ...   ...      ...  \n",
       "1305          26      0      0           A.5. 3236    8.0500    32        S  \n",
       "1306          39      0      0            PC 17758  108.9000  C105        C  \n",
       "1307          38      0      0  SOTON/O.Q. 3101262    7.2500    32        S  \n",
       "1308          26      0      0              359309    8.0500    32        S  \n",
       "1309          26      1      1                2668   22.3583    32        C  \n",
       "\n",
       "[418 rows x 10 columns]"
      ]
     },
     "execution_count": 27,
     "metadata": {},
     "output_type": "execute_result"
    }
   ],
   "source": [
    "#test-fare결측치 채우기\n",
    "#평균값\n",
    "#fillna 활용\n",
    "#1.결측치 제외하고 fare 값 출력하기\n",
    "#train['Fare']\n",
    "\n",
    "##train, test든 결측치를 채울때 기준을 train으로 해야함\n",
    "#train - 훈련용: 규칙을 찾는다\n",
    "#test - 평가용 : 찾은 규칙을 통해 예측\n",
    "#평가>> 훈련에 대한 규칙을 통해서\n",
    "#규칙 >> 훈련데이터로 정의\n",
    "\n",
    "#test에 대한 결측치를 채울때\n",
    "#규칙에 맞는 데이터를 집어 넣어야 하기 때문에  train 데이터를 통해서 결측치를 채운다\n",
    "# test 데이터를 통해서 결측치를 채운다\n",
    "\n",
    "#test데이터를 통해서 결측치를 채우게 되면 규칙에 어긋나는 데이터가 들어가게 되어서\n",
    "#올바른 예측을 할 수 없게 됨\n",
    "\n",
    "\n",
    "#2.출력한 값의 평균값 출력하기\n",
    "#train['Fare'].mean()\n",
    "#3.출력한 평균값으로 결측치 채우기\n",
    "test.fillna(32)"
   ]
  },
  {
   "cell_type": "code",
   "execution_count": 28,
   "metadata": {},
   "outputs": [
    {
     "data": {
      "text/html": [
       "<div>\n",
       "<style scoped>\n",
       "    .dataframe tbody tr th:only-of-type {\n",
       "        vertical-align: middle;\n",
       "    }\n",
       "\n",
       "    .dataframe tbody tr th {\n",
       "        vertical-align: top;\n",
       "    }\n",
       "\n",
       "    .dataframe thead th {\n",
       "        text-align: right;\n",
       "    }\n",
       "</style>\n",
       "<table border=\"1\" class=\"dataframe\">\n",
       "  <thead>\n",
       "    <tr style=\"text-align: right;\">\n",
       "      <th></th>\n",
       "      <th>Survived</th>\n",
       "      <th>Pclass</th>\n",
       "      <th>Age</th>\n",
       "      <th>SibSp</th>\n",
       "      <th>Parch</th>\n",
       "      <th>Fare</th>\n",
       "    </tr>\n",
       "  </thead>\n",
       "  <tbody>\n",
       "    <tr>\n",
       "      <th>Survived</th>\n",
       "      <td>1.000000</td>\n",
       "      <td>-0.338481</td>\n",
       "      <td>-0.066538</td>\n",
       "      <td>-0.035322</td>\n",
       "      <td>0.081629</td>\n",
       "      <td>0.257307</td>\n",
       "    </tr>\n",
       "    <tr>\n",
       "      <th>Pclass</th>\n",
       "      <td>-0.338481</td>\n",
       "      <td>1.000000</td>\n",
       "      <td>-0.410104</td>\n",
       "      <td>0.083081</td>\n",
       "      <td>0.018443</td>\n",
       "      <td>-0.549500</td>\n",
       "    </tr>\n",
       "    <tr>\n",
       "      <th>Age</th>\n",
       "      <td>-0.066538</td>\n",
       "      <td>-0.410104</td>\n",
       "      <td>1.000000</td>\n",
       "      <td>-0.251439</td>\n",
       "      <td>-0.178855</td>\n",
       "      <td>0.120173</td>\n",
       "    </tr>\n",
       "    <tr>\n",
       "      <th>SibSp</th>\n",
       "      <td>-0.035322</td>\n",
       "      <td>0.083081</td>\n",
       "      <td>-0.251439</td>\n",
       "      <td>1.000000</td>\n",
       "      <td>0.414838</td>\n",
       "      <td>0.159651</td>\n",
       "    </tr>\n",
       "    <tr>\n",
       "      <th>Parch</th>\n",
       "      <td>0.081629</td>\n",
       "      <td>0.018443</td>\n",
       "      <td>-0.178855</td>\n",
       "      <td>0.414838</td>\n",
       "      <td>1.000000</td>\n",
       "      <td>0.216225</td>\n",
       "    </tr>\n",
       "    <tr>\n",
       "      <th>Fare</th>\n",
       "      <td>0.257307</td>\n",
       "      <td>-0.549500</td>\n",
       "      <td>0.120173</td>\n",
       "      <td>0.159651</td>\n",
       "      <td>0.216225</td>\n",
       "      <td>1.000000</td>\n",
       "    </tr>\n",
       "  </tbody>\n",
       "</table>\n",
       "</div>"
      ],
      "text/plain": [
       "          Survived    Pclass       Age     SibSp     Parch      Fare\n",
       "Survived  1.000000 -0.338481 -0.066538 -0.035322  0.081629  0.257307\n",
       "Pclass   -0.338481  1.000000 -0.410104  0.083081  0.018443 -0.549500\n",
       "Age      -0.066538 -0.410104  1.000000 -0.251439 -0.178855  0.120173\n",
       "SibSp    -0.035322  0.083081 -0.251439  1.000000  0.414838  0.159651\n",
       "Parch     0.081629  0.018443 -0.178855  0.414838  1.000000  0.216225\n",
       "Fare      0.257307 -0.549500  0.120173  0.159651  0.216225  1.000000"
      ]
     },
     "execution_count": 28,
     "metadata": {},
     "output_type": "execute_result"
    }
   ],
   "source": [
    "#피벗테이블을 활용해서 fare 결측치 채우기\n",
    "train.corr()"
   ]
  },
  {
   "cell_type": "code",
   "execution_count": 29,
   "metadata": {},
   "outputs": [],
   "source": [
    "# test - fare결측치 채우기"
   ]
  },
  {
   "cell_type": "code",
   "execution_count": 30,
   "metadata": {},
   "outputs": [],
   "source": [
    "#객실등급(Pclass), 성별(Sex)을 기준으로 사용"
   ]
  },
  {
   "cell_type": "code",
   "execution_count": null,
   "metadata": {},
   "outputs": [],
   "source": []
  },
  {
   "cell_type": "code",
   "execution_count": 31,
   "metadata": {},
   "outputs": [
    {
     "data": {
      "text/html": [
       "<div>\n",
       "<style scoped>\n",
       "    .dataframe tbody tr th:only-of-type {\n",
       "        vertical-align: middle;\n",
       "    }\n",
       "\n",
       "    .dataframe tbody tr th {\n",
       "        vertical-align: top;\n",
       "    }\n",
       "\n",
       "    .dataframe thead th {\n",
       "        text-align: right;\n",
       "    }\n",
       "</style>\n",
       "<table border=\"1\" class=\"dataframe\">\n",
       "  <thead>\n",
       "    <tr style=\"text-align: right;\">\n",
       "      <th></th>\n",
       "      <th></th>\n",
       "      <th>Fare</th>\n",
       "    </tr>\n",
       "    <tr>\n",
       "      <th>Pclass</th>\n",
       "      <th>Sex</th>\n",
       "      <th></th>\n",
       "    </tr>\n",
       "  </thead>\n",
       "  <tbody>\n",
       "    <tr>\n",
       "      <th rowspan=\"2\" valign=\"top\">1</th>\n",
       "      <th>female</th>\n",
       "      <td>106.125798</td>\n",
       "    </tr>\n",
       "    <tr>\n",
       "      <th>male</th>\n",
       "      <td>67.226127</td>\n",
       "    </tr>\n",
       "    <tr>\n",
       "      <th rowspan=\"2\" valign=\"top\">2</th>\n",
       "      <th>female</th>\n",
       "      <td>21.970121</td>\n",
       "    </tr>\n",
       "    <tr>\n",
       "      <th>male</th>\n",
       "      <td>19.741782</td>\n",
       "    </tr>\n",
       "    <tr>\n",
       "      <th rowspan=\"2\" valign=\"top\">3</th>\n",
       "      <th>female</th>\n",
       "      <td>16.118810</td>\n",
       "    </tr>\n",
       "    <tr>\n",
       "      <th>male</th>\n",
       "      <td>12.661633</td>\n",
       "    </tr>\n",
       "  </tbody>\n",
       "</table>\n",
       "</div>"
      ],
      "text/plain": [
       "                     Fare\n",
       "Pclass Sex               \n",
       "1      female  106.125798\n",
       "       male     67.226127\n",
       "2      female   21.970121\n",
       "       male     19.741782\n",
       "3      female   16.118810\n",
       "       male     12.661633"
      ]
     },
     "execution_count": 31,
     "metadata": {},
     "output_type": "execute_result"
    }
   ],
   "source": [
    "pt2 = train.pivot_table(values = 'Fare',#궁금한 값\n",
    "                 index = ['Pclass', 'Sex'],#기준값\n",
    "                        #기준값에는 결측치가 존재하면 안된다\n",
    "                 aggfunc = 'mean')#출력할 값\n",
    "pt2"
   ]
  },
  {
   "cell_type": "code",
   "execution_count": 32,
   "metadata": {},
   "outputs": [],
   "source": [
    "def fill_Fare(data):\n",
    "    #나이가 결측치인지 아닌지\n",
    "    # 나이가 결측치라면 pt1값을 가져오고\n",
    "    if np.isnan(data['Fare']) : \n",
    "        return pt2.loc[data['Pclass'],data['Sex']][0]\n",
    "    #나이가 결측치가 아니라면 그 값을 그대로 사용\n",
    "    else : \n",
    "        return data['Fare']"
   ]
  },
  {
   "cell_type": "code",
   "execution_count": 33,
   "metadata": {},
   "outputs": [
    {
     "name": "stdout",
     "output_type": "stream",
     "text": [
      "<class 'pandas.core.frame.DataFrame'>\n",
      "Int64Index: 418 entries, 892 to 1309\n",
      "Data columns (total 10 columns):\n",
      " #   Column    Non-Null Count  Dtype  \n",
      "---  ------    --------------  -----  \n",
      " 0   Pclass    418 non-null    int64  \n",
      " 1   Name      418 non-null    object \n",
      " 2   Sex       418 non-null    object \n",
      " 3   Age       418 non-null    int32  \n",
      " 4   SibSp     418 non-null    int64  \n",
      " 5   Parch     418 non-null    int64  \n",
      " 6   Ticket    418 non-null    object \n",
      " 7   Fare      417 non-null    float64\n",
      " 8   Cabin     91 non-null     object \n",
      " 9   Embarked  418 non-null    object \n",
      "dtypes: float64(1), int32(1), int64(3), object(5)\n",
      "memory usage: 34.3+ KB\n"
     ]
    }
   ],
   "source": [
    "test.info()"
   ]
  },
  {
   "cell_type": "code",
   "execution_count": 34,
   "metadata": {},
   "outputs": [],
   "source": [
    "train['Fare'] = train.apply(fill_Fare, axis = 1)"
   ]
  },
  {
   "cell_type": "code",
   "execution_count": 35,
   "metadata": {},
   "outputs": [
    {
     "name": "stdout",
     "output_type": "stream",
     "text": [
      "<class 'pandas.core.frame.DataFrame'>\n",
      "Int64Index: 418 entries, 892 to 1309\n",
      "Data columns (total 10 columns):\n",
      " #   Column    Non-Null Count  Dtype  \n",
      "---  ------    --------------  -----  \n",
      " 0   Pclass    418 non-null    int64  \n",
      " 1   Name      418 non-null    object \n",
      " 2   Sex       418 non-null    object \n",
      " 3   Age       418 non-null    int32  \n",
      " 4   SibSp     418 non-null    int64  \n",
      " 5   Parch     418 non-null    int64  \n",
      " 6   Ticket    418 non-null    object \n",
      " 7   Fare      417 non-null    float64\n",
      " 8   Cabin     91 non-null     object \n",
      " 9   Embarked  418 non-null    object \n",
      "dtypes: float64(1), int32(1), int64(3), object(5)\n",
      "memory usage: 34.3+ KB\n"
     ]
    }
   ],
   "source": [
    "test.info()\n"
   ]
  },
  {
   "cell_type": "code",
   "execution_count": 36,
   "metadata": {},
   "outputs": [
    {
     "data": {
      "text/html": [
       "<div>\n",
       "<style scoped>\n",
       "    .dataframe tbody tr th:only-of-type {\n",
       "        vertical-align: middle;\n",
       "    }\n",
       "\n",
       "    .dataframe tbody tr th {\n",
       "        vertical-align: top;\n",
       "    }\n",
       "\n",
       "    .dataframe thead th {\n",
       "        text-align: right;\n",
       "    }\n",
       "</style>\n",
       "<table border=\"1\" class=\"dataframe\">\n",
       "  <thead>\n",
       "    <tr style=\"text-align: right;\">\n",
       "      <th></th>\n",
       "      <th></th>\n",
       "      <th>Fare</th>\n",
       "    </tr>\n",
       "    <tr>\n",
       "      <th>Pclass</th>\n",
       "      <th>Sex</th>\n",
       "      <th></th>\n",
       "    </tr>\n",
       "  </thead>\n",
       "  <tbody>\n",
       "    <tr>\n",
       "      <th rowspan=\"2\" valign=\"top\">1</th>\n",
       "      <th>female</th>\n",
       "      <td>106.125798</td>\n",
       "    </tr>\n",
       "    <tr>\n",
       "      <th>male</th>\n",
       "      <td>67.226127</td>\n",
       "    </tr>\n",
       "    <tr>\n",
       "      <th rowspan=\"2\" valign=\"top\">2</th>\n",
       "      <th>female</th>\n",
       "      <td>21.970121</td>\n",
       "    </tr>\n",
       "    <tr>\n",
       "      <th>male</th>\n",
       "      <td>19.741782</td>\n",
       "    </tr>\n",
       "    <tr>\n",
       "      <th rowspan=\"2\" valign=\"top\">3</th>\n",
       "      <th>female</th>\n",
       "      <td>16.118810</td>\n",
       "    </tr>\n",
       "    <tr>\n",
       "      <th>male</th>\n",
       "      <td>12.661633</td>\n",
       "    </tr>\n",
       "  </tbody>\n",
       "</table>\n",
       "</div>"
      ],
      "text/plain": [
       "                     Fare\n",
       "Pclass Sex               \n",
       "1      female  106.125798\n",
       "       male     67.226127\n",
       "2      female   21.970121\n",
       "       male     19.741782\n",
       "3      female   16.118810\n",
       "       male     12.661633"
      ]
     },
     "execution_count": 36,
     "metadata": {},
     "output_type": "execute_result"
    }
   ],
   "source": [
    "#fare용 피벗테이블 생성\n",
    "pt2 = train.pivot_table(values = 'Fare',\n",
    "                  index = ['Pclass', 'Sex'],\n",
    "                 aggfunc = 'mean')\n",
    "\n",
    "pt2"
   ]
  },
  {
   "cell_type": "code",
   "execution_count": 37,
   "metadata": {},
   "outputs": [
    {
     "data": {
      "text/html": [
       "<div>\n",
       "<style scoped>\n",
       "    .dataframe tbody tr th:only-of-type {\n",
       "        vertical-align: middle;\n",
       "    }\n",
       "\n",
       "    .dataframe tbody tr th {\n",
       "        vertical-align: top;\n",
       "    }\n",
       "\n",
       "    .dataframe thead th {\n",
       "        text-align: right;\n",
       "    }\n",
       "</style>\n",
       "<table border=\"1\" class=\"dataframe\">\n",
       "  <thead>\n",
       "    <tr style=\"text-align: right;\">\n",
       "      <th></th>\n",
       "      <th>Pclass</th>\n",
       "      <th>Name</th>\n",
       "      <th>Sex</th>\n",
       "      <th>Age</th>\n",
       "      <th>SibSp</th>\n",
       "      <th>Parch</th>\n",
       "      <th>Ticket</th>\n",
       "      <th>Fare</th>\n",
       "      <th>Cabin</th>\n",
       "      <th>Embarked</th>\n",
       "    </tr>\n",
       "    <tr>\n",
       "      <th>PassengerId</th>\n",
       "      <th></th>\n",
       "      <th></th>\n",
       "      <th></th>\n",
       "      <th></th>\n",
       "      <th></th>\n",
       "      <th></th>\n",
       "      <th></th>\n",
       "      <th></th>\n",
       "      <th></th>\n",
       "      <th></th>\n",
       "    </tr>\n",
       "  </thead>\n",
       "  <tbody>\n",
       "    <tr>\n",
       "      <th>1044</th>\n",
       "      <td>3</td>\n",
       "      <td>Storey, Mr. Thomas</td>\n",
       "      <td>male</td>\n",
       "      <td>60</td>\n",
       "      <td>0</td>\n",
       "      <td>0</td>\n",
       "      <td>3701</td>\n",
       "      <td>NaN</td>\n",
       "      <td>NaN</td>\n",
       "      <td>S</td>\n",
       "    </tr>\n",
       "  </tbody>\n",
       "</table>\n",
       "</div>"
      ],
      "text/plain": [
       "             Pclass                Name   Sex  Age  SibSp  Parch Ticket  Fare  \\\n",
       "PassengerId                                                                     \n",
       "1044              3  Storey, Mr. Thomas  male   60      0      0   3701   NaN   \n",
       "\n",
       "            Cabin Embarked  \n",
       "PassengerId                 \n",
       "1044          NaN        S  "
      ]
     },
     "execution_count": 37,
     "metadata": {},
     "output_type": "execute_result"
    }
   ],
   "source": [
    "#fare에 있는 결측치행을 출력하기 위해서 불리언인덱싱\n",
    "test[test['Fare'].isnull()]"
   ]
  },
  {
   "cell_type": "code",
   "execution_count": 38,
   "metadata": {},
   "outputs": [],
   "source": [
    "test['Fare']=test['Fare'].fillna(12.6)"
   ]
  },
  {
   "cell_type": "code",
   "execution_count": 39,
   "metadata": {},
   "outputs": [
    {
     "name": "stdout",
     "output_type": "stream",
     "text": [
      "<class 'pandas.core.frame.DataFrame'>\n",
      "Int64Index: 418 entries, 892 to 1309\n",
      "Data columns (total 10 columns):\n",
      " #   Column    Non-Null Count  Dtype  \n",
      "---  ------    --------------  -----  \n",
      " 0   Pclass    418 non-null    int64  \n",
      " 1   Name      418 non-null    object \n",
      " 2   Sex       418 non-null    object \n",
      " 3   Age       418 non-null    int32  \n",
      " 4   SibSp     418 non-null    int64  \n",
      " 5   Parch     418 non-null    int64  \n",
      " 6   Ticket    418 non-null    object \n",
      " 7   Fare      418 non-null    float64\n",
      " 8   Cabin     91 non-null     object \n",
      " 9   Embarked  418 non-null    object \n",
      "dtypes: float64(1), int32(1), int64(3), object(5)\n",
      "memory usage: 34.3+ KB\n"
     ]
    }
   ],
   "source": [
    "test.info()"
   ]
  },
  {
   "cell_type": "code",
   "execution_count": 40,
   "metadata": {},
   "outputs": [
    {
     "data": {
      "text/plain": [
       "array([nan, 'C85', 'C123', 'E46', 'G6', 'C103', 'D56', 'A6',\n",
       "       'C23 C25 C27', 'B78', 'D33', 'B30', 'C52', 'B28', 'C83', 'F33',\n",
       "       'F G73', 'E31', 'A5', 'D10 D12', 'D26', 'C110', 'B58 B60', 'E101',\n",
       "       'F E69', 'D47', 'B86', 'F2', 'C2', 'E33', 'B19', 'A7', 'C49', 'F4',\n",
       "       'A32', 'B4', 'B80', 'A31', 'D36', 'D15', 'C93', 'C78', 'D35',\n",
       "       'C87', 'B77', 'E67', 'B94', 'C125', 'C99', 'C118', 'D7', 'A19',\n",
       "       'B49', 'D', 'C22 C26', 'C106', 'C65', 'E36', 'C54',\n",
       "       'B57 B59 B63 B66', 'C7', 'E34', 'C32', 'B18', 'C124', 'C91', 'E40',\n",
       "       'T', 'C128', 'D37', 'B35', 'E50', 'C82', 'B96 B98', 'E10', 'E44',\n",
       "       'A34', 'C104', 'C111', 'C92', 'E38', 'D21', 'E12', 'E63', 'A14',\n",
       "       'B37', 'C30', 'D20', 'B79', 'E25', 'D46', 'B73', 'C95', 'B38',\n",
       "       'B39', 'B22', 'C86', 'C70', 'A16', 'C101', 'C68', 'A10', 'E68',\n",
       "       'B41', 'A20', 'D19', 'D50', 'D9', 'A23', 'B50', 'A26', 'D48',\n",
       "       'E58', 'C126', 'B71', 'B51 B53 B55', 'D49', 'B5', 'B20', 'F G63',\n",
       "       'C62 C64', 'E24', 'C90', 'C45', 'E8', 'B101', 'D45', 'C46', 'D30',\n",
       "       'E121', 'D11', 'E77', 'F38', 'B3', 'D6', 'B82 B84', 'D17', 'A36',\n",
       "       'B102', 'B69', 'E49', 'C47', 'D28', 'E17', 'A24', 'C50', 'B42',\n",
       "       'C148'], dtype=object)"
      ]
     },
     "execution_count": 40,
     "metadata": {},
     "output_type": "execute_result"
    }
   ],
   "source": [
    "#train, test - Cabin  결측치 채우기\n",
    "train['Cabin'].unique()\n"
   ]
  },
  {
   "cell_type": "code",
   "execution_count": 41,
   "metadata": {},
   "outputs": [],
   "source": [
    "#cabin\n",
    "#층별로 구분하기"
   ]
  },
  {
   "cell_type": "code",
   "execution_count": 42,
   "metadata": {},
   "outputs": [],
   "source": [
    "\n",
    "#train['Cabin'] 컬럼에 각 값을 인덱싱\n",
    "#인덱싱을 하기 위해서 값들이 문자열이 되어야함 > str\n",
    "# 문자열의 0번 인덱스를 가져오겠다 >[0]\n",
    "train['Cabin'] = train['Cabin'].str[0]\n",
    "test['Cabin'] = test['Cabin'].str[0]\n",
    "#모든 값을 층별로 구분"
   ]
  },
  {
   "cell_type": "code",
   "execution_count": 43,
   "metadata": {},
   "outputs": [
    {
     "data": {
      "text/plain": [
       "PassengerId\n",
       "1      NaN\n",
       "2        C\n",
       "3      NaN\n",
       "4        C\n",
       "5      NaN\n",
       "      ... \n",
       "887    NaN\n",
       "888      B\n",
       "889    NaN\n",
       "890      C\n",
       "891    NaN\n",
       "Name: Cabin, Length: 891, dtype: object"
      ]
     },
     "execution_count": 43,
     "metadata": {},
     "output_type": "execute_result"
    }
   ],
   "source": [
    "train['Cabin'] = train['Cabin'].str[0]\n",
    "train['Cabin']"
   ]
  },
  {
   "cell_type": "code",
   "execution_count": 44,
   "metadata": {},
   "outputs": [],
   "source": [
    "\n",
    "##결측치 자체를 하나의 데이터로 활용\n",
    "#죽은사람에겐 정보를 수집할 수 없음\n",
    "#cabin 컬럼의 결측치가 위의 이유일 것이다\n",
    "\n",
    "#라는 가설을 세우고\n",
    "#모든 결측치를 하나의 문자로 채움\n",
    "train['Cabin']= train['Cabin'].fillna('M')\n",
    "test['Cabin'] = test['Cabin'].fillna('M')\n"
   ]
  },
  {
   "cell_type": "code",
   "execution_count": 45,
   "metadata": {},
   "outputs": [],
   "source": [
    "train['Cabin']= train['Cabin'].fillna('M')"
   ]
  },
  {
   "cell_type": "code",
   "execution_count": 46,
   "metadata": {},
   "outputs": [
    {
     "name": "stdout",
     "output_type": "stream",
     "text": [
      "<class 'pandas.core.frame.DataFrame'>\n",
      "Int64Index: 891 entries, 1 to 891\n",
      "Data columns (total 11 columns):\n",
      " #   Column    Non-Null Count  Dtype  \n",
      "---  ------    --------------  -----  \n",
      " 0   Survived  891 non-null    int64  \n",
      " 1   Pclass    891 non-null    int64  \n",
      " 2   Name      891 non-null    object \n",
      " 3   Sex       891 non-null    object \n",
      " 4   Age       891 non-null    int32  \n",
      " 5   SibSp     891 non-null    int64  \n",
      " 6   Parch     891 non-null    int64  \n",
      " 7   Ticket    891 non-null    object \n",
      " 8   Fare      891 non-null    float64\n",
      " 9   Cabin     891 non-null    object \n",
      " 10  Embarked  891 non-null    object \n",
      "dtypes: float64(1), int32(1), int64(4), object(5)\n",
      "memory usage: 80.1+ KB\n"
     ]
    }
   ],
   "source": [
    "train.info()"
   ]
  },
  {
   "cell_type": "code",
   "execution_count": 47,
   "metadata": {},
   "outputs": [
    {
     "name": "stdout",
     "output_type": "stream",
     "text": [
      "<class 'pandas.core.frame.DataFrame'>\n",
      "Int64Index: 418 entries, 892 to 1309\n",
      "Data columns (total 10 columns):\n",
      " #   Column    Non-Null Count  Dtype  \n",
      "---  ------    --------------  -----  \n",
      " 0   Pclass    418 non-null    int64  \n",
      " 1   Name      418 non-null    object \n",
      " 2   Sex       418 non-null    object \n",
      " 3   Age       418 non-null    int32  \n",
      " 4   SibSp     418 non-null    int64  \n",
      " 5   Parch     418 non-null    int64  \n",
      " 6   Ticket    418 non-null    object \n",
      " 7   Fare      418 non-null    float64\n",
      " 8   Cabin     418 non-null    object \n",
      " 9   Embarked  418 non-null    object \n",
      "dtypes: float64(1), int32(1), int64(3), object(5)\n",
      "memory usage: 34.3+ KB\n"
     ]
    }
   ],
   "source": [
    "test.info()"
   ]
  },
  {
   "cell_type": "code",
   "execution_count": 48,
   "metadata": {},
   "outputs": [
    {
     "data": {
      "text/plain": [
       "<AxesSubplot:xlabel='Cabin', ylabel='count'>"
      ]
     },
     "execution_count": 48,
     "metadata": {},
     "output_type": "execute_result"
    },
    {
     "data": {
      "image/png": "[encoded data removed]",
      "text/plain": [
       "<Figure size 432x288 with 1 Axes>"
      ]
     },
     "metadata": {
      "needs_background": "light"
     },
     "output_type": "display_data"
    }
   ],
   "source": [
    "##탐색적 데이터 분석\n",
    "#시각화를 통해서 컬럼을 분석\n",
    "#cabin\n",
    "sns.countplot(data = train, #사용할 데이터\n",
    "              x = 'Cabin',#x축으로 사용할 컬럼\n",
    "              hue = 'Survived' #count 에 대한 기준컬럼\n",
    "             )"
   ]
  },
  {
   "cell_type": "code",
   "execution_count": 49,
   "metadata": {},
   "outputs": [],
   "source": [
    "#M에서 상대적으로 많은 사람이 죽었다\n",
    "# 위에서 세운 가설이 어느정도 성립\n",
    "# 생존여부 판단에 활용해도 괜찮겠다\n"
   ]
  },
  {
   "cell_type": "code",
   "execution_count": 50,
   "metadata": {},
   "outputs": [
    {
     "data": {
      "text/plain": [
       "array(['M', 'C', 'E', 'G', 'D', 'A', 'B', 'F', 'T'], dtype=object)"
      ]
     },
     "execution_count": 50,
     "metadata": {},
     "output_type": "execute_result"
    }
   ],
   "source": [
    "train['Cabin'].unique()"
   ]
  },
  {
   "cell_type": "code",
   "execution_count": 51,
   "metadata": {},
   "outputs": [
    {
     "data": {
      "text/plain": [
       "array(['M', 'B', 'E', 'A', 'C', 'D', 'F', 'G'], dtype=object)"
      ]
     },
     "execution_count": 51,
     "metadata": {},
     "output_type": "execute_result"
    }
   ],
   "source": [
    "test['Cabin'].unique()"
   ]
  },
  {
   "cell_type": "code",
   "execution_count": 52,
   "metadata": {},
   "outputs": [
    {
     "data": {
      "text/html": [
       "<div>\n",
       "<style scoped>\n",
       "    .dataframe tbody tr th:only-of-type {\n",
       "        vertical-align: middle;\n",
       "    }\n",
       "\n",
       "    .dataframe tbody tr th {\n",
       "        vertical-align: top;\n",
       "    }\n",
       "\n",
       "    .dataframe thead th {\n",
       "        text-align: right;\n",
       "    }\n",
       "</style>\n",
       "<table border=\"1\" class=\"dataframe\">\n",
       "  <thead>\n",
       "    <tr style=\"text-align: right;\">\n",
       "      <th></th>\n",
       "      <th>Survived</th>\n",
       "      <th>Pclass</th>\n",
       "      <th>Name</th>\n",
       "      <th>Sex</th>\n",
       "      <th>Age</th>\n",
       "      <th>SibSp</th>\n",
       "      <th>Parch</th>\n",
       "      <th>Ticket</th>\n",
       "      <th>Fare</th>\n",
       "      <th>Cabin</th>\n",
       "      <th>Embarked</th>\n",
       "    </tr>\n",
       "    <tr>\n",
       "      <th>PassengerId</th>\n",
       "      <th></th>\n",
       "      <th></th>\n",
       "      <th></th>\n",
       "      <th></th>\n",
       "      <th></th>\n",
       "      <th></th>\n",
       "      <th></th>\n",
       "      <th></th>\n",
       "      <th></th>\n",
       "      <th></th>\n",
       "      <th></th>\n",
       "    </tr>\n",
       "  </thead>\n",
       "  <tbody>\n",
       "    <tr>\n",
       "      <th>1</th>\n",
       "      <td>0</td>\n",
       "      <td>3</td>\n",
       "      <td>Braund, Mr. Owen Harris</td>\n",
       "      <td>male</td>\n",
       "      <td>22</td>\n",
       "      <td>1</td>\n",
       "      <td>0</td>\n",
       "      <td>A/5 21171</td>\n",
       "      <td>7.2500</td>\n",
       "      <td>M</td>\n",
       "      <td>S</td>\n",
       "    </tr>\n",
       "    <tr>\n",
       "      <th>2</th>\n",
       "      <td>1</td>\n",
       "      <td>1</td>\n",
       "      <td>Cumings, Mrs. John Bradley (Florence Briggs Th...</td>\n",
       "      <td>female</td>\n",
       "      <td>38</td>\n",
       "      <td>1</td>\n",
       "      <td>0</td>\n",
       "      <td>PC 17599</td>\n",
       "      <td>71.2833</td>\n",
       "      <td>C</td>\n",
       "      <td>C</td>\n",
       "    </tr>\n",
       "    <tr>\n",
       "      <th>3</th>\n",
       "      <td>1</td>\n",
       "      <td>3</td>\n",
       "      <td>Heikkinen, Miss. Laina</td>\n",
       "      <td>female</td>\n",
       "      <td>26</td>\n",
       "      <td>0</td>\n",
       "      <td>0</td>\n",
       "      <td>STON/O2. 3101282</td>\n",
       "      <td>7.9250</td>\n",
       "      <td>M</td>\n",
       "      <td>S</td>\n",
       "    </tr>\n",
       "    <tr>\n",
       "      <th>4</th>\n",
       "      <td>1</td>\n",
       "      <td>1</td>\n",
       "      <td>Futrelle, Mrs. Jacques Heath (Lily May Peel)</td>\n",
       "      <td>female</td>\n",
       "      <td>35</td>\n",
       "      <td>1</td>\n",
       "      <td>0</td>\n",
       "      <td>113803</td>\n",
       "      <td>53.1000</td>\n",
       "      <td>C</td>\n",
       "      <td>S</td>\n",
       "    </tr>\n",
       "    <tr>\n",
       "      <th>5</th>\n",
       "      <td>0</td>\n",
       "      <td>3</td>\n",
       "      <td>Allen, Mr. William Henry</td>\n",
       "      <td>male</td>\n",
       "      <td>35</td>\n",
       "      <td>0</td>\n",
       "      <td>0</td>\n",
       "      <td>373450</td>\n",
       "      <td>8.0500</td>\n",
       "      <td>M</td>\n",
       "      <td>S</td>\n",
       "    </tr>\n",
       "    <tr>\n",
       "      <th>...</th>\n",
       "      <td>...</td>\n",
       "      <td>...</td>\n",
       "      <td>...</td>\n",
       "      <td>...</td>\n",
       "      <td>...</td>\n",
       "      <td>...</td>\n",
       "      <td>...</td>\n",
       "      <td>...</td>\n",
       "      <td>...</td>\n",
       "      <td>...</td>\n",
       "      <td>...</td>\n",
       "    </tr>\n",
       "    <tr>\n",
       "      <th>887</th>\n",
       "      <td>0</td>\n",
       "      <td>2</td>\n",
       "      <td>Montvila, Rev. Juozas</td>\n",
       "      <td>male</td>\n",
       "      <td>27</td>\n",
       "      <td>0</td>\n",
       "      <td>0</td>\n",
       "      <td>211536</td>\n",
       "      <td>13.0000</td>\n",
       "      <td>M</td>\n",
       "      <td>S</td>\n",
       "    </tr>\n",
       "    <tr>\n",
       "      <th>888</th>\n",
       "      <td>1</td>\n",
       "      <td>1</td>\n",
       "      <td>Graham, Miss. Margaret Edith</td>\n",
       "      <td>female</td>\n",
       "      <td>19</td>\n",
       "      <td>0</td>\n",
       "      <td>0</td>\n",
       "      <td>112053</td>\n",
       "      <td>30.0000</td>\n",
       "      <td>B</td>\n",
       "      <td>S</td>\n",
       "    </tr>\n",
       "    <tr>\n",
       "      <th>889</th>\n",
       "      <td>0</td>\n",
       "      <td>3</td>\n",
       "      <td>Johnston, Miss. Catherine Helen \"Carrie\"</td>\n",
       "      <td>female</td>\n",
       "      <td>21</td>\n",
       "      <td>1</td>\n",
       "      <td>2</td>\n",
       "      <td>W./C. 6607</td>\n",
       "      <td>23.4500</td>\n",
       "      <td>M</td>\n",
       "      <td>S</td>\n",
       "    </tr>\n",
       "    <tr>\n",
       "      <th>890</th>\n",
       "      <td>1</td>\n",
       "      <td>1</td>\n",
       "      <td>Behr, Mr. Karl Howell</td>\n",
       "      <td>male</td>\n",
       "      <td>26</td>\n",
       "      <td>0</td>\n",
       "      <td>0</td>\n",
       "      <td>111369</td>\n",
       "      <td>30.0000</td>\n",
       "      <td>C</td>\n",
       "      <td>C</td>\n",
       "    </tr>\n",
       "    <tr>\n",
       "      <th>891</th>\n",
       "      <td>0</td>\n",
       "      <td>3</td>\n",
       "      <td>Dooley, Mr. Patrick</td>\n",
       "      <td>male</td>\n",
       "      <td>32</td>\n",
       "      <td>0</td>\n",
       "      <td>0</td>\n",
       "      <td>370376</td>\n",
       "      <td>7.7500</td>\n",
       "      <td>M</td>\n",
       "      <td>Q</td>\n",
       "    </tr>\n",
       "  </tbody>\n",
       "</table>\n",
       "<p>891 rows × 11 columns</p>\n",
       "</div>"
      ],
      "text/plain": [
       "             Survived  Pclass  \\\n",
       "PassengerId                     \n",
       "1                   0       3   \n",
       "2                   1       1   \n",
       "3                   1       3   \n",
       "4                   1       1   \n",
       "5                   0       3   \n",
       "...               ...     ...   \n",
       "887                 0       2   \n",
       "888                 1       1   \n",
       "889                 0       3   \n",
       "890                 1       1   \n",
       "891                 0       3   \n",
       "\n",
       "                                                          Name     Sex  Age  \\\n",
       "PassengerId                                                                   \n",
       "1                                      Braund, Mr. Owen Harris    male   22   \n",
       "2            Cumings, Mrs. John Bradley (Florence Briggs Th...  female   38   \n",
       "3                                       Heikkinen, Miss. Laina  female   26   \n",
       "4                 Futrelle, Mrs. Jacques Heath (Lily May Peel)  female   35   \n",
       "5                                     Allen, Mr. William Henry    male   35   \n",
       "...                                                        ...     ...  ...   \n",
       "887                                      Montvila, Rev. Juozas    male   27   \n",
       "888                               Graham, Miss. Margaret Edith  female   19   \n",
       "889                   Johnston, Miss. Catherine Helen \"Carrie\"  female   21   \n",
       "890                                      Behr, Mr. Karl Howell    male   26   \n",
       "891                                        Dooley, Mr. Patrick    male   32   \n",
       "\n",
       "             SibSp  Parch            Ticket     Fare Cabin Embarked  \n",
       "PassengerId                                                          \n",
       "1                1      0         A/5 21171   7.2500     M        S  \n",
       "2                1      0          PC 17599  71.2833     C        C  \n",
       "3                0      0  STON/O2. 3101282   7.9250     M        S  \n",
       "4                1      0            113803  53.1000     C        S  \n",
       "5                0      0            373450   8.0500     M        S  \n",
       "...            ...    ...               ...      ...   ...      ...  \n",
       "887              0      0            211536  13.0000     M        S  \n",
       "888              0      0            112053  30.0000     B        S  \n",
       "889              1      2        W./C. 6607  23.4500     M        S  \n",
       "890              0      0            111369  30.0000     C        C  \n",
       "891              0      0            370376   7.7500     M        Q  \n",
       "\n",
       "[891 rows x 11 columns]"
      ]
     },
     "execution_count": 52,
     "metadata": {},
     "output_type": "execute_result"
    }
   ],
   "source": [
    "train"
   ]
  },
  {
   "cell_type": "code",
   "execution_count": 53,
   "metadata": {},
   "outputs": [
    {
     "data": {
      "text/html": [
       "<div>\n",
       "<style scoped>\n",
       "    .dataframe tbody tr th:only-of-type {\n",
       "        vertical-align: middle;\n",
       "    }\n",
       "\n",
       "    .dataframe tbody tr th {\n",
       "        vertical-align: top;\n",
       "    }\n",
       "\n",
       "    .dataframe thead th {\n",
       "        text-align: right;\n",
       "    }\n",
       "</style>\n",
       "<table border=\"1\" class=\"dataframe\">\n",
       "  <thead>\n",
       "    <tr style=\"text-align: right;\">\n",
       "      <th></th>\n",
       "      <th>Pclass</th>\n",
       "      <th>Name</th>\n",
       "      <th>Sex</th>\n",
       "      <th>Age</th>\n",
       "      <th>SibSp</th>\n",
       "      <th>Parch</th>\n",
       "      <th>Ticket</th>\n",
       "      <th>Fare</th>\n",
       "      <th>Cabin</th>\n",
       "      <th>Embarked</th>\n",
       "    </tr>\n",
       "    <tr>\n",
       "      <th>PassengerId</th>\n",
       "      <th></th>\n",
       "      <th></th>\n",
       "      <th></th>\n",
       "      <th></th>\n",
       "      <th></th>\n",
       "      <th></th>\n",
       "      <th></th>\n",
       "      <th></th>\n",
       "      <th></th>\n",
       "      <th></th>\n",
       "    </tr>\n",
       "  </thead>\n",
       "  <tbody>\n",
       "    <tr>\n",
       "      <th>892</th>\n",
       "      <td>3</td>\n",
       "      <td>Kelly, Mr. James</td>\n",
       "      <td>male</td>\n",
       "      <td>34</td>\n",
       "      <td>0</td>\n",
       "      <td>0</td>\n",
       "      <td>330911</td>\n",
       "      <td>7.8292</td>\n",
       "      <td>M</td>\n",
       "      <td>Q</td>\n",
       "    </tr>\n",
       "    <tr>\n",
       "      <th>893</th>\n",
       "      <td>3</td>\n",
       "      <td>Wilkes, Mrs. James (Ellen Needs)</td>\n",
       "      <td>female</td>\n",
       "      <td>47</td>\n",
       "      <td>1</td>\n",
       "      <td>0</td>\n",
       "      <td>363272</td>\n",
       "      <td>7.0000</td>\n",
       "      <td>M</td>\n",
       "      <td>S</td>\n",
       "    </tr>\n",
       "    <tr>\n",
       "      <th>894</th>\n",
       "      <td>2</td>\n",
       "      <td>Myles, Mr. Thomas Francis</td>\n",
       "      <td>male</td>\n",
       "      <td>62</td>\n",
       "      <td>0</td>\n",
       "      <td>0</td>\n",
       "      <td>240276</td>\n",
       "      <td>9.6875</td>\n",
       "      <td>M</td>\n",
       "      <td>Q</td>\n",
       "    </tr>\n",
       "    <tr>\n",
       "      <th>895</th>\n",
       "      <td>3</td>\n",
       "      <td>Wirz, Mr. Albert</td>\n",
       "      <td>male</td>\n",
       "      <td>27</td>\n",
       "      <td>0</td>\n",
       "      <td>0</td>\n",
       "      <td>315154</td>\n",
       "      <td>8.6625</td>\n",
       "      <td>M</td>\n",
       "      <td>S</td>\n",
       "    </tr>\n",
       "    <tr>\n",
       "      <th>896</th>\n",
       "      <td>3</td>\n",
       "      <td>Hirvonen, Mrs. Alexander (Helga E Lindqvist)</td>\n",
       "      <td>female</td>\n",
       "      <td>22</td>\n",
       "      <td>1</td>\n",
       "      <td>1</td>\n",
       "      <td>3101298</td>\n",
       "      <td>12.2875</td>\n",
       "      <td>M</td>\n",
       "      <td>S</td>\n",
       "    </tr>\n",
       "    <tr>\n",
       "      <th>...</th>\n",
       "      <td>...</td>\n",
       "      <td>...</td>\n",
       "      <td>...</td>\n",
       "      <td>...</td>\n",
       "      <td>...</td>\n",
       "      <td>...</td>\n",
       "      <td>...</td>\n",
       "      <td>...</td>\n",
       "      <td>...</td>\n",
       "      <td>...</td>\n",
       "    </tr>\n",
       "    <tr>\n",
       "      <th>1305</th>\n",
       "      <td>3</td>\n",
       "      <td>Spector, Mr. Woolf</td>\n",
       "      <td>male</td>\n",
       "      <td>26</td>\n",
       "      <td>0</td>\n",
       "      <td>0</td>\n",
       "      <td>A.5. 3236</td>\n",
       "      <td>8.0500</td>\n",
       "      <td>M</td>\n",
       "      <td>S</td>\n",
       "    </tr>\n",
       "    <tr>\n",
       "      <th>1306</th>\n",
       "      <td>1</td>\n",
       "      <td>Oliva y Ocana, Dona. Fermina</td>\n",
       "      <td>female</td>\n",
       "      <td>39</td>\n",
       "      <td>0</td>\n",
       "      <td>0</td>\n",
       "      <td>PC 17758</td>\n",
       "      <td>108.9000</td>\n",
       "      <td>C</td>\n",
       "      <td>C</td>\n",
       "    </tr>\n",
       "    <tr>\n",
       "      <th>1307</th>\n",
       "      <td>3</td>\n",
       "      <td>Saether, Mr. Simon Sivertsen</td>\n",
       "      <td>male</td>\n",
       "      <td>38</td>\n",
       "      <td>0</td>\n",
       "      <td>0</td>\n",
       "      <td>SOTON/O.Q. 3101262</td>\n",
       "      <td>7.2500</td>\n",
       "      <td>M</td>\n",
       "      <td>S</td>\n",
       "    </tr>\n",
       "    <tr>\n",
       "      <th>1308</th>\n",
       "      <td>3</td>\n",
       "      <td>Ware, Mr. Frederick</td>\n",
       "      <td>male</td>\n",
       "      <td>26</td>\n",
       "      <td>0</td>\n",
       "      <td>0</td>\n",
       "      <td>359309</td>\n",
       "      <td>8.0500</td>\n",
       "      <td>M</td>\n",
       "      <td>S</td>\n",
       "    </tr>\n",
       "    <tr>\n",
       "      <th>1309</th>\n",
       "      <td>3</td>\n",
       "      <td>Peter, Master. Michael J</td>\n",
       "      <td>male</td>\n",
       "      <td>26</td>\n",
       "      <td>1</td>\n",
       "      <td>1</td>\n",
       "      <td>2668</td>\n",
       "      <td>22.3583</td>\n",
       "      <td>M</td>\n",
       "      <td>C</td>\n",
       "    </tr>\n",
       "  </tbody>\n",
       "</table>\n",
       "<p>418 rows × 10 columns</p>\n",
       "</div>"
      ],
      "text/plain": [
       "             Pclass                                          Name     Sex  \\\n",
       "PassengerId                                                                 \n",
       "892               3                              Kelly, Mr. James    male   \n",
       "893               3              Wilkes, Mrs. James (Ellen Needs)  female   \n",
       "894               2                     Myles, Mr. Thomas Francis    male   \n",
       "895               3                              Wirz, Mr. Albert    male   \n",
       "896               3  Hirvonen, Mrs. Alexander (Helga E Lindqvist)  female   \n",
       "...             ...                                           ...     ...   \n",
       "1305              3                            Spector, Mr. Woolf    male   \n",
       "1306              1                  Oliva y Ocana, Dona. Fermina  female   \n",
       "1307              3                  Saether, Mr. Simon Sivertsen    male   \n",
       "1308              3                           Ware, Mr. Frederick    male   \n",
       "1309              3                      Peter, Master. Michael J    male   \n",
       "\n",
       "             Age  SibSp  Parch              Ticket      Fare Cabin Embarked  \n",
       "PassengerId                                                                  \n",
       "892           34      0      0              330911    7.8292     M        Q  \n",
       "893           47      1      0              363272    7.0000     M        S  \n",
       "894           62      0      0              240276    9.6875     M        Q  \n",
       "895           27      0      0              315154    8.6625     M        S  \n",
       "896           22      1      1             3101298   12.2875     M        S  \n",
       "...          ...    ...    ...                 ...       ...   ...      ...  \n",
       "1305          26      0      0           A.5. 3236    8.0500     M        S  \n",
       "1306          39      0      0            PC 17758  108.9000     C        C  \n",
       "1307          38      0      0  SOTON/O.Q. 3101262    7.2500     M        S  \n",
       "1308          26      0      0              359309    8.0500     M        S  \n",
       "1309          26      1      1                2668   22.3583     M        C  \n",
       "\n",
       "[418 rows x 10 columns]"
      ]
     },
     "execution_count": 53,
     "metadata": {},
     "output_type": "execute_result"
    }
   ],
   "source": [
    "test"
   ]
  },
  {
   "cell_type": "code",
   "execution_count": 54,
   "metadata": {
    "scrolled": true
   },
   "outputs": [
    {
     "data": {
      "text/plain": [
       "M    687\n",
       "C     59\n",
       "B     47\n",
       "D     33\n",
       "E     32\n",
       "A     15\n",
       "F     13\n",
       "G      4\n",
       "T      1\n",
       "Name: Cabin, dtype: int64"
      ]
     },
     "execution_count": 54,
     "metadata": {},
     "output_type": "execute_result"
    }
   ],
   "source": [
    "train['Cabin'].value_counts()"
   ]
  },
  {
   "cell_type": "code",
   "execution_count": 55,
   "metadata": {},
   "outputs": [
    {
     "data": {
      "text/plain": [
       "M    327\n",
       "C     35\n",
       "B     18\n",
       "D     13\n",
       "E      9\n",
       "F      8\n",
       "A      7\n",
       "G      1\n",
       "Name: Cabin, dtype: int64"
      ]
     },
     "execution_count": 55,
     "metadata": {},
     "output_type": "execute_result"
    }
   ],
   "source": [
    "test['Cabin'].value_counts()"
   ]
  },
  {
   "cell_type": "code",
   "execution_count": 56,
   "metadata": {},
   "outputs": [
    {
     "data": {
      "text/plain": [
       "<AxesSubplot:xlabel='Pclass', ylabel='count'>"
      ]
     },
     "execution_count": 56,
     "metadata": {},
     "output_type": "execute_result"
    },
    {
     "data": {
      "image/png": "[encoded data removed]",
      "text/plain": [
       "<Figure size 432x288 with 1 Axes>"
      ]
     },
     "metadata": {
      "needs_background": "light"
     },
     "output_type": "display_data"
    }
   ],
   "source": [
    "#Pclasee\n",
    "sns.countplot(data = train, #사용할 데이터\n",
    "              x = 'Pclass',#x축으로 사용할 컬럼\n",
    "              hue = 'Survived' #count 에 대한 기준컬럼\n",
    "             )"
   ]
  },
  {
   "cell_type": "code",
   "execution_count": 57,
   "metadata": {},
   "outputs": [],
   "source": [
    "##-객실등급(Pclass)컬럼이 생존에 영향을 끼쳤다\n",
    "\n",
    "##등급이 생존에 많은 차이를 보인다\n"
   ]
  },
  {
   "cell_type": "code",
   "execution_count": 58,
   "metadata": {},
   "outputs": [
    {
     "data": {
      "text/plain": [
       "<AxesSubplot:xlabel='Cabin', ylabel='count'>"
      ]
     },
     "execution_count": 58,
     "metadata": {},
     "output_type": "execute_result"
    },
    {
     "data": {
      "image/png": "[encoded data removed]",
      "text/plain": [
       "<Figure size 432x288 with 1 Axes>"
      ]
     },
     "metadata": {
      "needs_background": "light"
     },
     "output_type": "display_data"
    }
   ],
   "source": [
    "#####Pclass Cabin 컬럼 시각화\n",
    "sns.countplot(data = train,\n",
    "             x = 'Cabin',\n",
    "             hue = 'Pclass')"
   ]
  },
  {
   "cell_type": "code",
   "execution_count": 59,
   "metadata": {},
   "outputs": [],
   "source": [
    "#Cabin과 Pclass 간의 상관이 어느정도 있다ㅣ\n",
    "#cabin의 M 값은 유의미한 결과를 도출"
   ]
  },
  {
   "cell_type": "code",
   "execution_count": 60,
   "metadata": {},
   "outputs": [],
   "source": [
    "#Embarked\n",
    "#탑승 위치별 생존"
   ]
  },
  {
   "cell_type": "code",
   "execution_count": 61,
   "metadata": {},
   "outputs": [
    {
     "data": {
      "text/plain": [
       "<AxesSubplot:xlabel='Embarked', ylabel='count'>"
      ]
     },
     "execution_count": 61,
     "metadata": {},
     "output_type": "execute_result"
    },
    {
     "data": {
      "image/png": "[encoded data removed]",
      "text/plain": [
       "<Figure size 432x288 with 1 Axes>"
      ]
     },
     "metadata": {
      "needs_background": "light"
     },
     "output_type": "display_data"
    }
   ],
   "source": [
    "sns.countplot(data = train,\n",
    "             x = 'Embarked',\n",
    "             hue = 'Survived')"
   ]
  },
  {
   "cell_type": "code",
   "execution_count": 62,
   "metadata": {},
   "outputs": [],
   "source": [
    "##s에서 탑승한 탑승객들은 많은 비율로 죽었다\n",
    "#s(사우스 햄튼)의  경제력이 낮아서 낮은 등급의 객실을 타지 않았을까"
   ]
  },
  {
   "cell_type": "code",
   "execution_count": 63,
   "metadata": {},
   "outputs": [
    {
     "data": {
      "text/plain": [
       "<AxesSubplot:xlabel='Sex', ylabel='Fare'>"
      ]
     },
     "execution_count": 63,
     "metadata": {},
     "output_type": "execute_result"
    },
    {
     "data": {
      "image/png": "[encoded data removed]",
      "text/plain": [
       "<Figure size 1080x360 with 1 Axes>"
      ]
     },
     "metadata": {
      "needs_background": "light"
     },
     "output_type": "display_data"
    }
   ],
   "source": [
    "#AGE\n",
    "#VIOLINPLOT\n",
    "plt.figure(figsize = (15,5))\n",
    "sns.violinplot(data =train[train['Fare']>=100],\n",
    "              x='Sex',\n",
    "              y = 'Fare',\n",
    "              hue = 'Survived',\n",
    "              split = True)"
   ]
  },
  {
   "cell_type": "code",
   "execution_count": 64,
   "metadata": {},
   "outputs": [],
   "source": [
    "#20대 초반에 사람들이 가장많다\n",
    "#어린아이 중에서는 남자아이가 산 비율이 높다\n",
    "#남아선호사상같은 시대적 배경이 있지 않았을까?\n",
    "\n"
   ]
  },
  {
   "cell_type": "code",
   "execution_count": 65,
   "metadata": {},
   "outputs": [],
   "source": [
    "#fare 시각화"
   ]
  },
  {
   "cell_type": "code",
   "execution_count": 66,
   "metadata": {},
   "outputs": [],
   "source": [
    "#저렴한 객실에 승선한 사람들은 상대적으로 많이 죽었다"
   ]
  },
  {
   "cell_type": "code",
   "execution_count": 67,
   "metadata": {},
   "outputs": [],
   "source": [
    "#parch, sibsp- 부모자식, 형제자매\n",
    "# 가족\n",
    "#family 새로운 특성을 생성\n",
    "#같이 승선한 가족의 수\n",
    "#family = parch+sibsp+1(본인)\n",
    "#countplot\n",
    "train['Family'] = train['Parch'] + train['SibSp'] + 1\n",
    "test['Family'] = test['Parch'] +  test['SibSp'] + 1"
   ]
  },
  {
   "cell_type": "code",
   "execution_count": 68,
   "metadata": {},
   "outputs": [
    {
     "data": {
      "text/plain": [
       "<AxesSubplot:xlabel='Family', ylabel='count'>"
      ]
     },
     "execution_count": 68,
     "metadata": {},
     "output_type": "execute_result"
    },
    {
     "data": {
      "image/png": "[encoded data removed]",
      "text/plain": [
       "<Figure size 432x288 with 1 Axes>"
      ]
     },
     "metadata": {
      "needs_background": "light"
     },
     "output_type": "display_data"
    }
   ],
   "source": [
    "sns.countplot(data =train,\n",
    "              x='Family',\n",
    "              hue = 'Survived')\n",
    "            "
   ]
  },
  {
   "cell_type": "code",
   "execution_count": 69,
   "metadata": {},
   "outputs": [],
   "source": [
    "#Family를 범주형으로 만들자\n",
    "#1:Alone\n",
    "#2~4 : Small\n",
    "#5이상이면 : Large\n",
    "#pd.cut\n",
    "bins = [0, 1, 4, 11]#범주형의 범위 지정\n",
    "labels = ['Alone', 'Small', 'Large'] # 범주형에 달아줄 이름\n",
    "#                                   위에 주석처리가 안되서 한글을 코드로 인식해서 오류가 났어요 !\n",
    "train['Family'] = pd.cut(train['Family'], bins = bins, labels = labels)"
   ]
  },
  {
   "cell_type": "code",
   "execution_count": 70,
   "metadata": {},
   "outputs": [],
   "source": [
    "test['Family'] = pd.cut(test['Family'], bins = bins, labels = labels)"
   ]
  },
  {
   "cell_type": "code",
   "execution_count": 71,
   "metadata": {},
   "outputs": [
    {
     "data": {
      "text/plain": [
       "Alone    537\n",
       "Small    292\n",
       "Large     62\n",
       "Name: Family, dtype: int64"
      ]
     },
     "execution_count": 71,
     "metadata": {},
     "output_type": "execute_result"
    }
   ],
   "source": [
    "train['Family'].value_counts()"
   ]
  },
  {
   "cell_type": "code",
   "execution_count": 72,
   "metadata": {},
   "outputs": [],
   "source": [
    "#글자열 데이터 다루기"
   ]
  },
  {
   "cell_type": "code",
   "execution_count": 73,
   "metadata": {},
   "outputs": [
    {
     "data": {
      "text/plain": [
       "PassengerId\n",
       "1                                Braund, Mr. Owen Harris\n",
       "2      Cumings, Mrs. John Bradley (Florence Briggs Th...\n",
       "3                                 Heikkinen, Miss. Laina\n",
       "4           Futrelle, Mrs. Jacques Heath (Lily May Peel)\n",
       "5                               Allen, Mr. William Henry\n",
       "                             ...                        \n",
       "887                                Montvila, Rev. Juozas\n",
       "888                         Graham, Miss. Margaret Edith\n",
       "889             Johnston, Miss. Catherine Helen \"Carrie\"\n",
       "890                                Behr, Mr. Karl Howell\n",
       "891                                  Dooley, Mr. Patrick\n",
       "Name: Name, Length: 891, dtype: object"
      ]
     },
     "execution_count": 73,
     "metadata": {},
     "output_type": "execute_result"
    }
   ],
   "source": [
    "#name\n",
    "#중간 호칭만 추출\n",
    "train['Name']"
   ]
  },
  {
   "cell_type": "code",
   "execution_count": 74,
   "metadata": {},
   "outputs": [],
   "source": [
    "#apply\n",
    "#split\n",
    "temp = train['Name'].iloc[0]"
   ]
  },
  {
   "cell_type": "code",
   "execution_count": 75,
   "metadata": {},
   "outputs": [
    {
     "data": {
      "text/plain": [
       "['Braund', ' Mr. Owen Harris']"
      ]
     },
     "execution_count": 75,
     "metadata": {},
     "output_type": "execute_result"
    }
   ],
   "source": [
    "temp.split(',')#쉼표를 기준으로 앞과 뒤로 데이터를 나눔"
   ]
  },
  {
   "cell_type": "code",
   "execution_count": 76,
   "metadata": {},
   "outputs": [
    {
     "data": {
      "text/plain": [
       "' Mr. Owen Harris'"
      ]
     },
     "execution_count": 76,
     "metadata": {},
     "output_type": "execute_result"
    }
   ],
   "source": [
    "temp.split(',')[1]#중간호칭은ㅇ 무조건 1번 인덱스에 위치"
   ]
  },
  {
   "cell_type": "code",
   "execution_count": 77,
   "metadata": {},
   "outputs": [
    {
     "data": {
      "text/plain": [
       "[' Mr', ' Owen Harris']"
      ]
     },
     "execution_count": 77,
     "metadata": {},
     "output_type": "execute_result"
    }
   ],
   "source": [
    "temp.split(',')[1].split('.')#맞춤표를 기준으로 분리"
   ]
  },
  {
   "cell_type": "code",
   "execution_count": 78,
   "metadata": {},
   "outputs": [
    {
     "data": {
      "text/plain": [
       "'Mr. Owen Harris'"
      ]
     },
     "execution_count": 78,
     "metadata": {},
     "output_type": "execute_result"
    }
   ],
   "source": [
    "temp.split(',')[1].split(',')[0].strip()#중간 호칭인  0번 인덱싱"
   ]
  },
  {
   "cell_type": "code",
   "execution_count": 79,
   "metadata": {},
   "outputs": [],
   "source": [
    "def split_name(data) :\n",
    "    return data.split(',')[1].split('.')[0].strip()"
   ]
  },
  {
   "cell_type": "code",
   "execution_count": 80,
   "metadata": {},
   "outputs": [],
   "source": [
    "#apply(axis = 1)\n",
    "#axis = 1 : 행 단위로 작업\n",
    "#axis = 0 : 열 단위로 작업(기본값)\n",
    "train['Name'] =  train[\"Name\"].apply(split_name)\n",
    "test['Name'] = test[\"Name\"].apply(split_name)"
   ]
  },
  {
   "cell_type": "code",
   "execution_count": 81,
   "metadata": {},
   "outputs": [
    {
     "name": "stdout",
     "output_type": "stream",
     "text": [
      "(891, 12)\n",
      "(418, 11)\n"
     ]
    }
   ],
   "source": [
    "print(train.shape)\n",
    "print(test.shape)"
   ]
  },
  {
   "cell_type": "code",
   "execution_count": 82,
   "metadata": {},
   "outputs": [],
   "source": [
    "# #컬럼 지우기\n",
    "# train = train.drop('지울 컬럼 이름', axis = 1)"
   ]
  },
  {
   "cell_type": "code",
   "execution_count": 83,
   "metadata": {},
   "outputs": [
    {
     "data": {
      "text/plain": [
       "Index(['Survived', 'Pclass', 'Name', 'Sex', 'Age', 'SibSp', 'Parch', 'Ticket',\n",
       "       'Fare', 'Cabin', 'Embarked', 'Family'],\n",
       "      dtype='object')"
      ]
     },
     "execution_count": 83,
     "metadata": {},
     "output_type": "execute_result"
    }
   ],
   "source": [
    "train.columns"
   ]
  },
  {
   "cell_type": "code",
   "execution_count": 84,
   "metadata": {},
   "outputs": [],
   "source": [
    "Title_Dictionary = {\n",
    "    \"Capt\": \"Other\",\n",
    "    \"Col\": \"Other\",\n",
    "    \"Major\": \"Other\",\n",
    "    \"Jonkheer\": \"Other\",\n",
    "    \"Don\": \"Other\",\n",
    "    \"Sir\" : \"Other\",\n",
    "    \"Dr\": \"Dr\",\n",
    "    \"Rev\": \"Rev\",\n",
    "    \"the Countess\":\"Other\",\n",
    "    \"Mme\": \"Other\",\n",
    "    \"Mlle\": \"Other\",\n",
    "    \"Ms\": \"Other\",\n",
    "    \"Mr\" : \"Mr\",\n",
    "    \"Mrs\" : \"Mrs\",\n",
    "    \"Miss\" : \"Miss\",\n",
    "    \"Master\" : \"Master\",\n",
    "    \"Lady\" : \"Other\"\n",
    "}"
   ]
  },
  {
   "cell_type": "code",
   "execution_count": 85,
   "metadata": {},
   "outputs": [
    {
     "data": {
      "text/plain": [
       "Mr              517\n",
       "Miss            182\n",
       "Mrs             125\n",
       "Master           40\n",
       "Dr                7\n",
       "Rev               6\n",
       "Mlle              2\n",
       "Col               2\n",
       "Major             2\n",
       "Ms                1\n",
       "Jonkheer          1\n",
       "the Countess      1\n",
       "Sir               1\n",
       "Capt              1\n",
       "Don               1\n",
       "Lady              1\n",
       "Mme               1\n",
       "Name: Name, dtype: int64"
      ]
     },
     "execution_count": 85,
     "metadata": {},
     "output_type": "execute_result"
    }
   ],
   "source": [
    "train['Name'].value_counts()"
   ]
  },
  {
   "cell_type": "code",
   "execution_count": 86,
   "metadata": {},
   "outputs": [
    {
     "data": {
      "text/plain": [
       "Mr        517\n",
       "Miss      182\n",
       "Mrs       125\n",
       "Master     40\n",
       "Other      14\n",
       "Dr          7\n",
       "Rev         6\n",
       "Name: Name, dtype: int64"
      ]
     },
     "execution_count": 86,
     "metadata": {},
     "output_type": "execute_result"
    }
   ],
   "source": [
    "#map 함수를 활용해서 라벨 인코딩\n",
    "train['Name'].map(Title_Dictionary).value_counts()"
   ]
  },
  {
   "cell_type": "code",
   "execution_count": 87,
   "metadata": {},
   "outputs": [],
   "source": [
    "# map 함수를 활용해서 라벨인코딩\n",
    "train['Name']=train['Name'].map(Title_Dictionary)\n",
    "test['Name']=test['Name'].map(Title_Dictionary)"
   ]
  },
  {
   "cell_type": "code",
   "execution_count": 88,
   "metadata": {},
   "outputs": [
    {
     "data": {
      "text/plain": [
       "<AxesSubplot:xlabel='Name', ylabel='count'>"
      ]
     },
     "execution_count": 88,
     "metadata": {},
     "output_type": "execute_result"
    },
    {
     "data": {
      "image/png": "[encoded data removed]",
      "text/plain": [
       "<Figure size 1080x360 with 1 Axes>"
      ]
     },
     "metadata": {
      "needs_background": "light"
     },
     "output_type": "display_data"
    }
   ],
   "source": [
    "plt.figure(figsize = (15,5))\n",
    "sns.countplot(data = train, x = 'Name', hue = 'Survived')"
   ]
  },
  {
   "cell_type": "code",
   "execution_count": 89,
   "metadata": {},
   "outputs": [
    {
     "data": {
      "text/plain": [
       "Index(['Survived', 'Pclass', 'Name', 'Sex', 'Age', 'SibSp', 'Parch', 'Ticket',\n",
       "       'Fare', 'Cabin', 'Embarked', 'Family'],\n",
       "      dtype='object')"
      ]
     },
     "execution_count": 89,
     "metadata": {},
     "output_type": "execute_result"
    }
   ],
   "source": [
    "train.columns"
   ]
  },
  {
   "cell_type": "code",
   "execution_count": 90,
   "metadata": {},
   "outputs": [
    {
     "data": {
      "text/plain": [
       "PassengerId\n",
       "1             A/5 21171\n",
       "2              PC 17599\n",
       "3      STON/O2. 3101282\n",
       "4                113803\n",
       "5                373450\n",
       "             ...       \n",
       "887              211536\n",
       "888              112053\n",
       "889          W./C. 6607\n",
       "890              111369\n",
       "891              370376\n",
       "Name: Ticket, Length: 891, dtype: object"
      ]
     },
     "execution_count": 90,
     "metadata": {},
     "output_type": "execute_result"
    }
   ],
   "source": [
    "train['Ticket']"
   ]
  },
  {
   "cell_type": "code",
   "execution_count": 91,
   "metadata": {},
   "outputs": [],
   "source": [
    "#ticket 삭제\n",
    "#유의미한 결과를 출력하기 힘들것이라고 판단해서\n",
    "train.drop('Ticket', axis =1, inplace = True)\n",
    "test.drop('Ticket', axis = 1, inplace = True)"
   ]
  },
  {
   "cell_type": "code",
   "execution_count": 92,
   "metadata": {},
   "outputs": [
    {
     "data": {
      "text/plain": [
       "Index(['Survived', 'Pclass', 'Name', 'Sex', 'Age', 'SibSp', 'Parch', 'Fare',\n",
       "       'Cabin', 'Embarked', 'Family'],\n",
       "      dtype='object')"
      ]
     },
     "execution_count": 92,
     "metadata": {},
     "output_type": "execute_result"
    }
   ],
   "source": [
    "train.columns"
   ]
  },
  {
   "cell_type": "code",
   "execution_count": 93,
   "metadata": {},
   "outputs": [
    {
     "name": "stdout",
     "output_type": "stream",
     "text": [
      "<class 'pandas.core.frame.DataFrame'>\n",
      "Int64Index: 891 entries, 1 to 891\n",
      "Data columns (total 11 columns):\n",
      " #   Column    Non-Null Count  Dtype   \n",
      "---  ------    --------------  -----   \n",
      " 0   Survived  891 non-null    int64   \n",
      " 1   Pclass    891 non-null    int64   \n",
      " 2   Name      891 non-null    object  \n",
      " 3   Sex       891 non-null    object  \n",
      " 4   Age       891 non-null    int32   \n",
      " 5   SibSp     891 non-null    int64   \n",
      " 6   Parch     891 non-null    int64   \n",
      " 7   Fare      891 non-null    float64 \n",
      " 8   Cabin     891 non-null    object  \n",
      " 9   Embarked  891 non-null    object  \n",
      " 10  Family    891 non-null    category\n",
      "dtypes: category(1), float64(1), int32(1), int64(4), object(4)\n",
      "memory usage: 114.1+ KB\n"
     ]
    }
   ],
   "source": [
    "#one-hot 인코딩\n",
    "train.info()"
   ]
  },
  {
   "cell_type": "code",
   "execution_count": 94,
   "metadata": {},
   "outputs": [],
   "source": [
    "onehot_column=['Name', 'Sex', 'Cabin', 'Embarked', 'Family']"
   ]
  },
  {
   "cell_type": "code",
   "execution_count": 95,
   "metadata": {},
   "outputs": [],
   "source": [
    "# #prefix : 원핫인코딩 후 어디서 파생된 컬럼인지 확인\n",
    "# pd.get_dummies(train['Name'], prefix = \"Name\")"
   ]
  },
  {
   "cell_type": "code",
   "execution_count": 96,
   "metadata": {
    "scrolled": true
   },
   "outputs": [],
   "source": [
    "for col in onehot_column:\n",
    "    #원핫인코딩한 컬럼 변수에 저장\n",
    "    dummy = pd.get_dummies(train[col], prefix = col)\n",
    "    \n",
    "    #원핫인코딩된 결과물을 기존의 자료와 합치기\n",
    "    train = pd.concat([train, dummy], axis = 1)\n",
    "    \n",
    "    #글자형컬럼(원핫인코딩 진행한) 삭제\n",
    "    train.drop(col, axis = 1, inplace = True)"
   ]
  },
  {
   "cell_type": "code",
   "execution_count": 97,
   "metadata": {},
   "outputs": [],
   "source": [
    "for col in onehot_column:\n",
    "    #원핫인코딩한 컬럼 변수에 저장\n",
    "    dummy = pd.get_dummies(test[col], prefix = col)\n",
    "    \n",
    "    #원핫인코딩된 결과물을 기존의 자료와 합치기\n",
    "    test = pd.concat([test, dummy], axis = 1)\n",
    "    \n",
    "    #글자형컬럼(원핫인코딩 진행한) 삭제\n",
    "    test.drop(col, axis = 1, inplace = True)"
   ]
  },
  {
   "cell_type": "code",
   "execution_count": 98,
   "metadata": {},
   "outputs": [
    {
     "name": "stdout",
     "output_type": "stream",
     "text": [
      "(891, 30)\n",
      "(418, 28)\n"
     ]
    }
   ],
   "source": [
    "print(train.shape)\n",
    "print(test.shape)"
   ]
  },
  {
   "cell_type": "code",
   "execution_count": 99,
   "metadata": {},
   "outputs": [
    {
     "data": {
      "text/plain": [
       "{'Cabin_T', 'Survived'}"
      ]
     },
     "execution_count": 99,
     "metadata": {},
     "output_type": "execute_result"
    }
   ],
   "source": [
    "#train이 가지고 있는 컬럼 - test가 가지고 있는 컬럼\n",
    "#train에는 있고 test에는 없는것\n",
    "set(train.columns) - set(test.columns)\n",
    "\n"
   ]
  },
  {
   "cell_type": "code",
   "execution_count": 100,
   "metadata": {},
   "outputs": [
    {
     "data": {
      "text/plain": [
       "set()"
      ]
     },
     "execution_count": 100,
     "metadata": {},
     "output_type": "execute_result"
    }
   ],
   "source": [
    "#test가 가지고 있는 컬럼 -train이 가지고 있는 컬럼\n",
    "#test에는 있고 train에는 없는것\n",
    "\n",
    "\n",
    "set(test.columns) - set(train.columns)"
   ]
  },
  {
   "cell_type": "code",
   "execution_count": 101,
   "metadata": {},
   "outputs": [],
   "source": [
    "#기존 TEST에 CABIN 컬럼에 T라는 값이 없기 때문에\n",
    "#원핫인코딩을 진행했을때 CABIN_T컬럼이 생성되지 않았다\n",
    "#CABIN_T컬럼에는 모두 0의 값을 집어 넣어줌\n",
    "\n",
    "\n",
    "test['Cabin_T'] = 0"
   ]
  },
  {
   "cell_type": "code",
   "execution_count": 102,
   "metadata": {},
   "outputs": [
    {
     "name": "stdout",
     "output_type": "stream",
     "text": [
      "(891, 30)\n",
      "(418, 29)\n"
     ]
    }
   ],
   "source": [
    "print(train.shape)\n",
    "print(test.shape)"
   ]
  },
  {
   "cell_type": "code",
   "execution_count": 103,
   "metadata": {},
   "outputs": [],
   "source": [
    "#5.모델선택 및 하이퍼파리미터 튜닝\n"
   ]
  },
  {
   "cell_type": "code",
   "execution_count": 104,
   "metadata": {},
   "outputs": [],
   "source": [
    "######훈련/평가 데이터를 -train, test\n",
    "\n",
    "##문제와 정답으로 분리 - x,y\n",
    "#x_train, y_train, x_test\n",
    "\n",
    "X_train = train.drop('Survived', axis = 1)\n",
    "y_train = train['Survived']\n",
    "X_test = test.copy()"
   ]
  },
  {
   "cell_type": "code",
   "execution_count": 105,
   "metadata": {},
   "outputs": [
    {
     "data": {
      "text/plain": [
       "((891, 29), (418, 29), (891,))"
      ]
     },
     "execution_count": 105,
     "metadata": {},
     "output_type": "execute_result"
    }
   ],
   "source": [
    "X_train.shape, X_test.shape, y_train.shape"
   ]
  },
  {
   "cell_type": "code",
   "execution_count": 106,
   "metadata": {},
   "outputs": [],
   "source": [
    "#DecisionTree\n",
    "from sklearn.tree import DecisionTreeClassifier\n",
    "tree = DecisionTreeClassifier(max_depth = 4)"
   ]
  },
  {
   "cell_type": "code",
   "execution_count": 107,
   "metadata": {},
   "outputs": [
    {
     "data": {
      "text/plain": [
       "0.8192831586215554"
      ]
     },
     "execution_count": 107,
     "metadata": {},
     "output_type": "execute_result"
    }
   ],
   "source": [
    "#교차검증\n",
    "from sklearn.model_selection import cross_val_score\n",
    "\n",
    "result = cross_val_score(tree, X_train, y_train, cv = 5)\n",
    "result.mean()"
   ]
  },
  {
   "cell_type": "code",
   "execution_count": 108,
   "metadata": {},
   "outputs": [],
   "source": [
    "#6.학습"
   ]
  },
  {
   "cell_type": "code",
   "execution_count": 109,
   "metadata": {},
   "outputs": [
    {
     "data": {
      "text/plain": [
       "DecisionTreeClassifier(max_depth=4)"
      ]
     },
     "execution_count": 109,
     "metadata": {},
     "output_type": "execute_result"
    }
   ],
   "source": [
    "tree.fit(X_train, y_train)\n"
   ]
  },
  {
   "cell_type": "code",
   "execution_count": 110,
   "metadata": {},
   "outputs": [],
   "source": [
    "#7.평가"
   ]
  },
  {
   "cell_type": "raw",
   "metadata": {},
   "source": [
    "tree.score(X_train, y_train)"
   ]
  },
  {
   "cell_type": "code",
   "execution_count": 111,
   "metadata": {},
   "outputs": [
    {
     "data": {
      "text/plain": [
       "0.8439955106621774"
      ]
     },
     "execution_count": 111,
     "metadata": {},
     "output_type": "execute_result"
    }
   ],
   "source": [
    "tree.score(X_train, y_train)"
   ]
  },
  {
   "cell_type": "code",
   "execution_count": 112,
   "metadata": {},
   "outputs": [],
   "source": [
    "#X_test를 통해서 예측값 출력하기\n",
    "pre = tree.predict(X_test)"
   ]
  },
  {
   "cell_type": "code",
   "execution_count": 113,
   "metadata": {},
   "outputs": [],
   "source": [
    "result = pd.read_csv('titanic/gender_submission.csv')"
   ]
  },
  {
   "cell_type": "code",
   "execution_count": 114,
   "metadata": {},
   "outputs": [],
   "source": [
    "#result에 survived 컬럼을 예측한 값으로 채우자\n",
    "\n",
    "\n",
    "\n",
    "result['Survived'] = pre"
   ]
  },
  {
   "cell_type": "code",
   "execution_count": 115,
   "metadata": {},
   "outputs": [],
   "source": [
    "#result를 csv 파일로 저장\n",
    "result.to_csv('DT_submission_01.csv', index = False)"
   ]
  },
  {
   "cell_type": "code",
   "execution_count": 116,
   "metadata": {},
   "outputs": [],
   "source": [
    "##복원추출 - 데이터 중첩 허용\n",
    "##중첩이 야기하는 효과- 다양한 알고리즘(중첩된 데이터에 집중한)이 나올 수 있다\n",
    "## 결과적으로는 과대적합인데, 여러개의 dt모델을 연결해서\n",
    "##평균, 투표를 통해서 결과를 집계하게 되면 과대 적합이 해소\n",
    "##\n",
    "##"
   ]
  },
  {
   "cell_type": "code",
   "execution_count": 117,
   "metadata": {},
   "outputs": [],
   "source": [
    "#랜덤포레스트\n",
    "#1.복원추출을 통해서 랜덤 데이터\n",
    "#2. max feature를 통해서 랜덤한 특성\n",
    "# 이 두가지를 통해서 다양한 알고리즘을 만듬\n"
   ]
  },
  {
   "cell_type": "code",
   "execution_count": 118,
   "metadata": {},
   "outputs": [],
   "source": [
    "#랜덤트리 decision Tree\n",
    "#복원추출> 데이터 랜덤성\n",
    "#max_feature특성에 대한 랜덤성을 부여\n",
    "#--decisionTree에서 다양한 알고리즘"
   ]
  },
  {
   "cell_type": "code",
   "execution_count": 119,
   "metadata": {},
   "outputs": [],
   "source": [
    "#max_feature 개별트리에 적용\n",
    "#선택할 데이터의 시드\n",
    "#: random_state 복원 random_state \n"
   ]
  },
  {
   "cell_type": "code",
   "execution_count": 120,
   "metadata": {},
   "outputs": [],
   "source": [
    "#5-1\n",
    "#랜덤포레스트"
   ]
  },
  {
   "cell_type": "code",
   "execution_count": 121,
   "metadata": {},
   "outputs": [],
   "source": [
    "from sklearn.ensemble import RandomForestClassifier\n",
    "forest = RandomForestClassifier(n_estimators=1000,\n",
    "                                #tree의 개수\n",
    "                                      max_features=0.7,#각각의 트리에서 사용할 특성의 개수\n",
    "                                      max_depth=5,\n",
    "                                      min_samples_leaf=15,\n",
    "                                      max_leaf_nodes=50)"
   ]
  },
  {
   "cell_type": "code",
   "execution_count": 122,
   "metadata": {},
   "outputs": [],
   "source": [
    "## GridSearch\n",
    "#여러개의 파라미터를 한번에 튜닝하는 방법\n",
    "#교차 검증을 같이진행\n",
    "from sklearn.model_selection import GridSearchCV"
   ]
  },
  {
   "cell_type": "code",
   "execution_count": 123,
   "metadata": {},
   "outputs": [],
   "source": [
    "param_grid={\n",
    "    'max_depth' : [5,10,15,20],\n",
    "    'n_estimators' :[1000,1500,2000,2500],\n",
    "    'max_features' : [0.5, 0.7],\n",
    "    'max_leaf_nodes' : [20,50,80],\n",
    "    'max_leaf_nodes' : [10,15,20]\n",
    "    \n",
    "}"
   ]
  },
  {
   "cell_type": "code",
   "execution_count": 124,
   "metadata": {},
   "outputs": [],
   "source": [
    "grid = GridSearchCV(forest, #gridSearch에 사용하 ㄹ모델\n",
    "                   param_grid,#튜닝할 매개변수\n",
    "                   cv = 3,#k겹 교차검증\n",
    "                   verbose = 3 #현재 진행중인 학습열람\n",
    "                   )\n",
    "#gridsearch를 효율적으로 사용하자 \n",
    "#randomforest 모델에 학습을 시작\n",
    "#n_estimator의 최적의 값이 1000이고 이것을 찾아보려고 함\n",
    "#1~2000까지 전부 돌려보고 최적의 값 찾기(가장 정확한 방법, 가장 비효율적)\n",
    "\n",
    "#1, 500 , 1000, 1500, 2000\n",
    "#위의 학습에선 1000 이 가장 좋은 것으로 나옴(501~1499 사이에 최적의 파라미터 존재)\n",
    "#다음은 600 800 1000 1200 1400 조금더 세세하게 학습\n",
    "#1000 이 가장 좋은 것으로 나옴(801~1199사이의 최적의 파라미터 존재)\n",
    "\n",
    "\n"
   ]
  },
  {
   "cell_type": "code",
   "execution_count": 125,
   "metadata": {},
   "outputs": [
    {
     "name": "stdout",
     "output_type": "stream",
     "text": [
      "Fitting 3 folds for each of 96 candidates, totalling 288 fits\n",
      "[CV] max_depth=5, max_features=0.5, max_leaf_nodes=10, n_estimators=1000 \n"
     ]
    },
    {
     "name": "stderr",
     "output_type": "stream",
     "text": [
      "[Parallel(n_jobs=1)]: Using backend SequentialBackend with 1 concurrent workers.\n"
     ]
    },
    {
     "name": "stdout",
     "output_type": "stream",
     "text": [
      "[CV]  max_depth=5, max_features=0.5, max_leaf_nodes=10, n_estimators=1000, score=0.805, total=   1.0s\n",
      "[CV] max_depth=5, max_features=0.5, max_leaf_nodes=10, n_estimators=1000 \n"
     ]
    },
    {
     "name": "stderr",
     "output_type": "stream",
     "text": [
      "[Parallel(n_jobs=1)]: Done   1 out of   1 | elapsed:    0.9s remaining:    0.0s\n"
     ]
    },
    {
     "name": "stdout",
     "output_type": "stream",
     "text": [
      "[CV]  max_depth=5, max_features=0.5, max_leaf_nodes=10, n_estimators=1000, score=0.838, total=   1.0s\n",
      "[CV] max_depth=5, max_features=0.5, max_leaf_nodes=10, n_estimators=1000 \n"
     ]
    },
    {
     "name": "stderr",
     "output_type": "stream",
     "text": [
      "[Parallel(n_jobs=1)]: Done   2 out of   2 | elapsed:    1.9s remaining:    0.0s\n"
     ]
    },
    {
     "name": "stdout",
     "output_type": "stream",
     "text": [
      "[CV]  max_depth=5, max_features=0.5, max_leaf_nodes=10, n_estimators=1000, score=0.815, total=   1.0s\n",
      "[CV] max_depth=5, max_features=0.5, max_leaf_nodes=10, n_estimators=1500 \n",
      "[CV]  max_depth=5, max_features=0.5, max_leaf_nodes=10, n_estimators=1500, score=0.805, total=   1.5s\n",
      "[CV] max_depth=5, max_features=0.5, max_leaf_nodes=10, n_estimators=1500 \n",
      "[CV]  max_depth=5, max_features=0.5, max_leaf_nodes=10, n_estimators=1500, score=0.842, total=   1.5s\n",
      "[CV] max_depth=5, max_features=0.5, max_leaf_nodes=10, n_estimators=1500 \n",
      "[CV]  max_depth=5, max_features=0.5, max_leaf_nodes=10, n_estimators=1500, score=0.815, total=   1.5s\n",
      "[CV] max_depth=5, max_features=0.5, max_leaf_nodes=10, n_estimators=2000 \n",
      "[CV]  max_depth=5, max_features=0.5, max_leaf_nodes=10, n_estimators=2000, score=0.811, total=   2.0s\n",
      "[CV] max_depth=5, max_features=0.5, max_leaf_nodes=10, n_estimators=2000 \n",
      "[CV]  max_depth=5, max_features=0.5, max_leaf_nodes=10, n_estimators=2000, score=0.838, total=   2.1s\n",
      "[CV] max_depth=5, max_features=0.5, max_leaf_nodes=10, n_estimators=2000 \n",
      "[CV]  max_depth=5, max_features=0.5, max_leaf_nodes=10, n_estimators=2000, score=0.815, total=   2.0s\n",
      "[CV] max_depth=5, max_features=0.5, max_leaf_nodes=10, n_estimators=2500 \n",
      "[CV]  max_depth=5, max_features=0.5, max_leaf_nodes=10, n_estimators=2500, score=0.811, total=   2.5s\n",
      "[CV] max_depth=5, max_features=0.5, max_leaf_nodes=10, n_estimators=2500 \n",
      "[CV]  max_depth=5, max_features=0.5, max_leaf_nodes=10, n_estimators=2500, score=0.838, total=   2.5s\n",
      "[CV] max_depth=5, max_features=0.5, max_leaf_nodes=10, n_estimators=2500 \n",
      "[CV]  max_depth=5, max_features=0.5, max_leaf_nodes=10, n_estimators=2500, score=0.818, total=   2.5s\n",
      "[CV] max_depth=5, max_features=0.5, max_leaf_nodes=15, n_estimators=1000 \n",
      "[CV]  max_depth=5, max_features=0.5, max_leaf_nodes=15, n_estimators=1000, score=0.818, total=   1.0s\n",
      "[CV] max_depth=5, max_features=0.5, max_leaf_nodes=15, n_estimators=1000 \n",
      "[CV]  max_depth=5, max_features=0.5, max_leaf_nodes=15, n_estimators=1000, score=0.838, total=   1.0s\n",
      "[CV] max_depth=5, max_features=0.5, max_leaf_nodes=15, n_estimators=1000 \n",
      "[CV]  max_depth=5, max_features=0.5, max_leaf_nodes=15, n_estimators=1000, score=0.815, total=   1.0s\n",
      "[CV] max_depth=5, max_features=0.5, max_leaf_nodes=15, n_estimators=1500 \n",
      "[CV]  max_depth=5, max_features=0.5, max_leaf_nodes=15, n_estimators=1500, score=0.805, total=   1.5s\n",
      "[CV] max_depth=5, max_features=0.5, max_leaf_nodes=15, n_estimators=1500 \n",
      "[CV]  max_depth=5, max_features=0.5, max_leaf_nodes=15, n_estimators=1500, score=0.845, total=   1.5s\n",
      "[CV] max_depth=5, max_features=0.5, max_leaf_nodes=15, n_estimators=1500 \n",
      "[CV]  max_depth=5, max_features=0.5, max_leaf_nodes=15, n_estimators=1500, score=0.815, total=   1.6s\n",
      "[CV] max_depth=5, max_features=0.5, max_leaf_nodes=15, n_estimators=2000 \n",
      "[CV]  max_depth=5, max_features=0.5, max_leaf_nodes=15, n_estimators=2000, score=0.811, total=   2.1s\n",
      "[CV] max_depth=5, max_features=0.5, max_leaf_nodes=15, n_estimators=2000 \n",
      "[CV]  max_depth=5, max_features=0.5, max_leaf_nodes=15, n_estimators=2000, score=0.845, total=   2.1s\n",
      "[CV] max_depth=5, max_features=0.5, max_leaf_nodes=15, n_estimators=2000 \n",
      "[CV]  max_depth=5, max_features=0.5, max_leaf_nodes=15, n_estimators=2000, score=0.815, total=   2.1s\n",
      "[CV] max_depth=5, max_features=0.5, max_leaf_nodes=15, n_estimators=2500 \n",
      "[CV]  max_depth=5, max_features=0.5, max_leaf_nodes=15, n_estimators=2500, score=0.811, total=   2.6s\n",
      "[CV] max_depth=5, max_features=0.5, max_leaf_nodes=15, n_estimators=2500 \n",
      "[CV]  max_depth=5, max_features=0.5, max_leaf_nodes=15, n_estimators=2500, score=0.838, total=   2.6s\n",
      "[CV] max_depth=5, max_features=0.5, max_leaf_nodes=15, n_estimators=2500 \n",
      "[CV]  max_depth=5, max_features=0.5, max_leaf_nodes=15, n_estimators=2500, score=0.815, total=   2.6s\n",
      "[CV] max_depth=5, max_features=0.5, max_leaf_nodes=20, n_estimators=1000 \n",
      "[CV]  max_depth=5, max_features=0.5, max_leaf_nodes=20, n_estimators=1000, score=0.808, total=   1.0s\n",
      "[CV] max_depth=5, max_features=0.5, max_leaf_nodes=20, n_estimators=1000 \n",
      "[CV]  max_depth=5, max_features=0.5, max_leaf_nodes=20, n_estimators=1000, score=0.828, total=   1.0s\n",
      "[CV] max_depth=5, max_features=0.5, max_leaf_nodes=20, n_estimators=1000 \n",
      "[CV]  max_depth=5, max_features=0.5, max_leaf_nodes=20, n_estimators=1000, score=0.815, total=   1.0s\n",
      "[CV] max_depth=5, max_features=0.5, max_leaf_nodes=20, n_estimators=1500 \n",
      "[CV]  max_depth=5, max_features=0.5, max_leaf_nodes=20, n_estimators=1500, score=0.811, total=   1.6s\n",
      "[CV] max_depth=5, max_features=0.5, max_leaf_nodes=20, n_estimators=1500 \n",
      "[CV]  max_depth=5, max_features=0.5, max_leaf_nodes=20, n_estimators=1500, score=0.842, total=   1.5s\n",
      "[CV] max_depth=5, max_features=0.5, max_leaf_nodes=20, n_estimators=1500 \n",
      "[CV]  max_depth=5, max_features=0.5, max_leaf_nodes=20, n_estimators=1500, score=0.818, total=   1.5s\n",
      "[CV] max_depth=5, max_features=0.5, max_leaf_nodes=20, n_estimators=2000 \n",
      "[CV]  max_depth=5, max_features=0.5, max_leaf_nodes=20, n_estimators=2000, score=0.818, total=   2.1s\n",
      "[CV] max_depth=5, max_features=0.5, max_leaf_nodes=20, n_estimators=2000 \n",
      "[CV]  max_depth=5, max_features=0.5, max_leaf_nodes=20, n_estimators=2000, score=0.842, total=   2.1s\n",
      "[CV] max_depth=5, max_features=0.5, max_leaf_nodes=20, n_estimators=2000 \n",
      "[CV]  max_depth=5, max_features=0.5, max_leaf_nodes=20, n_estimators=2000, score=0.815, total=   2.1s\n",
      "[CV] max_depth=5, max_features=0.5, max_leaf_nodes=20, n_estimators=2500 \n",
      "[CV]  max_depth=5, max_features=0.5, max_leaf_nodes=20, n_estimators=2500, score=0.808, total=   2.6s\n",
      "[CV] max_depth=5, max_features=0.5, max_leaf_nodes=20, n_estimators=2500 \n",
      "[CV]  max_depth=5, max_features=0.5, max_leaf_nodes=20, n_estimators=2500, score=0.845, total=   2.6s\n",
      "[CV] max_depth=5, max_features=0.5, max_leaf_nodes=20, n_estimators=2500 \n",
      "[CV]  max_depth=5, max_features=0.5, max_leaf_nodes=20, n_estimators=2500, score=0.815, total=   2.6s\n",
      "[CV] max_depth=5, max_features=0.7, max_leaf_nodes=10, n_estimators=1000 \n",
      "[CV]  max_depth=5, max_features=0.7, max_leaf_nodes=10, n_estimators=1000, score=0.805, total=   1.1s\n",
      "[CV] max_depth=5, max_features=0.7, max_leaf_nodes=10, n_estimators=1000 \n",
      "[CV]  max_depth=5, max_features=0.7, max_leaf_nodes=10, n_estimators=1000, score=0.842, total=   1.1s\n",
      "[CV] max_depth=5, max_features=0.7, max_leaf_nodes=10, n_estimators=1000 \n",
      "[CV]  max_depth=5, max_features=0.7, max_leaf_nodes=10, n_estimators=1000, score=0.815, total=   1.1s\n",
      "[CV] max_depth=5, max_features=0.7, max_leaf_nodes=10, n_estimators=1500 \n",
      "[CV]  max_depth=5, max_features=0.7, max_leaf_nodes=10, n_estimators=1500, score=0.798, total=   1.6s\n",
      "[CV] max_depth=5, max_features=0.7, max_leaf_nodes=10, n_estimators=1500 \n",
      "[CV]  max_depth=5, max_features=0.7, max_leaf_nodes=10, n_estimators=1500, score=0.848, total=   1.6s\n",
      "[CV] max_depth=5, max_features=0.7, max_leaf_nodes=10, n_estimators=1500 \n",
      "[CV]  max_depth=5, max_features=0.7, max_leaf_nodes=10, n_estimators=1500, score=0.815, total=   1.6s\n",
      "[CV] max_depth=5, max_features=0.7, max_leaf_nodes=10, n_estimators=2000 \n",
      "[CV]  max_depth=5, max_features=0.7, max_leaf_nodes=10, n_estimators=2000, score=0.795, total=   2.2s\n",
      "[CV] max_depth=5, max_features=0.7, max_leaf_nodes=10, n_estimators=2000 \n",
      "[CV]  max_depth=5, max_features=0.7, max_leaf_nodes=10, n_estimators=2000, score=0.842, total=   2.2s\n",
      "[CV] max_depth=5, max_features=0.7, max_leaf_nodes=10, n_estimators=2000 \n",
      "[CV]  max_depth=5, max_features=0.7, max_leaf_nodes=10, n_estimators=2000, score=0.815, total=   2.1s\n",
      "[CV] max_depth=5, max_features=0.7, max_leaf_nodes=10, n_estimators=2500 \n",
      "[CV]  max_depth=5, max_features=0.7, max_leaf_nodes=10, n_estimators=2500, score=0.808, total=   2.7s\n",
      "[CV] max_depth=5, max_features=0.7, max_leaf_nodes=10, n_estimators=2500 \n",
      "[CV]  max_depth=5, max_features=0.7, max_leaf_nodes=10, n_estimators=2500, score=0.842, total=   2.7s\n",
      "[CV] max_depth=5, max_features=0.7, max_leaf_nodes=10, n_estimators=2500 \n",
      "[CV]  max_depth=5, max_features=0.7, max_leaf_nodes=10, n_estimators=2500, score=0.815, total=   2.7s\n",
      "[CV] max_depth=5, max_features=0.7, max_leaf_nodes=15, n_estimators=1000 \n",
      "[CV]  max_depth=5, max_features=0.7, max_leaf_nodes=15, n_estimators=1000, score=0.801, total=   1.1s\n",
      "[CV] max_depth=5, max_features=0.7, max_leaf_nodes=15, n_estimators=1000 \n"
     ]
    },
    {
     "name": "stdout",
     "output_type": "stream",
     "text": [
      "[CV]  max_depth=5, max_features=0.7, max_leaf_nodes=15, n_estimators=1000, score=0.842, total=   1.1s\n",
      "[CV] max_depth=5, max_features=0.7, max_leaf_nodes=15, n_estimators=1000 \n",
      "[CV]  max_depth=5, max_features=0.7, max_leaf_nodes=15, n_estimators=1000, score=0.811, total=   1.1s\n",
      "[CV] max_depth=5, max_features=0.7, max_leaf_nodes=15, n_estimators=1500 \n",
      "[CV]  max_depth=5, max_features=0.7, max_leaf_nodes=15, n_estimators=1500, score=0.805, total=   1.6s\n",
      "[CV] max_depth=5, max_features=0.7, max_leaf_nodes=15, n_estimators=1500 \n",
      "[CV]  max_depth=5, max_features=0.7, max_leaf_nodes=15, n_estimators=1500, score=0.842, total=   1.6s\n",
      "[CV] max_depth=5, max_features=0.7, max_leaf_nodes=15, n_estimators=1500 \n",
      "[CV]  max_depth=5, max_features=0.7, max_leaf_nodes=15, n_estimators=1500, score=0.815, total=   1.6s\n",
      "[CV] max_depth=5, max_features=0.7, max_leaf_nodes=15, n_estimators=2000 \n",
      "[CV]  max_depth=5, max_features=0.7, max_leaf_nodes=15, n_estimators=2000, score=0.805, total=   2.2s\n",
      "[CV] max_depth=5, max_features=0.7, max_leaf_nodes=15, n_estimators=2000 \n",
      "[CV]  max_depth=5, max_features=0.7, max_leaf_nodes=15, n_estimators=2000, score=0.845, total=   2.2s\n",
      "[CV] max_depth=5, max_features=0.7, max_leaf_nodes=15, n_estimators=2000 \n",
      "[CV]  max_depth=5, max_features=0.7, max_leaf_nodes=15, n_estimators=2000, score=0.815, total=   2.2s\n",
      "[CV] max_depth=5, max_features=0.7, max_leaf_nodes=15, n_estimators=2500 \n",
      "[CV]  max_depth=5, max_features=0.7, max_leaf_nodes=15, n_estimators=2500, score=0.808, total=   2.7s\n",
      "[CV] max_depth=5, max_features=0.7, max_leaf_nodes=15, n_estimators=2500 \n",
      "[CV]  max_depth=5, max_features=0.7, max_leaf_nodes=15, n_estimators=2500, score=0.842, total=   2.7s\n",
      "[CV] max_depth=5, max_features=0.7, max_leaf_nodes=15, n_estimators=2500 \n",
      "[CV]  max_depth=5, max_features=0.7, max_leaf_nodes=15, n_estimators=2500, score=0.815, total=   2.7s\n",
      "[CV] max_depth=5, max_features=0.7, max_leaf_nodes=20, n_estimators=1000 \n",
      "[CV]  max_depth=5, max_features=0.7, max_leaf_nodes=20, n_estimators=1000, score=0.811, total=   1.1s\n",
      "[CV] max_depth=5, max_features=0.7, max_leaf_nodes=20, n_estimators=1000 \n",
      "[CV]  max_depth=5, max_features=0.7, max_leaf_nodes=20, n_estimators=1000, score=0.842, total=   1.1s\n",
      "[CV] max_depth=5, max_features=0.7, max_leaf_nodes=20, n_estimators=1000 \n",
      "[CV]  max_depth=5, max_features=0.7, max_leaf_nodes=20, n_estimators=1000, score=0.818, total=   1.1s\n",
      "[CV] max_depth=5, max_features=0.7, max_leaf_nodes=20, n_estimators=1500 \n",
      "[CV]  max_depth=5, max_features=0.7, max_leaf_nodes=20, n_estimators=1500, score=0.808, total=   1.7s\n",
      "[CV] max_depth=5, max_features=0.7, max_leaf_nodes=20, n_estimators=1500 \n",
      "[CV]  max_depth=5, max_features=0.7, max_leaf_nodes=20, n_estimators=1500, score=0.842, total=   1.7s\n",
      "[CV] max_depth=5, max_features=0.7, max_leaf_nodes=20, n_estimators=1500 \n",
      "[CV]  max_depth=5, max_features=0.7, max_leaf_nodes=20, n_estimators=1500, score=0.815, total=   1.7s\n",
      "[CV] max_depth=5, max_features=0.7, max_leaf_nodes=20, n_estimators=2000 \n",
      "[CV]  max_depth=5, max_features=0.7, max_leaf_nodes=20, n_estimators=2000, score=0.805, total=   2.2s\n",
      "[CV] max_depth=5, max_features=0.7, max_leaf_nodes=20, n_estimators=2000 \n",
      "[CV]  max_depth=5, max_features=0.7, max_leaf_nodes=20, n_estimators=2000, score=0.842, total=   2.2s\n",
      "[CV] max_depth=5, max_features=0.7, max_leaf_nodes=20, n_estimators=2000 \n",
      "[CV]  max_depth=5, max_features=0.7, max_leaf_nodes=20, n_estimators=2000, score=0.815, total=   2.2s\n",
      "[CV] max_depth=5, max_features=0.7, max_leaf_nodes=20, n_estimators=2500 \n",
      "[CV]  max_depth=5, max_features=0.7, max_leaf_nodes=20, n_estimators=2500, score=0.798, total=   2.8s\n",
      "[CV] max_depth=5, max_features=0.7, max_leaf_nodes=20, n_estimators=2500 \n",
      "[CV]  max_depth=5, max_features=0.7, max_leaf_nodes=20, n_estimators=2500, score=0.842, total=   2.7s\n",
      "[CV] max_depth=5, max_features=0.7, max_leaf_nodes=20, n_estimators=2500 \n",
      "[CV]  max_depth=5, max_features=0.7, max_leaf_nodes=20, n_estimators=2500, score=0.815, total=   2.7s\n",
      "[CV] max_depth=10, max_features=0.5, max_leaf_nodes=10, n_estimators=1000 \n",
      "[CV]  max_depth=10, max_features=0.5, max_leaf_nodes=10, n_estimators=1000, score=0.805, total=   1.0s\n",
      "[CV] max_depth=10, max_features=0.5, max_leaf_nodes=10, n_estimators=1000 \n",
      "[CV]  max_depth=10, max_features=0.5, max_leaf_nodes=10, n_estimators=1000, score=0.835, total=   1.0s\n",
      "[CV] max_depth=10, max_features=0.5, max_leaf_nodes=10, n_estimators=1000 \n",
      "[CV]  max_depth=10, max_features=0.5, max_leaf_nodes=10, n_estimators=1000, score=0.811, total=   1.0s\n",
      "[CV] max_depth=10, max_features=0.5, max_leaf_nodes=10, n_estimators=1500 \n",
      "[CV]  max_depth=10, max_features=0.5, max_leaf_nodes=10, n_estimators=1500, score=0.805, total=   1.5s\n",
      "[CV] max_depth=10, max_features=0.5, max_leaf_nodes=10, n_estimators=1500 \n",
      "[CV]  max_depth=10, max_features=0.5, max_leaf_nodes=10, n_estimators=1500, score=0.842, total=   1.5s\n",
      "[CV] max_depth=10, max_features=0.5, max_leaf_nodes=10, n_estimators=1500 \n",
      "[CV]  max_depth=10, max_features=0.5, max_leaf_nodes=10, n_estimators=1500, score=0.818, total=   1.5s\n",
      "[CV] max_depth=10, max_features=0.5, max_leaf_nodes=10, n_estimators=2000 \n",
      "[CV]  max_depth=10, max_features=0.5, max_leaf_nodes=10, n_estimators=2000, score=0.808, total=   2.1s\n",
      "[CV] max_depth=10, max_features=0.5, max_leaf_nodes=10, n_estimators=2000 \n",
      "[CV]  max_depth=10, max_features=0.5, max_leaf_nodes=10, n_estimators=2000, score=0.842, total=   2.1s\n",
      "[CV] max_depth=10, max_features=0.5, max_leaf_nodes=10, n_estimators=2000 \n",
      "[CV]  max_depth=10, max_features=0.5, max_leaf_nodes=10, n_estimators=2000, score=0.815, total=   2.0s\n",
      "[CV] max_depth=10, max_features=0.5, max_leaf_nodes=10, n_estimators=2500 \n",
      "[CV]  max_depth=10, max_features=0.5, max_leaf_nodes=10, n_estimators=2500, score=0.811, total=   2.6s\n",
      "[CV] max_depth=10, max_features=0.5, max_leaf_nodes=10, n_estimators=2500 \n",
      "[CV]  max_depth=10, max_features=0.5, max_leaf_nodes=10, n_estimators=2500, score=0.842, total=   2.6s\n",
      "[CV] max_depth=10, max_features=0.5, max_leaf_nodes=10, n_estimators=2500 \n",
      "[CV]  max_depth=10, max_features=0.5, max_leaf_nodes=10, n_estimators=2500, score=0.818, total=   2.6s\n",
      "[CV] max_depth=10, max_features=0.5, max_leaf_nodes=15, n_estimators=1000 \n",
      "[CV]  max_depth=10, max_features=0.5, max_leaf_nodes=15, n_estimators=1000, score=0.805, total=   1.1s\n",
      "[CV] max_depth=10, max_features=0.5, max_leaf_nodes=15, n_estimators=1000 \n",
      "[CV]  max_depth=10, max_features=0.5, max_leaf_nodes=15, n_estimators=1000, score=0.835, total=   1.1s\n",
      "[CV] max_depth=10, max_features=0.5, max_leaf_nodes=15, n_estimators=1000 \n",
      "[CV]  max_depth=10, max_features=0.5, max_leaf_nodes=15, n_estimators=1000, score=0.818, total=   1.1s\n",
      "[CV] max_depth=10, max_features=0.5, max_leaf_nodes=15, n_estimators=1500 \n",
      "[CV]  max_depth=10, max_features=0.5, max_leaf_nodes=15, n_estimators=1500, score=0.805, total=   1.6s\n",
      "[CV] max_depth=10, max_features=0.5, max_leaf_nodes=15, n_estimators=1500 \n",
      "[CV]  max_depth=10, max_features=0.5, max_leaf_nodes=15, n_estimators=1500, score=0.835, total=   1.6s\n",
      "[CV] max_depth=10, max_features=0.5, max_leaf_nodes=15, n_estimators=1500 \n",
      "[CV]  max_depth=10, max_features=0.5, max_leaf_nodes=15, n_estimators=1500, score=0.818, total=   1.6s\n",
      "[CV] max_depth=10, max_features=0.5, max_leaf_nodes=15, n_estimators=2000 \n",
      "[CV]  max_depth=10, max_features=0.5, max_leaf_nodes=15, n_estimators=2000, score=0.815, total=   2.1s\n",
      "[CV] max_depth=10, max_features=0.5, max_leaf_nodes=15, n_estimators=2000 \n",
      "[CV]  max_depth=10, max_features=0.5, max_leaf_nodes=15, n_estimators=2000, score=0.845, total=   2.1s\n",
      "[CV] max_depth=10, max_features=0.5, max_leaf_nodes=15, n_estimators=2000 \n",
      "[CV]  max_depth=10, max_features=0.5, max_leaf_nodes=15, n_estimators=2000, score=0.811, total=   2.1s\n",
      "[CV] max_depth=10, max_features=0.5, max_leaf_nodes=15, n_estimators=2500 \n",
      "[CV]  max_depth=10, max_features=0.5, max_leaf_nodes=15, n_estimators=2500, score=0.805, total=   2.6s\n",
      "[CV] max_depth=10, max_features=0.5, max_leaf_nodes=15, n_estimators=2500 \n",
      "[CV]  max_depth=10, max_features=0.5, max_leaf_nodes=15, n_estimators=2500, score=0.845, total=   2.6s\n",
      "[CV] max_depth=10, max_features=0.5, max_leaf_nodes=15, n_estimators=2500 \n",
      "[CV]  max_depth=10, max_features=0.5, max_leaf_nodes=15, n_estimators=2500, score=0.818, total=   2.6s\n",
      "[CV] max_depth=10, max_features=0.5, max_leaf_nodes=20, n_estimators=1000 \n"
     ]
    },
    {
     "name": "stdout",
     "output_type": "stream",
     "text": [
      "[CV]  max_depth=10, max_features=0.5, max_leaf_nodes=20, n_estimators=1000, score=0.818, total=   1.1s\n",
      "[CV] max_depth=10, max_features=0.5, max_leaf_nodes=20, n_estimators=1000 \n",
      "[CV]  max_depth=10, max_features=0.5, max_leaf_nodes=20, n_estimators=1000, score=0.835, total=   1.1s\n",
      "[CV] max_depth=10, max_features=0.5, max_leaf_nodes=20, n_estimators=1000 \n",
      "[CV]  max_depth=10, max_features=0.5, max_leaf_nodes=20, n_estimators=1000, score=0.818, total=   1.1s\n",
      "[CV] max_depth=10, max_features=0.5, max_leaf_nodes=20, n_estimators=1500 \n",
      "[CV]  max_depth=10, max_features=0.5, max_leaf_nodes=20, n_estimators=1500, score=0.811, total=   1.6s\n",
      "[CV] max_depth=10, max_features=0.5, max_leaf_nodes=20, n_estimators=1500 \n",
      "[CV]  max_depth=10, max_features=0.5, max_leaf_nodes=20, n_estimators=1500, score=0.842, total=   1.6s\n",
      "[CV] max_depth=10, max_features=0.5, max_leaf_nodes=20, n_estimators=1500 \n",
      "[CV]  max_depth=10, max_features=0.5, max_leaf_nodes=20, n_estimators=1500, score=0.815, total=   1.6s\n",
      "[CV] max_depth=10, max_features=0.5, max_leaf_nodes=20, n_estimators=2000 \n",
      "[CV]  max_depth=10, max_features=0.5, max_leaf_nodes=20, n_estimators=2000, score=0.805, total=   2.1s\n",
      "[CV] max_depth=10, max_features=0.5, max_leaf_nodes=20, n_estimators=2000 \n",
      "[CV]  max_depth=10, max_features=0.5, max_leaf_nodes=20, n_estimators=2000, score=0.845, total=   2.1s\n",
      "[CV] max_depth=10, max_features=0.5, max_leaf_nodes=20, n_estimators=2000 \n",
      "[CV]  max_depth=10, max_features=0.5, max_leaf_nodes=20, n_estimators=2000, score=0.815, total=   2.1s\n",
      "[CV] max_depth=10, max_features=0.5, max_leaf_nodes=20, n_estimators=2500 \n",
      "[CV]  max_depth=10, max_features=0.5, max_leaf_nodes=20, n_estimators=2500, score=0.811, total=   2.6s\n",
      "[CV] max_depth=10, max_features=0.5, max_leaf_nodes=20, n_estimators=2500 \n",
      "[CV]  max_depth=10, max_features=0.5, max_leaf_nodes=20, n_estimators=2500, score=0.845, total=   2.6s\n",
      "[CV] max_depth=10, max_features=0.5, max_leaf_nodes=20, n_estimators=2500 \n",
      "[CV]  max_depth=10, max_features=0.5, max_leaf_nodes=20, n_estimators=2500, score=0.815, total=   2.6s\n",
      "[CV] max_depth=10, max_features=0.7, max_leaf_nodes=10, n_estimators=1000 \n",
      "[CV]  max_depth=10, max_features=0.7, max_leaf_nodes=10, n_estimators=1000, score=0.808, total=   1.1s\n",
      "[CV] max_depth=10, max_features=0.7, max_leaf_nodes=10, n_estimators=1000 \n",
      "[CV]  max_depth=10, max_features=0.7, max_leaf_nodes=10, n_estimators=1000, score=0.838, total=   1.1s\n",
      "[CV] max_depth=10, max_features=0.7, max_leaf_nodes=10, n_estimators=1000 \n",
      "[CV]  max_depth=10, max_features=0.7, max_leaf_nodes=10, n_estimators=1000, score=0.815, total=   1.1s\n",
      "[CV] max_depth=10, max_features=0.7, max_leaf_nodes=10, n_estimators=1500 \n",
      "[CV]  max_depth=10, max_features=0.7, max_leaf_nodes=10, n_estimators=1500, score=0.798, total=   1.6s\n",
      "[CV] max_depth=10, max_features=0.7, max_leaf_nodes=10, n_estimators=1500 \n",
      "[CV]  max_depth=10, max_features=0.7, max_leaf_nodes=10, n_estimators=1500, score=0.842, total=   1.6s\n",
      "[CV] max_depth=10, max_features=0.7, max_leaf_nodes=10, n_estimators=1500 \n",
      "[CV]  max_depth=10, max_features=0.7, max_leaf_nodes=10, n_estimators=1500, score=0.815, total=   1.6s\n",
      "[CV] max_depth=10, max_features=0.7, max_leaf_nodes=10, n_estimators=2000 \n",
      "[CV]  max_depth=10, max_features=0.7, max_leaf_nodes=10, n_estimators=2000, score=0.805, total=   2.1s\n",
      "[CV] max_depth=10, max_features=0.7, max_leaf_nodes=10, n_estimators=2000 \n",
      "[CV]  max_depth=10, max_features=0.7, max_leaf_nodes=10, n_estimators=2000, score=0.842, total=   2.1s\n",
      "[CV] max_depth=10, max_features=0.7, max_leaf_nodes=10, n_estimators=2000 \n",
      "[CV]  max_depth=10, max_features=0.7, max_leaf_nodes=10, n_estimators=2000, score=0.815, total=   2.2s\n",
      "[CV] max_depth=10, max_features=0.7, max_leaf_nodes=10, n_estimators=2500 \n",
      "[CV]  max_depth=10, max_features=0.7, max_leaf_nodes=10, n_estimators=2500, score=0.808, total=   2.7s\n",
      "[CV] max_depth=10, max_features=0.7, max_leaf_nodes=10, n_estimators=2500 \n",
      "[CV]  max_depth=10, max_features=0.7, max_leaf_nodes=10, n_estimators=2500, score=0.842, total=   2.7s\n",
      "[CV] max_depth=10, max_features=0.7, max_leaf_nodes=10, n_estimators=2500 \n",
      "[CV]  max_depth=10, max_features=0.7, max_leaf_nodes=10, n_estimators=2500, score=0.815, total=   2.7s\n",
      "[CV] max_depth=10, max_features=0.7, max_leaf_nodes=15, n_estimators=1000 \n",
      "[CV]  max_depth=10, max_features=0.7, max_leaf_nodes=15, n_estimators=1000, score=0.805, total=   1.1s\n",
      "[CV] max_depth=10, max_features=0.7, max_leaf_nodes=15, n_estimators=1000 \n",
      "[CV]  max_depth=10, max_features=0.7, max_leaf_nodes=15, n_estimators=1000, score=0.838, total=   1.1s\n",
      "[CV] max_depth=10, max_features=0.7, max_leaf_nodes=15, n_estimators=1000 \n",
      "[CV]  max_depth=10, max_features=0.7, max_leaf_nodes=15, n_estimators=1000, score=0.818, total=   1.1s\n",
      "[CV] max_depth=10, max_features=0.7, max_leaf_nodes=15, n_estimators=1500 \n",
      "[CV]  max_depth=10, max_features=0.7, max_leaf_nodes=15, n_estimators=1500, score=0.808, total=   1.7s\n",
      "[CV] max_depth=10, max_features=0.7, max_leaf_nodes=15, n_estimators=1500 \n",
      "[CV]  max_depth=10, max_features=0.7, max_leaf_nodes=15, n_estimators=1500, score=0.838, total=   1.7s\n",
      "[CV] max_depth=10, max_features=0.7, max_leaf_nodes=15, n_estimators=1500 \n",
      "[CV]  max_depth=10, max_features=0.7, max_leaf_nodes=15, n_estimators=1500, score=0.815, total=   1.7s\n",
      "[CV] max_depth=10, max_features=0.7, max_leaf_nodes=15, n_estimators=2000 \n",
      "[CV]  max_depth=10, max_features=0.7, max_leaf_nodes=15, n_estimators=2000, score=0.808, total=   2.2s\n",
      "[CV] max_depth=10, max_features=0.7, max_leaf_nodes=15, n_estimators=2000 \n",
      "[CV]  max_depth=10, max_features=0.7, max_leaf_nodes=15, n_estimators=2000, score=0.842, total=   2.2s\n",
      "[CV] max_depth=10, max_features=0.7, max_leaf_nodes=15, n_estimators=2000 \n",
      "[CV]  max_depth=10, max_features=0.7, max_leaf_nodes=15, n_estimators=2000, score=0.815, total=   2.2s\n",
      "[CV] max_depth=10, max_features=0.7, max_leaf_nodes=15, n_estimators=2500 \n",
      "[CV]  max_depth=10, max_features=0.7, max_leaf_nodes=15, n_estimators=2500, score=0.805, total=   2.8s\n",
      "[CV] max_depth=10, max_features=0.7, max_leaf_nodes=15, n_estimators=2500 \n",
      "[CV]  max_depth=10, max_features=0.7, max_leaf_nodes=15, n_estimators=2500, score=0.842, total=   2.8s\n",
      "[CV] max_depth=10, max_features=0.7, max_leaf_nodes=15, n_estimators=2500 \n",
      "[CV]  max_depth=10, max_features=0.7, max_leaf_nodes=15, n_estimators=2500, score=0.815, total=   2.8s\n",
      "[CV] max_depth=10, max_features=0.7, max_leaf_nodes=20, n_estimators=1000 \n",
      "[CV]  max_depth=10, max_features=0.7, max_leaf_nodes=20, n_estimators=1000, score=0.808, total=   1.1s\n",
      "[CV] max_depth=10, max_features=0.7, max_leaf_nodes=20, n_estimators=1000 \n",
      "[CV]  max_depth=10, max_features=0.7, max_leaf_nodes=20, n_estimators=1000, score=0.842, total=   1.1s\n",
      "[CV] max_depth=10, max_features=0.7, max_leaf_nodes=20, n_estimators=1000 \n",
      "[CV]  max_depth=10, max_features=0.7, max_leaf_nodes=20, n_estimators=1000, score=0.815, total=   1.1s\n",
      "[CV] max_depth=10, max_features=0.7, max_leaf_nodes=20, n_estimators=1500 \n",
      "[CV]  max_depth=10, max_features=0.7, max_leaf_nodes=20, n_estimators=1500, score=0.811, total=   1.7s\n",
      "[CV] max_depth=10, max_features=0.7, max_leaf_nodes=20, n_estimators=1500 \n",
      "[CV]  max_depth=10, max_features=0.7, max_leaf_nodes=20, n_estimators=1500, score=0.842, total=   1.7s\n",
      "[CV] max_depth=10, max_features=0.7, max_leaf_nodes=20, n_estimators=1500 \n",
      "[CV]  max_depth=10, max_features=0.7, max_leaf_nodes=20, n_estimators=1500, score=0.815, total=   1.7s\n",
      "[CV] max_depth=10, max_features=0.7, max_leaf_nodes=20, n_estimators=2000 \n",
      "[CV]  max_depth=10, max_features=0.7, max_leaf_nodes=20, n_estimators=2000, score=0.808, total=   2.3s\n",
      "[CV] max_depth=10, max_features=0.7, max_leaf_nodes=20, n_estimators=2000 \n",
      "[CV]  max_depth=10, max_features=0.7, max_leaf_nodes=20, n_estimators=2000, score=0.842, total=   2.3s\n",
      "[CV] max_depth=10, max_features=0.7, max_leaf_nodes=20, n_estimators=2000 \n",
      "[CV]  max_depth=10, max_features=0.7, max_leaf_nodes=20, n_estimators=2000, score=0.815, total=   2.3s\n",
      "[CV] max_depth=10, max_features=0.7, max_leaf_nodes=20, n_estimators=2500 \n",
      "[CV]  max_depth=10, max_features=0.7, max_leaf_nodes=20, n_estimators=2500, score=0.808, total=   2.8s\n",
      "[CV] max_depth=10, max_features=0.7, max_leaf_nodes=20, n_estimators=2500 \n",
      "[CV]  max_depth=10, max_features=0.7, max_leaf_nodes=20, n_estimators=2500, score=0.842, total=   2.8s\n",
      "[CV] max_depth=10, max_features=0.7, max_leaf_nodes=20, n_estimators=2500 \n"
     ]
    },
    {
     "name": "stdout",
     "output_type": "stream",
     "text": [
      "[CV]  max_depth=10, max_features=0.7, max_leaf_nodes=20, n_estimators=2500, score=0.815, total=   2.8s\n",
      "[CV] max_depth=15, max_features=0.5, max_leaf_nodes=10, n_estimators=1000 \n",
      "[CV]  max_depth=15, max_features=0.5, max_leaf_nodes=10, n_estimators=1000, score=0.815, total=   1.0s\n",
      "[CV] max_depth=15, max_features=0.5, max_leaf_nodes=10, n_estimators=1000 \n",
      "[CV]  max_depth=15, max_features=0.5, max_leaf_nodes=10, n_estimators=1000, score=0.838, total=   1.0s\n",
      "[CV] max_depth=15, max_features=0.5, max_leaf_nodes=10, n_estimators=1000 \n",
      "[CV]  max_depth=15, max_features=0.5, max_leaf_nodes=10, n_estimators=1000, score=0.815, total=   1.0s\n",
      "[CV] max_depth=15, max_features=0.5, max_leaf_nodes=10, n_estimators=1500 \n",
      "[CV]  max_depth=15, max_features=0.5, max_leaf_nodes=10, n_estimators=1500, score=0.805, total=   1.5s\n",
      "[CV] max_depth=15, max_features=0.5, max_leaf_nodes=10, n_estimators=1500 \n",
      "[CV]  max_depth=15, max_features=0.5, max_leaf_nodes=10, n_estimators=1500, score=0.842, total=   1.5s\n",
      "[CV] max_depth=15, max_features=0.5, max_leaf_nodes=10, n_estimators=1500 \n",
      "[CV]  max_depth=15, max_features=0.5, max_leaf_nodes=10, n_estimators=1500, score=0.815, total=   1.5s\n",
      "[CV] max_depth=15, max_features=0.5, max_leaf_nodes=10, n_estimators=2000 \n",
      "[CV]  max_depth=15, max_features=0.5, max_leaf_nodes=10, n_estimators=2000, score=0.811, total=   2.0s\n",
      "[CV] max_depth=15, max_features=0.5, max_leaf_nodes=10, n_estimators=2000 \n",
      "[CV]  max_depth=15, max_features=0.5, max_leaf_nodes=10, n_estimators=2000, score=0.842, total=   2.0s\n",
      "[CV] max_depth=15, max_features=0.5, max_leaf_nodes=10, n_estimators=2000 \n",
      "[CV]  max_depth=15, max_features=0.5, max_leaf_nodes=10, n_estimators=2000, score=0.815, total=   2.0s\n",
      "[CV] max_depth=15, max_features=0.5, max_leaf_nodes=10, n_estimators=2500 \n",
      "[CV]  max_depth=15, max_features=0.5, max_leaf_nodes=10, n_estimators=2500, score=0.815, total=   2.5s\n",
      "[CV] max_depth=15, max_features=0.5, max_leaf_nodes=10, n_estimators=2500 \n",
      "[CV]  max_depth=15, max_features=0.5, max_leaf_nodes=10, n_estimators=2500, score=0.842, total=   2.6s\n",
      "[CV] max_depth=15, max_features=0.5, max_leaf_nodes=10, n_estimators=2500 \n",
      "[CV]  max_depth=15, max_features=0.5, max_leaf_nodes=10, n_estimators=2500, score=0.815, total=   2.6s\n",
      "[CV] max_depth=15, max_features=0.5, max_leaf_nodes=15, n_estimators=1000 \n",
      "[CV]  max_depth=15, max_features=0.5, max_leaf_nodes=15, n_estimators=1000, score=0.811, total=   1.0s\n",
      "[CV] max_depth=15, max_features=0.5, max_leaf_nodes=15, n_estimators=1000 \n",
      "[CV]  max_depth=15, max_features=0.5, max_leaf_nodes=15, n_estimators=1000, score=0.835, total=   1.1s\n",
      "[CV] max_depth=15, max_features=0.5, max_leaf_nodes=15, n_estimators=1000 \n",
      "[CV]  max_depth=15, max_features=0.5, max_leaf_nodes=15, n_estimators=1000, score=0.818, total=   1.0s\n",
      "[CV] max_depth=15, max_features=0.5, max_leaf_nodes=15, n_estimators=1500 \n",
      "[CV]  max_depth=15, max_features=0.5, max_leaf_nodes=15, n_estimators=1500, score=0.811, total=   1.6s\n",
      "[CV] max_depth=15, max_features=0.5, max_leaf_nodes=15, n_estimators=1500 \n",
      "[CV]  max_depth=15, max_features=0.5, max_leaf_nodes=15, n_estimators=1500, score=0.845, total=   1.6s\n",
      "[CV] max_depth=15, max_features=0.5, max_leaf_nodes=15, n_estimators=1500 \n",
      "[CV]  max_depth=15, max_features=0.5, max_leaf_nodes=15, n_estimators=1500, score=0.811, total=   1.6s\n",
      "[CV] max_depth=15, max_features=0.5, max_leaf_nodes=15, n_estimators=2000 \n",
      "[CV]  max_depth=15, max_features=0.5, max_leaf_nodes=15, n_estimators=2000, score=0.818, total=   2.1s\n",
      "[CV] max_depth=15, max_features=0.5, max_leaf_nodes=15, n_estimators=2000 \n",
      "[CV]  max_depth=15, max_features=0.5, max_leaf_nodes=15, n_estimators=2000, score=0.832, total=   2.1s\n",
      "[CV] max_depth=15, max_features=0.5, max_leaf_nodes=15, n_estimators=2000 \n",
      "[CV]  max_depth=15, max_features=0.5, max_leaf_nodes=15, n_estimators=2000, score=0.815, total=   2.1s\n",
      "[CV] max_depth=15, max_features=0.5, max_leaf_nodes=15, n_estimators=2500 \n",
      "[CV]  max_depth=15, max_features=0.5, max_leaf_nodes=15, n_estimators=2500, score=0.808, total=   2.6s\n",
      "[CV] max_depth=15, max_features=0.5, max_leaf_nodes=15, n_estimators=2500 \n",
      "[CV]  max_depth=15, max_features=0.5, max_leaf_nodes=15, n_estimators=2500, score=0.835, total=   2.6s\n",
      "[CV] max_depth=15, max_features=0.5, max_leaf_nodes=15, n_estimators=2500 \n",
      "[CV]  max_depth=15, max_features=0.5, max_leaf_nodes=15, n_estimators=2500, score=0.815, total=   2.6s\n",
      "[CV] max_depth=15, max_features=0.5, max_leaf_nodes=20, n_estimators=1000 \n",
      "[CV]  max_depth=15, max_features=0.5, max_leaf_nodes=20, n_estimators=1000, score=0.811, total=   1.1s\n",
      "[CV] max_depth=15, max_features=0.5, max_leaf_nodes=20, n_estimators=1000 \n",
      "[CV]  max_depth=15, max_features=0.5, max_leaf_nodes=20, n_estimators=1000, score=0.845, total=   1.1s\n",
      "[CV] max_depth=15, max_features=0.5, max_leaf_nodes=20, n_estimators=1000 \n",
      "[CV]  max_depth=15, max_features=0.5, max_leaf_nodes=20, n_estimators=1000, score=0.811, total=   1.0s\n",
      "[CV] max_depth=15, max_features=0.5, max_leaf_nodes=20, n_estimators=1500 \n",
      "[CV]  max_depth=15, max_features=0.5, max_leaf_nodes=20, n_estimators=1500, score=0.808, total=   1.6s\n",
      "[CV] max_depth=15, max_features=0.5, max_leaf_nodes=20, n_estimators=1500 \n",
      "[CV]  max_depth=15, max_features=0.5, max_leaf_nodes=20, n_estimators=1500, score=0.838, total=   1.6s\n",
      "[CV] max_depth=15, max_features=0.5, max_leaf_nodes=20, n_estimators=1500 \n",
      "[CV]  max_depth=15, max_features=0.5, max_leaf_nodes=20, n_estimators=1500, score=0.818, total=   1.6s\n",
      "[CV] max_depth=15, max_features=0.5, max_leaf_nodes=20, n_estimators=2000 \n",
      "[CV]  max_depth=15, max_features=0.5, max_leaf_nodes=20, n_estimators=2000, score=0.811, total=   2.1s\n",
      "[CV] max_depth=15, max_features=0.5, max_leaf_nodes=20, n_estimators=2000 \n",
      "[CV]  max_depth=15, max_features=0.5, max_leaf_nodes=20, n_estimators=2000, score=0.842, total=   2.2s\n",
      "[CV] max_depth=15, max_features=0.5, max_leaf_nodes=20, n_estimators=2000 \n",
      "[CV]  max_depth=15, max_features=0.5, max_leaf_nodes=20, n_estimators=2000, score=0.815, total=   2.1s\n",
      "[CV] max_depth=15, max_features=0.5, max_leaf_nodes=20, n_estimators=2500 \n",
      "[CV]  max_depth=15, max_features=0.5, max_leaf_nodes=20, n_estimators=2500, score=0.808, total=   2.6s\n",
      "[CV] max_depth=15, max_features=0.5, max_leaf_nodes=20, n_estimators=2500 \n",
      "[CV]  max_depth=15, max_features=0.5, max_leaf_nodes=20, n_estimators=2500, score=0.838, total=   2.6s\n",
      "[CV] max_depth=15, max_features=0.5, max_leaf_nodes=20, n_estimators=2500 \n",
      "[CV]  max_depth=15, max_features=0.5, max_leaf_nodes=20, n_estimators=2500, score=0.818, total=   2.6s\n",
      "[CV] max_depth=15, max_features=0.7, max_leaf_nodes=10, n_estimators=1000 \n",
      "[CV]  max_depth=15, max_features=0.7, max_leaf_nodes=10, n_estimators=1000, score=0.805, total=   1.1s\n",
      "[CV] max_depth=15, max_features=0.7, max_leaf_nodes=10, n_estimators=1000 \n",
      "[CV]  max_depth=15, max_features=0.7, max_leaf_nodes=10, n_estimators=1000, score=0.838, total=   1.1s\n",
      "[CV] max_depth=15, max_features=0.7, max_leaf_nodes=10, n_estimators=1000 \n",
      "[CV]  max_depth=15, max_features=0.7, max_leaf_nodes=10, n_estimators=1000, score=0.815, total=   1.1s\n",
      "[CV] max_depth=15, max_features=0.7, max_leaf_nodes=10, n_estimators=1500 \n",
      "[CV]  max_depth=15, max_features=0.7, max_leaf_nodes=10, n_estimators=1500, score=0.808, total=   1.6s\n",
      "[CV] max_depth=15, max_features=0.7, max_leaf_nodes=10, n_estimators=1500 \n",
      "[CV]  max_depth=15, max_features=0.7, max_leaf_nodes=10, n_estimators=1500, score=0.842, total=   1.6s\n",
      "[CV] max_depth=15, max_features=0.7, max_leaf_nodes=10, n_estimators=1500 \n",
      "[CV]  max_depth=15, max_features=0.7, max_leaf_nodes=10, n_estimators=1500, score=0.815, total=   1.6s\n",
      "[CV] max_depth=15, max_features=0.7, max_leaf_nodes=10, n_estimators=2000 \n",
      "[CV]  max_depth=15, max_features=0.7, max_leaf_nodes=10, n_estimators=2000, score=0.808, total=   2.2s\n",
      "[CV] max_depth=15, max_features=0.7, max_leaf_nodes=10, n_estimators=2000 \n",
      "[CV]  max_depth=15, max_features=0.7, max_leaf_nodes=10, n_estimators=2000, score=0.842, total=   2.2s\n",
      "[CV] max_depth=15, max_features=0.7, max_leaf_nodes=10, n_estimators=2000 \n",
      "[CV]  max_depth=15, max_features=0.7, max_leaf_nodes=10, n_estimators=2000, score=0.815, total=   2.2s\n",
      "[CV] max_depth=15, max_features=0.7, max_leaf_nodes=10, n_estimators=2500 \n",
      "[CV]  max_depth=15, max_features=0.7, max_leaf_nodes=10, n_estimators=2500, score=0.805, total=   2.7s\n",
      "[CV] max_depth=15, max_features=0.7, max_leaf_nodes=10, n_estimators=2500 \n"
     ]
    },
    {
     "name": "stdout",
     "output_type": "stream",
     "text": [
      "[CV]  max_depth=15, max_features=0.7, max_leaf_nodes=10, n_estimators=2500, score=0.842, total=   2.7s\n",
      "[CV] max_depth=15, max_features=0.7, max_leaf_nodes=10, n_estimators=2500 \n",
      "[CV]  max_depth=15, max_features=0.7, max_leaf_nodes=10, n_estimators=2500, score=0.815, total=   2.7s\n",
      "[CV] max_depth=15, max_features=0.7, max_leaf_nodes=15, n_estimators=1000 \n",
      "[CV]  max_depth=15, max_features=0.7, max_leaf_nodes=15, n_estimators=1000, score=0.805, total=   1.1s\n",
      "[CV] max_depth=15, max_features=0.7, max_leaf_nodes=15, n_estimators=1000 \n",
      "[CV]  max_depth=15, max_features=0.7, max_leaf_nodes=15, n_estimators=1000, score=0.838, total=   1.1s\n",
      "[CV] max_depth=15, max_features=0.7, max_leaf_nodes=15, n_estimators=1000 \n",
      "[CV]  max_depth=15, max_features=0.7, max_leaf_nodes=15, n_estimators=1000, score=0.815, total=   1.1s\n",
      "[CV] max_depth=15, max_features=0.7, max_leaf_nodes=15, n_estimators=1500 \n",
      "[CV]  max_depth=15, max_features=0.7, max_leaf_nodes=15, n_estimators=1500, score=0.805, total=   1.7s\n",
      "[CV] max_depth=15, max_features=0.7, max_leaf_nodes=15, n_estimators=1500 \n",
      "[CV]  max_depth=15, max_features=0.7, max_leaf_nodes=15, n_estimators=1500, score=0.842, total=   1.7s\n",
      "[CV] max_depth=15, max_features=0.7, max_leaf_nodes=15, n_estimators=1500 \n",
      "[CV]  max_depth=15, max_features=0.7, max_leaf_nodes=15, n_estimators=1500, score=0.815, total=   1.7s\n",
      "[CV] max_depth=15, max_features=0.7, max_leaf_nodes=15, n_estimators=2000 \n",
      "[CV]  max_depth=15, max_features=0.7, max_leaf_nodes=15, n_estimators=2000, score=0.808, total=   2.2s\n",
      "[CV] max_depth=15, max_features=0.7, max_leaf_nodes=15, n_estimators=2000 \n",
      "[CV]  max_depth=15, max_features=0.7, max_leaf_nodes=15, n_estimators=2000, score=0.842, total=   2.2s\n",
      "[CV] max_depth=15, max_features=0.7, max_leaf_nodes=15, n_estimators=2000 \n",
      "[CV]  max_depth=15, max_features=0.7, max_leaf_nodes=15, n_estimators=2000, score=0.815, total=   2.2s\n",
      "[CV] max_depth=15, max_features=0.7, max_leaf_nodes=15, n_estimators=2500 \n",
      "[CV]  max_depth=15, max_features=0.7, max_leaf_nodes=15, n_estimators=2500, score=0.805, total=   2.8s\n",
      "[CV] max_depth=15, max_features=0.7, max_leaf_nodes=15, n_estimators=2500 \n",
      "[CV]  max_depth=15, max_features=0.7, max_leaf_nodes=15, n_estimators=2500, score=0.842, total=   2.8s\n",
      "[CV] max_depth=15, max_features=0.7, max_leaf_nodes=15, n_estimators=2500 \n",
      "[CV]  max_depth=15, max_features=0.7, max_leaf_nodes=15, n_estimators=2500, score=0.815, total=   2.8s\n",
      "[CV] max_depth=15, max_features=0.7, max_leaf_nodes=20, n_estimators=1000 \n",
      "[CV]  max_depth=15, max_features=0.7, max_leaf_nodes=20, n_estimators=1000, score=0.811, total=   1.1s\n",
      "[CV] max_depth=15, max_features=0.7, max_leaf_nodes=20, n_estimators=1000 \n",
      "[CV]  max_depth=15, max_features=0.7, max_leaf_nodes=20, n_estimators=1000, score=0.838, total=   1.1s\n",
      "[CV] max_depth=15, max_features=0.7, max_leaf_nodes=20, n_estimators=1000 \n",
      "[CV]  max_depth=15, max_features=0.7, max_leaf_nodes=20, n_estimators=1000, score=0.815, total=   1.1s\n",
      "[CV] max_depth=15, max_features=0.7, max_leaf_nodes=20, n_estimators=1500 \n",
      "[CV]  max_depth=15, max_features=0.7, max_leaf_nodes=20, n_estimators=1500, score=0.805, total=   1.7s\n",
      "[CV] max_depth=15, max_features=0.7, max_leaf_nodes=20, n_estimators=1500 \n",
      "[CV]  max_depth=15, max_features=0.7, max_leaf_nodes=20, n_estimators=1500, score=0.842, total=   1.7s\n",
      "[CV] max_depth=15, max_features=0.7, max_leaf_nodes=20, n_estimators=1500 \n",
      "[CV]  max_depth=15, max_features=0.7, max_leaf_nodes=20, n_estimators=1500, score=0.818, total=   1.7s\n",
      "[CV] max_depth=15, max_features=0.7, max_leaf_nodes=20, n_estimators=2000 \n",
      "[CV]  max_depth=15, max_features=0.7, max_leaf_nodes=20, n_estimators=2000, score=0.808, total=   2.3s\n",
      "[CV] max_depth=15, max_features=0.7, max_leaf_nodes=20, n_estimators=2000 \n",
      "[CV]  max_depth=15, max_features=0.7, max_leaf_nodes=20, n_estimators=2000, score=0.842, total=   2.2s\n",
      "[CV] max_depth=15, max_features=0.7, max_leaf_nodes=20, n_estimators=2000 \n",
      "[CV]  max_depth=15, max_features=0.7, max_leaf_nodes=20, n_estimators=2000, score=0.815, total=   2.2s\n",
      "[CV] max_depth=15, max_features=0.7, max_leaf_nodes=20, n_estimators=2500 \n",
      "[CV]  max_depth=15, max_features=0.7, max_leaf_nodes=20, n_estimators=2500, score=0.805, total=   2.8s\n",
      "[CV] max_depth=15, max_features=0.7, max_leaf_nodes=20, n_estimators=2500 \n",
      "[CV]  max_depth=15, max_features=0.7, max_leaf_nodes=20, n_estimators=2500, score=0.842, total=   2.8s\n",
      "[CV] max_depth=15, max_features=0.7, max_leaf_nodes=20, n_estimators=2500 \n",
      "[CV]  max_depth=15, max_features=0.7, max_leaf_nodes=20, n_estimators=2500, score=0.815, total=   2.8s\n",
      "[CV] max_depth=20, max_features=0.5, max_leaf_nodes=10, n_estimators=1000 \n",
      "[CV]  max_depth=20, max_features=0.5, max_leaf_nodes=10, n_estimators=1000, score=0.805, total=   1.0s\n",
      "[CV] max_depth=20, max_features=0.5, max_leaf_nodes=10, n_estimators=1000 \n",
      "[CV]  max_depth=20, max_features=0.5, max_leaf_nodes=10, n_estimators=1000, score=0.842, total=   1.0s\n",
      "[CV] max_depth=20, max_features=0.5, max_leaf_nodes=10, n_estimators=1000 \n",
      "[CV]  max_depth=20, max_features=0.5, max_leaf_nodes=10, n_estimators=1000, score=0.815, total=   1.0s\n",
      "[CV] max_depth=20, max_features=0.5, max_leaf_nodes=10, n_estimators=1500 \n",
      "[CV]  max_depth=20, max_features=0.5, max_leaf_nodes=10, n_estimators=1500, score=0.805, total=   1.5s\n",
      "[CV] max_depth=20, max_features=0.5, max_leaf_nodes=10, n_estimators=1500 \n",
      "[CV]  max_depth=20, max_features=0.5, max_leaf_nodes=10, n_estimators=1500, score=0.842, total=   1.5s\n",
      "[CV] max_depth=20, max_features=0.5, max_leaf_nodes=10, n_estimators=1500 \n",
      "[CV]  max_depth=20, max_features=0.5, max_leaf_nodes=10, n_estimators=1500, score=0.815, total=   1.5s\n",
      "[CV] max_depth=20, max_features=0.5, max_leaf_nodes=10, n_estimators=2000 \n",
      "[CV]  max_depth=20, max_features=0.5, max_leaf_nodes=10, n_estimators=2000, score=0.808, total=   2.0s\n",
      "[CV] max_depth=20, max_features=0.5, max_leaf_nodes=10, n_estimators=2000 \n",
      "[CV]  max_depth=20, max_features=0.5, max_leaf_nodes=10, n_estimators=2000, score=0.842, total=   2.0s\n",
      "[CV] max_depth=20, max_features=0.5, max_leaf_nodes=10, n_estimators=2000 \n",
      "[CV]  max_depth=20, max_features=0.5, max_leaf_nodes=10, n_estimators=2000, score=0.815, total=   2.1s\n",
      "[CV] max_depth=20, max_features=0.5, max_leaf_nodes=10, n_estimators=2500 \n",
      "[CV]  max_depth=20, max_features=0.5, max_leaf_nodes=10, n_estimators=2500, score=0.805, total=   2.6s\n",
      "[CV] max_depth=20, max_features=0.5, max_leaf_nodes=10, n_estimators=2500 \n",
      "[CV]  max_depth=20, max_features=0.5, max_leaf_nodes=10, n_estimators=2500, score=0.838, total=   2.6s\n",
      "[CV] max_depth=20, max_features=0.5, max_leaf_nodes=10, n_estimators=2500 \n",
      "[CV]  max_depth=20, max_features=0.5, max_leaf_nodes=10, n_estimators=2500, score=0.815, total=   2.5s\n",
      "[CV] max_depth=20, max_features=0.5, max_leaf_nodes=15, n_estimators=1000 \n",
      "[CV]  max_depth=20, max_features=0.5, max_leaf_nodes=15, n_estimators=1000, score=0.805, total=   1.0s\n",
      "[CV] max_depth=20, max_features=0.5, max_leaf_nodes=15, n_estimators=1000 \n",
      "[CV]  max_depth=20, max_features=0.5, max_leaf_nodes=15, n_estimators=1000, score=0.842, total=   1.0s\n",
      "[CV] max_depth=20, max_features=0.5, max_leaf_nodes=15, n_estimators=1000 \n",
      "[CV]  max_depth=20, max_features=0.5, max_leaf_nodes=15, n_estimators=1000, score=0.815, total=   1.1s\n",
      "[CV] max_depth=20, max_features=0.5, max_leaf_nodes=15, n_estimators=1500 \n",
      "[CV]  max_depth=20, max_features=0.5, max_leaf_nodes=15, n_estimators=1500, score=0.808, total=   1.6s\n",
      "[CV] max_depth=20, max_features=0.5, max_leaf_nodes=15, n_estimators=1500 \n",
      "[CV]  max_depth=20, max_features=0.5, max_leaf_nodes=15, n_estimators=1500, score=0.845, total=   1.6s\n",
      "[CV] max_depth=20, max_features=0.5, max_leaf_nodes=15, n_estimators=1500 \n",
      "[CV]  max_depth=20, max_features=0.5, max_leaf_nodes=15, n_estimators=1500, score=0.818, total=   1.6s\n",
      "[CV] max_depth=20, max_features=0.5, max_leaf_nodes=15, n_estimators=2000 \n",
      "[CV]  max_depth=20, max_features=0.5, max_leaf_nodes=15, n_estimators=2000, score=0.808, total=   2.1s\n",
      "[CV] max_depth=20, max_features=0.5, max_leaf_nodes=15, n_estimators=2000 \n",
      "[CV]  max_depth=20, max_features=0.5, max_leaf_nodes=15, n_estimators=2000, score=0.835, total=   2.1s\n",
      "[CV] max_depth=20, max_features=0.5, max_leaf_nodes=15, n_estimators=2000 \n",
      "[CV]  max_depth=20, max_features=0.5, max_leaf_nodes=15, n_estimators=2000, score=0.815, total=   2.1s\n",
      "[CV] max_depth=20, max_features=0.5, max_leaf_nodes=15, n_estimators=2500 \n"
     ]
    },
    {
     "name": "stdout",
     "output_type": "stream",
     "text": [
      "[CV]  max_depth=20, max_features=0.5, max_leaf_nodes=15, n_estimators=2500, score=0.818, total=   2.6s\n",
      "[CV] max_depth=20, max_features=0.5, max_leaf_nodes=15, n_estimators=2500 \n",
      "[CV]  max_depth=20, max_features=0.5, max_leaf_nodes=15, n_estimators=2500, score=0.835, total=   2.6s\n",
      "[CV] max_depth=20, max_features=0.5, max_leaf_nodes=15, n_estimators=2500 \n",
      "[CV]  max_depth=20, max_features=0.5, max_leaf_nodes=15, n_estimators=2500, score=0.815, total=   2.7s\n",
      "[CV] max_depth=20, max_features=0.5, max_leaf_nodes=20, n_estimators=1000 \n",
      "[CV]  max_depth=20, max_features=0.5, max_leaf_nodes=20, n_estimators=1000, score=0.805, total=   1.0s\n",
      "[CV] max_depth=20, max_features=0.5, max_leaf_nodes=20, n_estimators=1000 \n",
      "[CV]  max_depth=20, max_features=0.5, max_leaf_nodes=20, n_estimators=1000, score=0.842, total=   1.1s\n",
      "[CV] max_depth=20, max_features=0.5, max_leaf_nodes=20, n_estimators=1000 \n",
      "[CV]  max_depth=20, max_features=0.5, max_leaf_nodes=20, n_estimators=1000, score=0.815, total=   1.1s\n",
      "[CV] max_depth=20, max_features=0.5, max_leaf_nodes=20, n_estimators=1500 \n",
      "[CV]  max_depth=20, max_features=0.5, max_leaf_nodes=20, n_estimators=1500, score=0.805, total=   1.6s\n",
      "[CV] max_depth=20, max_features=0.5, max_leaf_nodes=20, n_estimators=1500 \n",
      "[CV]  max_depth=20, max_features=0.5, max_leaf_nodes=20, n_estimators=1500, score=0.835, total=   1.6s\n",
      "[CV] max_depth=20, max_features=0.5, max_leaf_nodes=20, n_estimators=1500 \n",
      "[CV]  max_depth=20, max_features=0.5, max_leaf_nodes=20, n_estimators=1500, score=0.815, total=   1.6s\n",
      "[CV] max_depth=20, max_features=0.5, max_leaf_nodes=20, n_estimators=2000 \n",
      "[CV]  max_depth=20, max_features=0.5, max_leaf_nodes=20, n_estimators=2000, score=0.811, total=   2.1s\n",
      "[CV] max_depth=20, max_features=0.5, max_leaf_nodes=20, n_estimators=2000 \n",
      "[CV]  max_depth=20, max_features=0.5, max_leaf_nodes=20, n_estimators=2000, score=0.845, total=   2.1s\n",
      "[CV] max_depth=20, max_features=0.5, max_leaf_nodes=20, n_estimators=2000 \n",
      "[CV]  max_depth=20, max_features=0.5, max_leaf_nodes=20, n_estimators=2000, score=0.811, total=   2.1s\n",
      "[CV] max_depth=20, max_features=0.5, max_leaf_nodes=20, n_estimators=2500 \n",
      "[CV]  max_depth=20, max_features=0.5, max_leaf_nodes=20, n_estimators=2500, score=0.808, total=   2.6s\n",
      "[CV] max_depth=20, max_features=0.5, max_leaf_nodes=20, n_estimators=2500 \n",
      "[CV]  max_depth=20, max_features=0.5, max_leaf_nodes=20, n_estimators=2500, score=0.842, total=   2.6s\n",
      "[CV] max_depth=20, max_features=0.5, max_leaf_nodes=20, n_estimators=2500 \n",
      "[CV]  max_depth=20, max_features=0.5, max_leaf_nodes=20, n_estimators=2500, score=0.815, total=   2.7s\n",
      "[CV] max_depth=20, max_features=0.7, max_leaf_nodes=10, n_estimators=1000 \n",
      "[CV]  max_depth=20, max_features=0.7, max_leaf_nodes=10, n_estimators=1000, score=0.798, total=   1.1s\n",
      "[CV] max_depth=20, max_features=0.7, max_leaf_nodes=10, n_estimators=1000 \n",
      "[CV]  max_depth=20, max_features=0.7, max_leaf_nodes=10, n_estimators=1000, score=0.838, total=   1.1s\n",
      "[CV] max_depth=20, max_features=0.7, max_leaf_nodes=10, n_estimators=1000 \n",
      "[CV]  max_depth=20, max_features=0.7, max_leaf_nodes=10, n_estimators=1000, score=0.815, total=   1.1s\n",
      "[CV] max_depth=20, max_features=0.7, max_leaf_nodes=10, n_estimators=1500 \n",
      "[CV]  max_depth=20, max_features=0.7, max_leaf_nodes=10, n_estimators=1500, score=0.808, total=   1.7s\n",
      "[CV] max_depth=20, max_features=0.7, max_leaf_nodes=10, n_estimators=1500 \n",
      "[CV]  max_depth=20, max_features=0.7, max_leaf_nodes=10, n_estimators=1500, score=0.842, total=   1.6s\n",
      "[CV] max_depth=20, max_features=0.7, max_leaf_nodes=10, n_estimators=1500 \n",
      "[CV]  max_depth=20, max_features=0.7, max_leaf_nodes=10, n_estimators=1500, score=0.815, total=   1.6s\n",
      "[CV] max_depth=20, max_features=0.7, max_leaf_nodes=10, n_estimators=2000 \n",
      "[CV]  max_depth=20, max_features=0.7, max_leaf_nodes=10, n_estimators=2000, score=0.808, total=   2.2s\n",
      "[CV] max_depth=20, max_features=0.7, max_leaf_nodes=10, n_estimators=2000 \n",
      "[CV]  max_depth=20, max_features=0.7, max_leaf_nodes=10, n_estimators=2000, score=0.838, total=   2.2s\n",
      "[CV] max_depth=20, max_features=0.7, max_leaf_nodes=10, n_estimators=2000 \n",
      "[CV]  max_depth=20, max_features=0.7, max_leaf_nodes=10, n_estimators=2000, score=0.815, total=   2.2s\n",
      "[CV] max_depth=20, max_features=0.7, max_leaf_nodes=10, n_estimators=2500 \n",
      "[CV]  max_depth=20, max_features=0.7, max_leaf_nodes=10, n_estimators=2500, score=0.808, total=   2.8s\n",
      "[CV] max_depth=20, max_features=0.7, max_leaf_nodes=10, n_estimators=2500 \n",
      "[CV]  max_depth=20, max_features=0.7, max_leaf_nodes=10, n_estimators=2500, score=0.842, total=   2.7s\n",
      "[CV] max_depth=20, max_features=0.7, max_leaf_nodes=10, n_estimators=2500 \n",
      "[CV]  max_depth=20, max_features=0.7, max_leaf_nodes=10, n_estimators=2500, score=0.815, total=   2.7s\n",
      "[CV] max_depth=20, max_features=0.7, max_leaf_nodes=15, n_estimators=1000 \n",
      "[CV]  max_depth=20, max_features=0.7, max_leaf_nodes=15, n_estimators=1000, score=0.808, total=   1.1s\n",
      "[CV] max_depth=20, max_features=0.7, max_leaf_nodes=15, n_estimators=1000 \n",
      "[CV]  max_depth=20, max_features=0.7, max_leaf_nodes=15, n_estimators=1000, score=0.842, total=   1.1s\n",
      "[CV] max_depth=20, max_features=0.7, max_leaf_nodes=15, n_estimators=1000 \n",
      "[CV]  max_depth=20, max_features=0.7, max_leaf_nodes=15, n_estimators=1000, score=0.815, total=   1.1s\n",
      "[CV] max_depth=20, max_features=0.7, max_leaf_nodes=15, n_estimators=1500 \n",
      "[CV]  max_depth=20, max_features=0.7, max_leaf_nodes=15, n_estimators=1500, score=0.805, total=   1.7s\n",
      "[CV] max_depth=20, max_features=0.7, max_leaf_nodes=15, n_estimators=1500 \n",
      "[CV]  max_depth=20, max_features=0.7, max_leaf_nodes=15, n_estimators=1500, score=0.838, total=   1.7s\n",
      "[CV] max_depth=20, max_features=0.7, max_leaf_nodes=15, n_estimators=1500 \n",
      "[CV]  max_depth=20, max_features=0.7, max_leaf_nodes=15, n_estimators=1500, score=0.815, total=   1.7s\n",
      "[CV] max_depth=20, max_features=0.7, max_leaf_nodes=15, n_estimators=2000 \n",
      "[CV]  max_depth=20, max_features=0.7, max_leaf_nodes=15, n_estimators=2000, score=0.801, total=   2.3s\n",
      "[CV] max_depth=20, max_features=0.7, max_leaf_nodes=15, n_estimators=2000 \n",
      "[CV]  max_depth=20, max_features=0.7, max_leaf_nodes=15, n_estimators=2000, score=0.842, total=   2.2s\n",
      "[CV] max_depth=20, max_features=0.7, max_leaf_nodes=15, n_estimators=2000 \n",
      "[CV]  max_depth=20, max_features=0.7, max_leaf_nodes=15, n_estimators=2000, score=0.815, total=   2.3s\n",
      "[CV] max_depth=20, max_features=0.7, max_leaf_nodes=15, n_estimators=2500 \n",
      "[CV]  max_depth=20, max_features=0.7, max_leaf_nodes=15, n_estimators=2500, score=0.808, total=   2.8s\n",
      "[CV] max_depth=20, max_features=0.7, max_leaf_nodes=15, n_estimators=2500 \n",
      "[CV]  max_depth=20, max_features=0.7, max_leaf_nodes=15, n_estimators=2500, score=0.842, total=   2.8s\n",
      "[CV] max_depth=20, max_features=0.7, max_leaf_nodes=15, n_estimators=2500 \n",
      "[CV]  max_depth=20, max_features=0.7, max_leaf_nodes=15, n_estimators=2500, score=0.815, total=   2.8s\n",
      "[CV] max_depth=20, max_features=0.7, max_leaf_nodes=20, n_estimators=1000 \n",
      "[CV]  max_depth=20, max_features=0.7, max_leaf_nodes=20, n_estimators=1000, score=0.808, total=   1.1s\n",
      "[CV] max_depth=20, max_features=0.7, max_leaf_nodes=20, n_estimators=1000 \n",
      "[CV]  max_depth=20, max_features=0.7, max_leaf_nodes=20, n_estimators=1000, score=0.838, total=   1.1s\n",
      "[CV] max_depth=20, max_features=0.7, max_leaf_nodes=20, n_estimators=1000 \n",
      "[CV]  max_depth=20, max_features=0.7, max_leaf_nodes=20, n_estimators=1000, score=0.815, total=   1.1s\n",
      "[CV] max_depth=20, max_features=0.7, max_leaf_nodes=20, n_estimators=1500 \n",
      "[CV]  max_depth=20, max_features=0.7, max_leaf_nodes=20, n_estimators=1500, score=0.795, total=   1.7s\n",
      "[CV] max_depth=20, max_features=0.7, max_leaf_nodes=20, n_estimators=1500 \n",
      "[CV]  max_depth=20, max_features=0.7, max_leaf_nodes=20, n_estimators=1500, score=0.842, total=   1.7s\n",
      "[CV] max_depth=20, max_features=0.7, max_leaf_nodes=20, n_estimators=1500 \n",
      "[CV]  max_depth=20, max_features=0.7, max_leaf_nodes=20, n_estimators=1500, score=0.815, total=   1.7s\n",
      "[CV] max_depth=20, max_features=0.7, max_leaf_nodes=20, n_estimators=2000 \n",
      "[CV]  max_depth=20, max_features=0.7, max_leaf_nodes=20, n_estimators=2000, score=0.808, total=   2.2s\n",
      "[CV] max_depth=20, max_features=0.7, max_leaf_nodes=20, n_estimators=2000 \n",
      "[CV]  max_depth=20, max_features=0.7, max_leaf_nodes=20, n_estimators=2000, score=0.838, total=   2.3s\n",
      "[CV] max_depth=20, max_features=0.7, max_leaf_nodes=20, n_estimators=2000 \n"
     ]
    },
    {
     "name": "stdout",
     "output_type": "stream",
     "text": [
      "[CV]  max_depth=20, max_features=0.7, max_leaf_nodes=20, n_estimators=2000, score=0.815, total=   2.3s\n",
      "[CV] max_depth=20, max_features=0.7, max_leaf_nodes=20, n_estimators=2500 \n",
      "[CV]  max_depth=20, max_features=0.7, max_leaf_nodes=20, n_estimators=2500, score=0.808, total=   2.7s\n",
      "[CV] max_depth=20, max_features=0.7, max_leaf_nodes=20, n_estimators=2500 \n",
      "[CV]  max_depth=20, max_features=0.7, max_leaf_nodes=20, n_estimators=2500, score=0.842, total=   2.7s\n",
      "[CV] max_depth=20, max_features=0.7, max_leaf_nodes=20, n_estimators=2500 \n",
      "[CV]  max_depth=20, max_features=0.7, max_leaf_nodes=20, n_estimators=2500, score=0.815, total=   2.8s\n"
     ]
    },
    {
     "name": "stderr",
     "output_type": "stream",
     "text": [
      "[Parallel(n_jobs=1)]: Done 288 out of 288 | elapsed:  9.0min finished\n"
     ]
    },
    {
     "data": {
      "text/plain": [
       "GridSearchCV(cv=3,\n",
       "             estimator=RandomForestClassifier(max_depth=5, max_features=0.7,\n",
       "                                              max_leaf_nodes=50,\n",
       "                                              min_samples_leaf=15,\n",
       "                                              n_estimators=1000),\n",
       "             param_grid={'max_depth': [5, 10, 15, 20],\n",
       "                         'max_features': [0.5, 0.7],\n",
       "                         'max_leaf_nodes': [10, 15, 20],\n",
       "                         'n_estimators': [1000, 1500, 2000, 2500]},\n",
       "             verbose=3)"
      ]
     },
     "execution_count": 125,
     "metadata": {},
     "output_type": "execute_result"
    }
   ],
   "source": [
    "#4*4*2*3*3=288번의 학습중에 제일 잘나온 것을 찾는 중\n",
    "grid.fit(X_train, y_train)"
   ]
  },
  {
   "cell_type": "code",
   "execution_count": 126,
   "metadata": {},
   "outputs": [
    {
     "name": "stdout",
     "output_type": "stream",
     "text": [
      "최적의 파라미터: {'max_depth': 5, 'max_features': 0.5, 'max_leaf_nodes': 20, 'n_estimators': 2000}\n",
      "최고 예측 점수 :  0.8249158249158249\n"
     ]
    }
   ],
   "source": [
    "#최적의 파라미터\n",
    "print('최적의 파라미터:',grid.best_params_)\n",
    "#최적의 예측점수\n",
    "print('최고 예측 점수 : ',grid.best_score_)"
   ]
  },
  {
   "cell_type": "code",
   "execution_count": 127,
   "metadata": {},
   "outputs": [
    {
     "data": {
      "text/plain": [
       "RandomForestClassifier(max_depth=5, max_features=0.7, max_leaf_nodes=50,\n",
       "                       min_samples_leaf=15, n_estimators=1000)"
      ]
     },
     "execution_count": 127,
     "metadata": {},
     "output_type": "execute_result"
    }
   ],
   "source": [
    "#6-1\n",
    "forest.fit(X_train, y_train)"
   ]
  },
  {
   "cell_type": "code",
   "execution_count": 128,
   "metadata": {},
   "outputs": [],
   "source": [
    "#7-1\n",
    "pre = tree.predict(X_test)\n",
    "result = pd.read_csv('titanic/gender_submission.csv')\n",
    "result['Survived'] = pre\n",
    "result.to_csv('DT_submission_01.csv', index = False)"
   ]
  },
  {
   "cell_type": "code",
   "execution_count": 129,
   "metadata": {},
   "outputs": [],
   "source": [
    "#5-2 knn 모델"
   ]
  },
  {
   "cell_type": "code",
   "execution_count": 130,
   "metadata": {},
   "outputs": [],
   "source": [
    "from sklearn.neighbors import KNeighborsClassifier\n",
    "knn = KNeighborsClassifier()"
   ]
  },
  {
   "cell_type": "code",
   "execution_count": 131,
   "metadata": {},
   "outputs": [
    {
     "data": {
      "text/plain": [
       "KNeighborsClassifier()"
      ]
     },
     "execution_count": 131,
     "metadata": {},
     "output_type": "execute_result"
    }
   ],
   "source": [
    "knn.fit(X_train, y_train)"
   ]
  },
  {
   "cell_type": "code",
   "execution_count": 132,
   "metadata": {},
   "outputs": [],
   "source": [
    "#7-2"
   ]
  },
  {
   "cell_type": "code",
   "execution_count": 133,
   "metadata": {},
   "outputs": [
    {
     "data": {
      "text/plain": [
       "array([0, 0, 0, 0, 0, 0, 0, 1, 0, 0, 0, 0, 1, 0, 1, 1, 0, 0, 1, 0, 0, 1,\n",
       "       1, 1, 1, 0, 1, 0, 1, 0, 1, 1, 1, 1, 1, 0, 1, 1, 0, 1, 0, 0, 0, 1,\n",
       "       1, 0, 0, 0, 1, 1, 1, 0, 1, 1, 0, 0, 0, 0, 0, 1, 0, 0, 0, 1, 1, 0,\n",
       "       1, 0, 0, 1, 0, 0, 0, 0, 1, 1, 0, 0, 0, 0, 1, 1, 1, 0, 0, 0, 1, 1,\n",
       "       0, 1, 1, 0, 1, 0, 0, 0, 1, 0, 1, 0, 1, 0, 0, 0, 1, 0, 0, 0, 0, 0,\n",
       "       0, 1, 1, 1, 1, 0, 0, 1, 1, 1, 1, 0, 1, 0, 0, 0, 0, 1, 1, 0, 0, 0,\n",
       "       1, 0, 0, 0, 0, 0, 1, 0, 0, 1, 1, 1, 0, 0, 0, 0, 0, 1, 1, 0, 0, 1,\n",
       "       0, 0, 1, 1, 0, 0, 1, 1, 0, 0, 1, 0, 1, 0, 1, 1, 0, 0, 0, 0, 0, 0,\n",
       "       0, 1, 0, 1, 0, 1, 1, 0, 1, 0, 1, 0, 0, 0, 1, 0, 0, 0, 0, 0, 1, 1,\n",
       "       0, 0, 1, 1, 1, 1, 0, 0, 0, 0, 1, 0, 0, 0, 0, 0, 0, 0, 1, 1, 1, 0,\n",
       "       1, 0, 0, 0, 0, 1, 0, 1, 0, 0, 1, 1, 0, 0, 1, 0, 1, 0, 0, 0, 0, 1,\n",
       "       1, 0, 0, 0, 1, 0, 1, 1, 1, 0, 1, 0, 0, 0, 0, 0, 0, 0, 1, 0, 0, 1,\n",
       "       0, 0, 0, 0, 1, 0, 1, 0, 1, 1, 0, 1, 0, 0, 0, 0, 1, 1, 1, 1, 1, 0,\n",
       "       0, 1, 0, 0, 0, 0, 0, 1, 0, 0, 1, 0, 0, 0, 0, 0, 0, 0, 1, 0, 1, 1,\n",
       "       1, 0, 0, 0, 0, 0, 1, 1, 1, 0, 1, 1, 0, 0, 0, 1, 1, 0, 0, 1, 1, 0,\n",
       "       0, 1, 0, 1, 1, 1, 0, 0, 1, 0, 0, 0, 1, 1, 0, 1, 0, 0, 0, 0, 1, 0,\n",
       "       0, 1, 1, 1, 1, 0, 0, 0, 0, 0, 0, 0, 1, 1, 0, 0, 1, 0, 0, 1, 0, 1,\n",
       "       1, 1, 1, 0, 0, 0, 0, 0, 1, 1, 0, 1, 0, 0, 0, 0, 1, 0, 0, 0, 0, 1,\n",
       "       0, 1, 0, 0, 1, 0, 1, 0, 0, 0, 0, 1, 1, 1, 1, 1, 0, 0, 1, 0, 0, 0],\n",
       "      dtype=int64)"
      ]
     },
     "execution_count": 133,
     "metadata": {},
     "output_type": "execute_result"
    }
   ],
   "source": [
    "knn.predict(X_test)"
   ]
  },
  {
   "cell_type": "code",
   "execution_count": 134,
   "metadata": {},
   "outputs": [],
   "source": [
    "#5-3 voting"
   ]
  },
  {
   "cell_type": "code",
   "execution_count": 135,
   "metadata": {},
   "outputs": [],
   "source": [
    "from sklearn.ensemble import VotingClassifier\n",
    "voting = VotingClassifier(\n",
    "   estimators = [\n",
    "       ('knn_model', knn),\n",
    "       ('tree_model', tree),\n",
    "       ('forest_model', forest)\n",
    "       \n",
    "       \n",
    "   ],\n",
    "    voting = 'soft'\n",
    "\n",
    ")"
   ]
  },
  {
   "cell_type": "code",
   "execution_count": 136,
   "metadata": {},
   "outputs": [],
   "source": [
    "#6-3\n"
   ]
  },
  {
   "cell_type": "code",
   "execution_count": 137,
   "metadata": {},
   "outputs": [
    {
     "data": {
      "text/plain": [
       "VotingClassifier(estimators=[('knn_model', KNeighborsClassifier()),\n",
       "                             ('tree_model',\n",
       "                              DecisionTreeClassifier(max_depth=4)),\n",
       "                             ('forest_model',\n",
       "                              RandomForestClassifier(max_depth=5,\n",
       "                                                     max_features=0.7,\n",
       "                                                     max_leaf_nodes=50,\n",
       "                                                     min_samples_leaf=15,\n",
       "                                                     n_estimators=1000))],\n",
       "                 voting='soft')"
      ]
     },
     "execution_count": 137,
     "metadata": {},
     "output_type": "execute_result"
    }
   ],
   "source": [
    "voting.fit(X_train,y_train)"
   ]
  },
  {
   "cell_type": "code",
   "execution_count": 138,
   "metadata": {},
   "outputs": [],
   "source": [
    "#7-3"
   ]
  },
  {
   "cell_type": "code",
   "execution_count": 139,
   "metadata": {},
   "outputs": [],
   "source": [
    "pre = tree.predict(X_test)\n",
    "result = pd.read_csv('titanic/gender_submission.csv')\n",
    "result['Survived'] = pre\n",
    "result.to_csv('DT_submission_01.csv', index = False)"
   ]
  },
  {
   "cell_type": "code",
   "execution_count": 140,
   "metadata": {},
   "outputs": [],
   "source": [
    "#6-4\n",
    "#adaboost"
   ]
  },
  {
   "cell_type": "code",
   "execution_count": 141,
   "metadata": {},
   "outputs": [],
   "source": [
    "from sklearn.ensemble import AdaBoostClassifier"
   ]
  },
  {
   "cell_type": "code",
   "execution_count": 142,
   "metadata": {},
   "outputs": [],
   "source": [
    "adaboost = AdaBoostClassifier()"
   ]
  },
  {
   "cell_type": "markdown",
   "metadata": {},
   "source": [
    "#### 6-4"
   ]
  },
  {
   "cell_type": "code",
   "execution_count": 143,
   "metadata": {},
   "outputs": [
    {
     "data": {
      "text/plain": [
       "AdaBoostClassifier()"
      ]
     },
     "execution_count": 143,
     "metadata": {},
     "output_type": "execute_result"
    }
   ],
   "source": [
    "adaboost.fit(X_train,y_train)"
   ]
  },
  {
   "cell_type": "code",
   "execution_count": 144,
   "metadata": {},
   "outputs": [],
   "source": [
    "#7-4"
   ]
  },
  {
   "cell_type": "code",
   "execution_count": 145,
   "metadata": {},
   "outputs": [],
   "source": [
    "pre = tree.predict(X_test)\n",
    "result = pd.read_csv('titanic/gender_submission.csv')\n",
    "result['Survived'] = pre\n",
    "result.to_csv('DT_submission_01.csv', index = False)"
   ]
  },
  {
   "cell_type": "code",
   "execution_count": 146,
   "metadata": {},
   "outputs": [],
   "source": [
    "#5-5 GRADIENTBOOSTING"
   ]
  },
  {
   "cell_type": "code",
   "execution_count": 147,
   "metadata": {},
   "outputs": [],
   "source": [
    "from sklearn.ensemble import GradientBoostingClassifier\n",
    "gbc = GradientBoostingClassifier()"
   ]
  },
  {
   "cell_type": "code",
   "execution_count": 148,
   "metadata": {},
   "outputs": [
    {
     "data": {
      "text/plain": [
       "GradientBoostingClassifier()"
      ]
     },
     "execution_count": 148,
     "metadata": {},
     "output_type": "execute_result"
    }
   ],
   "source": [
    "gbc.fit(X_train, y_train)"
   ]
  },
  {
   "cell_type": "code",
   "execution_count": 149,
   "metadata": {},
   "outputs": [],
   "source": [
    "pre=gbc.predict(X_test)\n",
    "result = pd.read_csv('titanic/gender_submission.csv')\n",
    "result['Survived'] = pre\n",
    "result.to_csv('DT_submission_01.csv', index = False)"
   ]
  },
  {
   "cell_type": "code",
   "execution_count": null,
   "metadata": {},
   "outputs": [],
   "source": []
  },
  {
   "cell_type": "code",
   "execution_count": null,
   "metadata": {},
   "outputs": [],
   "source": []
  },
  {
   "cell_type": "code",
   "execution_count": null,
   "metadata": {},
   "outputs": [],
   "source": []
  },
  {
   "cell_type": "code",
   "execution_count": null,
   "metadata": {},
   "outputs": [],
   "source": []
  },
  {
   "cell_type": "code",
   "execution_count": null,
   "metadata": {},
   "outputs": [],
   "source": []
  }
 ],
 "metadata": {
  "kernelspec": {
   "display_name": "Python 3",
   "language": "python",
   "name": "python3"
  },
  "language_info": {
   "codemirror_mode": {
    "name": "ipython",
    "version": 3
   },
   "file_extension": ".py",
   "mimetype": "text/x-python",
   "name": "python",
   "nbconvert_exporter": "python",
   "pygments_lexer": "ipython3",
   "version": "3.8.5"
  }
 },
 "nbformat": 4,
 "nbformat_minor": 4
}
